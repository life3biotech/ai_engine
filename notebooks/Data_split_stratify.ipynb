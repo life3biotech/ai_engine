{
 "cells": [
  {
   "cell_type": "code",
   "execution_count": 1,
   "metadata": {},
   "outputs": [],
   "source": [
    "import numpy as np\n",
    "import pandas as pd\n"
   ]
  },
  {
   "cell_type": "markdown",
   "metadata": {},
   "source": [
    "# 1. Combine all images and create a dataframe for original image"
   ]
  },
  {
   "cell_type": "code",
   "execution_count": 162,
   "metadata": {},
   "outputs": [],
   "source": [
    "file_path_list=[\"/Users/dylanpoh/Documents/AIsingapore/GitHub/data/life3-aut0/20220224_1032621/images 1-7 revised/annotations/instances_default.json\"\n",
    " ,\"/Users/dylanpoh/Documents/AIsingapore/GitHub/data/life3-aut0/20220224_1032621/images 8-24 revised/annotations/instances_default.json\"\n",
    " ,\"/Users/dylanpoh/Documents/AIsingapore/GitHub/data/life3-aut0/20220224_1032621/images 25-35 revised/annotations/instances_default.json\"\n",
    " ,\"/Users/dylanpoh/Documents/AIsingapore/GitHub/data/life3-aut0/20220224_1032621/images 36-55 revised/annotations/instances_default.json\"\n",
    " ,\"/Users/dylanpoh/Documents/AIsingapore/GitHub/data/life3-aut0/20220224_1032621/images 56-75 revised/annotations/instances_default.json\"\n",
    " ,\"/Users/dylanpoh/Documents/AIsingapore/GitHub/data/life3-aut0/20220224_1032621/images 76-100 revised/annotations/instances_default.json\"]"
   ]
  },
  {
   "cell_type": "code",
   "execution_count": 163,
   "metadata": {},
   "outputs": [],
   "source": [
    "from pathlib import Path, PurePath\n",
    "from typing import Dict, List, Tuple\n",
    "from json import load\n",
    "\n",
    "def _load_coco_annotations(path_to_coco_annot: PurePath) -> Dict:\n",
    "    \"\"\"\n",
    "    Loads COCO annotations from the file path provided.\n",
    "\n",
    "    Args:\n",
    "        path_to_coco_annot (PurePath): File path to COCO annotations file\n",
    "\n",
    "    Returns:\n",
    "        A dictionary representation of the COCO annotations file.\n",
    "    \"\"\"\n",
    "    with open(path_to_coco_annot, \"r\") as f:\n",
    "        coco_annotation = load(f)\n",
    "\n",
    "    return coco_annotation"
   ]
  },
  {
   "cell_type": "code",
   "execution_count": 164,
   "metadata": {},
   "outputs": [
    {
     "name": "stdout",
     "output_type": "stream",
     "text": [
      "Number of annotations: 4281\n",
      "Number of annotations: 2686\n",
      "Number of annotations: 1182\n",
      "Number of annotations: 3030\n",
      "Number of annotations: 3327\n",
      "Number of annotations: 3234\n"
     ]
    }
   ],
   "source": [
    "df_concat_list = []\n",
    "\n",
    "#_convert_raw_annotations\n",
    "for annot_file_path in file_path_list:\n",
    "    coco_annotations = _load_coco_annotations(annot_file_path)\n",
    "\n",
    "    image_info = coco_annotations[\"images\"]\n",
    "    df_images = pd.DataFrame(image_info)\n",
    "    df_images.set_index(\"id\", inplace=True)\n",
    "    # df_images.drop(\n",
    "    #     labels=[\"license\", \"flickr_url\", \"coco_url\", \"date_captured\"],\n",
    "    #     axis=1,\n",
    "    #     inplace=True,\n",
    "    # )\n",
    "\n",
    "    categories_mapping = coco_annotations[\"categories\"]\n",
    "    df_cat = pd.DataFrame(categories_mapping)\n",
    "    df_cat.rename(mapper={\"name\": \"category_name\"}, axis=1, inplace=True)\n",
    "    df_cat.drop(labels=[\"supercategory\"], axis=1, inplace=True)\n",
    "\n",
    "    annotations = coco_annotations[\"annotations\"]\n",
    "    print(f\"Number of annotations: {len(annotations)}\")\n",
    "    df_annot = pd.DataFrame(annotations)\n",
    "    df_annot.set_index(\"id\", inplace=True)\n",
    "    df_annot.drop(\n",
    "        # labels=[\"segmentation\", \"iscrowd\", \"attributes\"], axis=1, inplace=True\n",
    "        labels=[\"segmentation\", \"iscrowd\"],\n",
    "        axis=1,\n",
    "        inplace=True,\n",
    "    )\n",
    "\n",
    "    final_df = df_annot.merge(df_images, left_on=\"image_id\", right_on=\"id\")\n",
    "    final_df = final_df.merge(df_cat, left_on=\"category_id\", right_on=\"id\")\n",
    "    final_df.drop(labels=[\"id\"], axis=1, inplace=True)\n",
    "    df_concat_list.append(final_df)"
   ]
  },
  {
   "cell_type": "code",
   "execution_count": 5,
   "metadata": {},
   "outputs": [
    {
     "data": {
      "text/plain": [
       "[      image_id  category_id       area                             bbox  \\\n",
       " 0            1            1    96.2000     [1076.49, 1072.6, 13.0, 7.4]   \n",
       " 1            1            1   258.2250     [1149.7, 972.5, 15.65, 16.5]   \n",
       " 2            1            1   121.2000    [1104.44, 904.66, 12.0, 10.1]   \n",
       " 3            1            1   210.0000    [1194.39, 843.98, 15.0, 14.0]   \n",
       " 4            1            1   152.9500    [1057.62, 681.55, 11.5, 13.3]   \n",
       " ...        ...          ...        ...                              ...   \n",
       " 4276         7            3   730.0020      [786.1, 293.5, 24.83, 29.4]   \n",
       " 4277         7            3  2186.6645   [802.19, 403.37, 57.65, 37.93]   \n",
       " 4278         7            3  1855.2402   [1246.3, 480.62, 46.98, 39.49]   \n",
       " 4279         7            3  1207.7668  [1216.76, 196.93, 32.66, 36.98]   \n",
       " 4280         7            2  2128.1984    [748.75, 248.4, 61.12, 34.82]   \n",
       " \n",
       "                attributes  width  height  \\\n",
       " 0     {'occluded': False}   1920    1080   \n",
       " 1     {'occluded': False}   1920    1080   \n",
       " 2     {'occluded': False}   1920    1080   \n",
       " 3     {'occluded': False}   1920    1080   \n",
       " 4     {'occluded': False}   1920    1080   \n",
       " ...                   ...    ...     ...   \n",
       " 4276  {'occluded': False}   1920    1080   \n",
       " 4277  {'occluded': False}   1920    1080   \n",
       " 4278  {'occluded': False}   1920    1080   \n",
       " 4279  {'occluded': False}   1920    1080   \n",
       " 4280  {'occluded': False}   1920    1080   \n",
       " \n",
       "                                               file_name  license flickr_url  \\\n",
       " 0     7 c4 from agar plate 100mL bottle d1 20x undil...        0              \n",
       " 1     7 c4 from agar plate 100mL bottle d1 20x undil...        0              \n",
       " 2     7 c4 from agar plate 100mL bottle d1 20x undil...        0              \n",
       " 3     7 c4 from agar plate 100mL bottle d1 20x undil...        0              \n",
       " 4     7 c4 from agar plate 100mL bottle d1 20x undil...        0              \n",
       " ...                                                 ...      ...        ...   \n",
       " 4276                    1 c0.7L d5 20x undilut OD15.jpg        0              \n",
       " 4277                    1 c0.7L d5 20x undilut OD15.jpg        0              \n",
       " 4278                    1 c0.7L d5 20x undilut OD15.jpg        0              \n",
       " 4279                    1 c0.7L d5 20x undilut OD15.jpg        0              \n",
       " 4280                    1 c0.7L d5 20x undilut OD15.jpg        0              \n",
       " \n",
       "      coco_url  date_captured                    category_name  \n",
       " 0                          0                            Cells  \n",
       " 1                          0                            Cells  \n",
       " 2                          0                            Cells  \n",
       " 3                          0                            Cells  \n",
       " 4                          0                            Cells  \n",
       " ...       ...            ...                              ...  \n",
       " 4276                       0  cell accumulation (large cells)  \n",
       " 4277                       0  cell accumulation (large cells)  \n",
       " 4278                       0  cell accumulation (large cells)  \n",
       " 4279                       0  cell accumulation (large cells)  \n",
       " 4280                       0  cell accumulation (small cells)  \n",
       " \n",
       " [4281 rows x 13 columns],\n",
       "       image_id  category_id       area                            bbox  \\\n",
       " 0            1            1   147.1360  [1753.74, 640.34, 12.16, 12.1]   \n",
       " 1            1            1   159.9000   [1668.94, 534.87, 12.3, 13.0]   \n",
       " 2            1            1   111.5640   [1648.3, 536.97, 10.8, 10.33]   \n",
       " 3            1            1   189.4280   [1535.0, 598.76, 14.2, 13.34]   \n",
       " 4            1            1   180.8400    [1604.0, 519.49, 13.2, 13.7]   \n",
       " ...        ...          ...        ...                             ...   \n",
       " 2681        16            3   368.4800    [1137.04, 753.5, 19.6, 18.8]   \n",
       " 2682        16            3   366.2260    [1665.38, 90.0, 20.2, 18.13]   \n",
       " 2683        17            3   316.2000     [1111.6, 89.62, 18.6, 17.0]   \n",
       " 2684        17            3  1142.1000     [1795.1, 134.0, 40.5, 28.2]   \n",
       " 2685         9            2   839.2344   [1757.9, 631.5, 21.36, 39.29]   \n",
       " \n",
       "                attributes  width  height file_name  license flickr_url  \\\n",
       " 0     {'occluded': False}   1920    1080     9.jpg        0              \n",
       " 1     {'occluded': False}   1920    1080     9.jpg        0              \n",
       " 2     {'occluded': False}   1920    1080     9.jpg        0              \n",
       " 3     {'occluded': False}   1920    1080     9.jpg        0              \n",
       " 4     {'occluded': False}   1920    1080     9.jpg        0              \n",
       " ...                   ...    ...     ...       ...      ...        ...   \n",
       " 2681  {'occluded': False}   1920    1080    11.jpg        0              \n",
       " 2682  {'occluded': False}   1920    1080    11.jpg        0              \n",
       " 2683  {'occluded': False}   1920    1080    10.jpg        0              \n",
       " 2684  {'occluded': False}   1920    1080    10.jpg        0              \n",
       " 2685  {'occluded': False}   1920    1080    18.jpg        0              \n",
       " \n",
       "      coco_url  date_captured                    category_name  \n",
       " 0                          0                            Cells  \n",
       " 1                          0                            Cells  \n",
       " 2                          0                            Cells  \n",
       " 3                          0                            Cells  \n",
       " 4                          0                            Cells  \n",
       " ...       ...            ...                              ...  \n",
       " 2681                       0  cell accumulation (large cells)  \n",
       " 2682                       0  cell accumulation (large cells)  \n",
       " 2683                       0  cell accumulation (large cells)  \n",
       " 2684                       0  cell accumulation (large cells)  \n",
       " 2685                       0  cell accumulation (small cells)  \n",
       " \n",
       " [2686 rows x 13 columns],\n",
       "       image_id  category_id      area                            bbox  \\\n",
       " 0            1            1   119.900   [1604.01, 706.82, 10.9, 11.0]   \n",
       " 1            1            1   241.800   [1520.84, 778.87, 15.6, 15.5]   \n",
       " 2            1            1   133.400   [1482.14, 831.06, 11.6, 11.5]   \n",
       " 3            1            1   158.710   [1539.7, 877.44, 13.45, 11.8]   \n",
       " 4            1            1   180.200   [1656.06, 803.15, 17.0, 10.6]   \n",
       " ...        ...          ...       ...                             ...   \n",
       " 1177         6            3   442.680    [414.96, 276.65, 23.8, 18.6]   \n",
       " 1178         7            3   459.360    [743.63, 545.27, 19.8, 23.2]   \n",
       " 1179         7            3  1295.230    [424.42, 921.91, 32.3, 40.1]   \n",
       " 1180         8            3  1354.740     [1389.8, 251.1, 40.2, 33.7]   \n",
       " 1181         8            3  1154.736  [1688.21, 136.74, 35.64, 32.4]   \n",
       " \n",
       "                attributes  width  height file_name  license flickr_url  \\\n",
       " 0     {'occluded': False}   1920    1080    35.jpg        0              \n",
       " 1     {'occluded': False}   1920    1080    35.jpg        0              \n",
       " 2     {'occluded': False}   1920    1080    35.jpg        0              \n",
       " 3     {'occluded': False}   1920    1080    35.jpg        0              \n",
       " 4     {'occluded': False}   1920    1080    35.jpg        0              \n",
       " ...                   ...    ...     ...       ...      ...        ...   \n",
       " 1177  {'occluded': False}   1920    1080    30.jpg        0              \n",
       " 1178  {'occluded': False}   1920    1080    29.jpg        0              \n",
       " 1179  {'occluded': False}   1920    1080    29.jpg        0              \n",
       " 1180  {'occluded': False}   1920    1080    28.jpg        0              \n",
       " 1181  {'occluded': False}   1920    1080    28.jpg        0              \n",
       " \n",
       "      coco_url  date_captured                    category_name  \n",
       " 0                          0                            Cells  \n",
       " 1                          0                            Cells  \n",
       " 2                          0                            Cells  \n",
       " 3                          0                            Cells  \n",
       " 4                          0                            Cells  \n",
       " ...       ...            ...                              ...  \n",
       " 1177                       0  cell accumulation (large cells)  \n",
       " 1178                       0  cell accumulation (large cells)  \n",
       " 1179                       0  cell accumulation (large cells)  \n",
       " 1180                       0  cell accumulation (large cells)  \n",
       " 1181                       0  cell accumulation (large cells)  \n",
       " \n",
       " [1182 rows x 13 columns],\n",
       "       image_id  category_id       area                            bbox  \\\n",
       " 0            1            1   254.3400    [929.35, 347.72, 15.7, 16.2]   \n",
       " 1            1            1   200.8300    [898.51, 268.14, 13.3, 15.1]   \n",
       " 2            1            1   175.1400      [816.0, 226.4, 12.6, 13.9]   \n",
       " 3            1            1   226.9530   [834.49, 150.77, 15.1, 15.03]   \n",
       " 4            1            1   268.8000     [817.64, 99.86, 16.0, 16.8]   \n",
       " ...        ...          ...        ...                             ...   \n",
       " 3025        20            3  1804.8096  [247.91, 425.53, 50.64, 35.64]   \n",
       " 3026        20            3  1224.5100   [1134.55, 426.94, 35.7, 34.3]   \n",
       " 3027        20            3   824.4630   [917.01, 676.83, 27.21, 30.3]   \n",
       " 3028        13            2   291.4300     [1368.5, 620.9, 15.1, 19.3]   \n",
       " 3029        13            2   794.9480   [1355.92, 653.0, 35.6, 22.33]   \n",
       " \n",
       "                attributes  width  height file_name  license flickr_url  \\\n",
       " 0     {'occluded': False}   1920    1080    55.jpg        0              \n",
       " 1     {'occluded': False}   1920    1080    55.jpg        0              \n",
       " 2     {'occluded': False}   1920    1080    55.jpg        0              \n",
       " 3     {'occluded': False}   1920    1080    55.jpg        0              \n",
       " 4     {'occluded': False}   1920    1080    55.jpg        0              \n",
       " ...                   ...    ...     ...       ...      ...        ...   \n",
       " 3025  {'occluded': False}   1920    1080    36.jpg        0              \n",
       " 3026  {'occluded': False}   1920    1080    36.jpg        0              \n",
       " 3027  {'occluded': False}   1920    1080    36.jpg        0              \n",
       " 3028  {'occluded': False}   1920    1080    43.jpg        0              \n",
       " 3029  {'occluded': False}   1920    1080    43.jpg        0              \n",
       " \n",
       "      coco_url  date_captured                    category_name  \n",
       " 0                          0                            Cells  \n",
       " 1                          0                            Cells  \n",
       " 2                          0                            Cells  \n",
       " 3                          0                            Cells  \n",
       " 4                          0                            Cells  \n",
       " ...       ...            ...                              ...  \n",
       " 3025                       0  cell accumulation (large cells)  \n",
       " 3026                       0  cell accumulation (large cells)  \n",
       " 3027                       0  cell accumulation (large cells)  \n",
       " 3028                       0  cell accumulation (small cells)  \n",
       " 3029                       0  cell accumulation (small cells)  \n",
       " \n",
       " [3030 rows x 13 columns],\n",
       "       image_id  category_id       area                             bbox  \\\n",
       " 0            1            2   513.7825   [230.16, 398.28, 29.75, 17.27]   \n",
       " 1            1            2   276.5184   [623.55, 757.42, 15.16, 18.24]   \n",
       " 2            2            2   486.4913   [509.27, 755.79, 19.93, 24.41]   \n",
       " 3            2            2   304.2384  [1860.37, 322.34, 21.04, 14.46]   \n",
       " 4            2            2   355.7148  [1079.66, 524.33, 14.84, 23.97]   \n",
       " ...        ...          ...        ...                              ...   \n",
       " 3322        19            3   167.1800       [0.0, 1009.97, 6.43, 26.0]   \n",
       " 3323        20            3   826.2600      [351.16, 276.9, 29.3, 28.2]   \n",
       " 3324        20            3  1614.6336   [792.02, 608.51, 42.58, 37.92]   \n",
       " 3325        20            3   914.8394    [1617.2, 776.2, 29.53, 30.98]   \n",
       " 3326        20            3  1071.0480    [1819.3, 281.95, 40.57, 26.4]   \n",
       " \n",
       "                attributes  width  height file_name  license flickr_url  \\\n",
       " 0     {'occluded': False}   1920    1080    75.jpg        0              \n",
       " 1     {'occluded': False}   1920    1080    75.jpg        0              \n",
       " 2     {'occluded': False}   1920    1080    74.jpg        0              \n",
       " 3     {'occluded': False}   1920    1080    74.jpg        0              \n",
       " 4     {'occluded': False}   1920    1080    74.jpg        0              \n",
       " ...                   ...    ...     ...       ...      ...        ...   \n",
       " 3322  {'occluded': False}   1920    1080    57.jpg        0              \n",
       " 3323  {'occluded': False}   1920    1080    56.jpg        0              \n",
       " 3324  {'occluded': False}   1920    1080    56.jpg        0              \n",
       " 3325  {'occluded': False}   1920    1080    56.jpg        0              \n",
       " 3326  {'occluded': False}   1920    1080    56.jpg        0              \n",
       " \n",
       "      coco_url  date_captured                    category_name  \n",
       " 0                          0  cell accumulation (small cells)  \n",
       " 1                          0  cell accumulation (small cells)  \n",
       " 2                          0  cell accumulation (small cells)  \n",
       " 3                          0  cell accumulation (small cells)  \n",
       " 4                          0  cell accumulation (small cells)  \n",
       " ...       ...            ...                              ...  \n",
       " 3322                       0  cell accumulation (large cells)  \n",
       " 3323                       0  cell accumulation (large cells)  \n",
       " 3324                       0  cell accumulation (large cells)  \n",
       " 3325                       0  cell accumulation (large cells)  \n",
       " 3326                       0  cell accumulation (large cells)  \n",
       " \n",
       " [3327 rows x 13 columns],\n",
       "       image_id  category_id      area                            bbox  \\\n",
       " 0            1            1   461.890   [1758.59, 273.07, 20.9, 22.1]   \n",
       " 1            1            1   406.600  [1759.09, 249.67, 20.0, 20.33]   \n",
       " 2            1            1   483.460   [1844.28, 144.9, 21.02, 23.0]   \n",
       " 3            1            1   705.695  [1599.97, 118.63, 26.63, 26.5]   \n",
       " 4            1            1   712.612  [1492.65, 139.89, 26.59, 26.8]   \n",
       " ...        ...          ...       ...                             ...   \n",
       " 3229        19            3   256.289  [1620.04, 190.3, 20.26, 12.65]   \n",
       " 3230        20            3   596.960     [1839.4, 708.2, 32.8, 18.2]   \n",
       " 3231        22            3  1518.440    [966.92, 442.68, 40.6, 37.4]   \n",
       " 3232        23            3  1417.400    [884.28, 446.39, 38.0, 37.3]   \n",
       " 3233        23            3   563.200     [992.79, 61.75, 25.6, 22.0]   \n",
       " \n",
       "                attributes  width  height file_name  license flickr_url  \\\n",
       " 0     {'occluded': False}   1920    1080    99.jpg        0              \n",
       " 1     {'occluded': False}   1920    1080    99.jpg        0              \n",
       " 2     {'occluded': False}   1920    1080    99.jpg        0              \n",
       " 3     {'occluded': False}   1920    1080    99.jpg        0              \n",
       " 4     {'occluded': False}   1920    1080    99.jpg        0              \n",
       " ...                   ...    ...     ...       ...      ...        ...   \n",
       " 3229  {'occluded': False}   1920    1080    81.jpg        0              \n",
       " 3230  {'occluded': False}   1920    1080    80.jpg        0              \n",
       " 3231  {'occluded': False}   1920    1080    78.jpg        0              \n",
       " 3232  {'occluded': False}   1920    1080    77.jpg        0              \n",
       " 3233  {'occluded': False}   1920    1080    77.jpg        0              \n",
       " \n",
       "      coco_url  date_captured                    category_name  \n",
       " 0                          0                            Cells  \n",
       " 1                          0                            Cells  \n",
       " 2                          0                            Cells  \n",
       " 3                          0                            Cells  \n",
       " 4                          0                            Cells  \n",
       " ...       ...            ...                              ...  \n",
       " 3229                       0  cell accumulation (large cells)  \n",
       " 3230                       0  cell accumulation (large cells)  \n",
       " 3231                       0  cell accumulation (large cells)  \n",
       " 3232                       0  cell accumulation (large cells)  \n",
       " 3233                       0  cell accumulation (large cells)  \n",
       " \n",
       " [3234 rows x 13 columns]]"
      ]
     },
     "metadata": {},
     "output_type": "display_data"
    }
   ],
   "source": [
    "display(df_concat_list)"
   ]
  },
  {
   "cell_type": "code",
   "execution_count": 6,
   "metadata": {},
   "outputs": [
    {
     "data": {
      "text/html": [
       "<div>\n",
       "<style scoped>\n",
       "    .dataframe tbody tr th:only-of-type {\n",
       "        vertical-align: middle;\n",
       "    }\n",
       "\n",
       "    .dataframe tbody tr th {\n",
       "        vertical-align: top;\n",
       "    }\n",
       "\n",
       "    .dataframe thead th {\n",
       "        text-align: right;\n",
       "    }\n",
       "</style>\n",
       "<table border=\"1\" class=\"dataframe\">\n",
       "  <thead>\n",
       "    <tr style=\"text-align: right;\">\n",
       "      <th></th>\n",
       "      <th>image_id</th>\n",
       "      <th>category_id</th>\n",
       "      <th>area</th>\n",
       "      <th>bbox</th>\n",
       "      <th>attributes</th>\n",
       "      <th>width</th>\n",
       "      <th>height</th>\n",
       "      <th>file_name</th>\n",
       "      <th>license</th>\n",
       "      <th>flickr_url</th>\n",
       "      <th>coco_url</th>\n",
       "      <th>date_captured</th>\n",
       "      <th>category_name</th>\n",
       "    </tr>\n",
       "  </thead>\n",
       "  <tbody>\n",
       "    <tr>\n",
       "      <th>0</th>\n",
       "      <td>1</td>\n",
       "      <td>1</td>\n",
       "      <td>96.200</td>\n",
       "      <td>[1076.49, 1072.6, 13.0, 7.4]</td>\n",
       "      <td>{'occluded': False}</td>\n",
       "      <td>1920</td>\n",
       "      <td>1080</td>\n",
       "      <td>7 c4 from agar plate 100mL bottle d1 20x undil...</td>\n",
       "      <td>0</td>\n",
       "      <td></td>\n",
       "      <td></td>\n",
       "      <td>0</td>\n",
       "      <td>Cells</td>\n",
       "    </tr>\n",
       "    <tr>\n",
       "      <th>1</th>\n",
       "      <td>1</td>\n",
       "      <td>1</td>\n",
       "      <td>258.225</td>\n",
       "      <td>[1149.7, 972.5, 15.65, 16.5]</td>\n",
       "      <td>{'occluded': False}</td>\n",
       "      <td>1920</td>\n",
       "      <td>1080</td>\n",
       "      <td>7 c4 from agar plate 100mL bottle d1 20x undil...</td>\n",
       "      <td>0</td>\n",
       "      <td></td>\n",
       "      <td></td>\n",
       "      <td>0</td>\n",
       "      <td>Cells</td>\n",
       "    </tr>\n",
       "    <tr>\n",
       "      <th>2</th>\n",
       "      <td>1</td>\n",
       "      <td>1</td>\n",
       "      <td>121.200</td>\n",
       "      <td>[1104.44, 904.66, 12.0, 10.1]</td>\n",
       "      <td>{'occluded': False}</td>\n",
       "      <td>1920</td>\n",
       "      <td>1080</td>\n",
       "      <td>7 c4 from agar plate 100mL bottle d1 20x undil...</td>\n",
       "      <td>0</td>\n",
       "      <td></td>\n",
       "      <td></td>\n",
       "      <td>0</td>\n",
       "      <td>Cells</td>\n",
       "    </tr>\n",
       "    <tr>\n",
       "      <th>3</th>\n",
       "      <td>1</td>\n",
       "      <td>1</td>\n",
       "      <td>210.000</td>\n",
       "      <td>[1194.39, 843.98, 15.0, 14.0]</td>\n",
       "      <td>{'occluded': False}</td>\n",
       "      <td>1920</td>\n",
       "      <td>1080</td>\n",
       "      <td>7 c4 from agar plate 100mL bottle d1 20x undil...</td>\n",
       "      <td>0</td>\n",
       "      <td></td>\n",
       "      <td></td>\n",
       "      <td>0</td>\n",
       "      <td>Cells</td>\n",
       "    </tr>\n",
       "    <tr>\n",
       "      <th>4</th>\n",
       "      <td>1</td>\n",
       "      <td>1</td>\n",
       "      <td>152.950</td>\n",
       "      <td>[1057.62, 681.55, 11.5, 13.3]</td>\n",
       "      <td>{'occluded': False}</td>\n",
       "      <td>1920</td>\n",
       "      <td>1080</td>\n",
       "      <td>7 c4 from agar plate 100mL bottle d1 20x undil...</td>\n",
       "      <td>0</td>\n",
       "      <td></td>\n",
       "      <td></td>\n",
       "      <td>0</td>\n",
       "      <td>Cells</td>\n",
       "    </tr>\n",
       "    <tr>\n",
       "      <th>...</th>\n",
       "      <td>...</td>\n",
       "      <td>...</td>\n",
       "      <td>...</td>\n",
       "      <td>...</td>\n",
       "      <td>...</td>\n",
       "      <td>...</td>\n",
       "      <td>...</td>\n",
       "      <td>...</td>\n",
       "      <td>...</td>\n",
       "      <td>...</td>\n",
       "      <td>...</td>\n",
       "      <td>...</td>\n",
       "      <td>...</td>\n",
       "    </tr>\n",
       "    <tr>\n",
       "      <th>17735</th>\n",
       "      <td>19</td>\n",
       "      <td>3</td>\n",
       "      <td>256.289</td>\n",
       "      <td>[1620.04, 190.3, 20.26, 12.65]</td>\n",
       "      <td>{'occluded': False}</td>\n",
       "      <td>1920</td>\n",
       "      <td>1080</td>\n",
       "      <td>81.jpg</td>\n",
       "      <td>0</td>\n",
       "      <td></td>\n",
       "      <td></td>\n",
       "      <td>0</td>\n",
       "      <td>cell accumulation (large cells)</td>\n",
       "    </tr>\n",
       "    <tr>\n",
       "      <th>17736</th>\n",
       "      <td>20</td>\n",
       "      <td>3</td>\n",
       "      <td>596.960</td>\n",
       "      <td>[1839.4, 708.2, 32.8, 18.2]</td>\n",
       "      <td>{'occluded': False}</td>\n",
       "      <td>1920</td>\n",
       "      <td>1080</td>\n",
       "      <td>80.jpg</td>\n",
       "      <td>0</td>\n",
       "      <td></td>\n",
       "      <td></td>\n",
       "      <td>0</td>\n",
       "      <td>cell accumulation (large cells)</td>\n",
       "    </tr>\n",
       "    <tr>\n",
       "      <th>17737</th>\n",
       "      <td>22</td>\n",
       "      <td>3</td>\n",
       "      <td>1518.440</td>\n",
       "      <td>[966.92, 442.68, 40.6, 37.4]</td>\n",
       "      <td>{'occluded': False}</td>\n",
       "      <td>1920</td>\n",
       "      <td>1080</td>\n",
       "      <td>78.jpg</td>\n",
       "      <td>0</td>\n",
       "      <td></td>\n",
       "      <td></td>\n",
       "      <td>0</td>\n",
       "      <td>cell accumulation (large cells)</td>\n",
       "    </tr>\n",
       "    <tr>\n",
       "      <th>17738</th>\n",
       "      <td>23</td>\n",
       "      <td>3</td>\n",
       "      <td>1417.400</td>\n",
       "      <td>[884.28, 446.39, 38.0, 37.3]</td>\n",
       "      <td>{'occluded': False}</td>\n",
       "      <td>1920</td>\n",
       "      <td>1080</td>\n",
       "      <td>77.jpg</td>\n",
       "      <td>0</td>\n",
       "      <td></td>\n",
       "      <td></td>\n",
       "      <td>0</td>\n",
       "      <td>cell accumulation (large cells)</td>\n",
       "    </tr>\n",
       "    <tr>\n",
       "      <th>17739</th>\n",
       "      <td>23</td>\n",
       "      <td>3</td>\n",
       "      <td>563.200</td>\n",
       "      <td>[992.79, 61.75, 25.6, 22.0]</td>\n",
       "      <td>{'occluded': False}</td>\n",
       "      <td>1920</td>\n",
       "      <td>1080</td>\n",
       "      <td>77.jpg</td>\n",
       "      <td>0</td>\n",
       "      <td></td>\n",
       "      <td></td>\n",
       "      <td>0</td>\n",
       "      <td>cell accumulation (large cells)</td>\n",
       "    </tr>\n",
       "  </tbody>\n",
       "</table>\n",
       "<p>17740 rows × 13 columns</p>\n",
       "</div>"
      ],
      "text/plain": [
       "       image_id  category_id      area                            bbox  \\\n",
       "0             1            1    96.200    [1076.49, 1072.6, 13.0, 7.4]   \n",
       "1             1            1   258.225    [1149.7, 972.5, 15.65, 16.5]   \n",
       "2             1            1   121.200   [1104.44, 904.66, 12.0, 10.1]   \n",
       "3             1            1   210.000   [1194.39, 843.98, 15.0, 14.0]   \n",
       "4             1            1   152.950   [1057.62, 681.55, 11.5, 13.3]   \n",
       "...         ...          ...       ...                             ...   \n",
       "17735        19            3   256.289  [1620.04, 190.3, 20.26, 12.65]   \n",
       "17736        20            3   596.960     [1839.4, 708.2, 32.8, 18.2]   \n",
       "17737        22            3  1518.440    [966.92, 442.68, 40.6, 37.4]   \n",
       "17738        23            3  1417.400    [884.28, 446.39, 38.0, 37.3]   \n",
       "17739        23            3   563.200     [992.79, 61.75, 25.6, 22.0]   \n",
       "\n",
       "                attributes  width  height  \\\n",
       "0      {'occluded': False}   1920    1080   \n",
       "1      {'occluded': False}   1920    1080   \n",
       "2      {'occluded': False}   1920    1080   \n",
       "3      {'occluded': False}   1920    1080   \n",
       "4      {'occluded': False}   1920    1080   \n",
       "...                    ...    ...     ...   \n",
       "17735  {'occluded': False}   1920    1080   \n",
       "17736  {'occluded': False}   1920    1080   \n",
       "17737  {'occluded': False}   1920    1080   \n",
       "17738  {'occluded': False}   1920    1080   \n",
       "17739  {'occluded': False}   1920    1080   \n",
       "\n",
       "                                               file_name  license flickr_url  \\\n",
       "0      7 c4 from agar plate 100mL bottle d1 20x undil...        0              \n",
       "1      7 c4 from agar plate 100mL bottle d1 20x undil...        0              \n",
       "2      7 c4 from agar plate 100mL bottle d1 20x undil...        0              \n",
       "3      7 c4 from agar plate 100mL bottle d1 20x undil...        0              \n",
       "4      7 c4 from agar plate 100mL bottle d1 20x undil...        0              \n",
       "...                                                  ...      ...        ...   \n",
       "17735                                             81.jpg        0              \n",
       "17736                                             80.jpg        0              \n",
       "17737                                             78.jpg        0              \n",
       "17738                                             77.jpg        0              \n",
       "17739                                             77.jpg        0              \n",
       "\n",
       "      coco_url  date_captured                    category_name  \n",
       "0                           0                            Cells  \n",
       "1                           0                            Cells  \n",
       "2                           0                            Cells  \n",
       "3                           0                            Cells  \n",
       "4                           0                            Cells  \n",
       "...        ...            ...                              ...  \n",
       "17735                       0  cell accumulation (large cells)  \n",
       "17736                       0  cell accumulation (large cells)  \n",
       "17737                       0  cell accumulation (large cells)  \n",
       "17738                       0  cell accumulation (large cells)  \n",
       "17739                       0  cell accumulation (large cells)  \n",
       "\n",
       "[17740 rows x 13 columns]"
      ]
     },
     "execution_count": 6,
     "metadata": {},
     "output_type": "execute_result"
    }
   ],
   "source": [
    "concatenated_df = pd.concat(df_concat_list, ignore_index=True)\n",
    "concatenated_df\n"
   ]
  },
  {
   "cell_type": "code",
   "execution_count": 7,
   "metadata": {},
   "outputs": [
    {
     "data": {
      "text/plain": [
       "(17740, 13)"
      ]
     },
     "execution_count": 7,
     "metadata": {},
     "output_type": "execute_result"
    }
   ],
   "source": [
    "concatenated_df.shape"
   ]
  },
  {
   "cell_type": "code",
   "execution_count": 8,
   "metadata": {},
   "outputs": [
    {
     "data": {
      "text/plain": [
       "99"
      ]
     },
     "execution_count": 8,
     "metadata": {},
     "output_type": "execute_result"
    }
   ],
   "source": [
    "len(concatenated_df.file_name.unique())"
   ]
  },
  {
   "cell_type": "markdown",
   "metadata": {},
   "source": [
    "# Metadata dataframe EDA"
   ]
  },
  {
   "cell_type": "code",
   "execution_count": 9,
   "metadata": {},
   "outputs": [
    {
     "data": {
      "text/html": [
       "<div>\n",
       "<style scoped>\n",
       "    .dataframe tbody tr th:only-of-type {\n",
       "        vertical-align: middle;\n",
       "    }\n",
       "\n",
       "    .dataframe tbody tr th {\n",
       "        vertical-align: top;\n",
       "    }\n",
       "\n",
       "    .dataframe thead th {\n",
       "        text-align: right;\n",
       "    }\n",
       "</style>\n",
       "<table border=\"1\" class=\"dataframe\">\n",
       "  <thead>\n",
       "    <tr style=\"text-align: right;\">\n",
       "      <th></th>\n",
       "      <th>No</th>\n",
       "      <th>Filename</th>\n",
       "      <th>Path or folder</th>\n",
       "      <th>Incubation day</th>\n",
       "      <th>Dilution Factor (unit)</th>\n",
       "      <th>Optical Density</th>\n",
       "    </tr>\n",
       "  </thead>\n",
       "  <tbody>\n",
       "    <tr>\n",
       "      <th>0</th>\n",
       "      <td>1</td>\n",
       "      <td>1 c0.7L d5 20x undilut OD15</td>\n",
       "      <td>images 1-7 revised</td>\n",
       "      <td>5</td>\n",
       "      <td>undiluted</td>\n",
       "      <td>15.000</td>\n",
       "    </tr>\n",
       "    <tr>\n",
       "      <th>1</th>\n",
       "      <td>2</td>\n",
       "      <td>2 c0.7L d5 20x 100xdilut OD15</td>\n",
       "      <td>images 1-7 revised</td>\n",
       "      <td>5</td>\n",
       "      <td>100</td>\n",
       "      <td>0.150</td>\n",
       "    </tr>\n",
       "    <tr>\n",
       "      <th>2</th>\n",
       "      <td>3</td>\n",
       "      <td>3 c10L d10 20x undilut OD8</td>\n",
       "      <td>images 1-7 revised</td>\n",
       "      <td>10</td>\n",
       "      <td>undiluted</td>\n",
       "      <td>8.000</td>\n",
       "    </tr>\n",
       "    <tr>\n",
       "      <th>3</th>\n",
       "      <td>4</td>\n",
       "      <td>4 c1 from agar plate 100mL bottle d1 20x undilut</td>\n",
       "      <td>images 1-7 revised</td>\n",
       "      <td>1</td>\n",
       "      <td>undiluted</td>\n",
       "      <td>NaN</td>\n",
       "    </tr>\n",
       "    <tr>\n",
       "      <th>4</th>\n",
       "      <td>5</td>\n",
       "      <td>5 c2 from agar plate 100mL bottle d1 20x undilut</td>\n",
       "      <td>images 1-7 revised</td>\n",
       "      <td>1</td>\n",
       "      <td>undiluted</td>\n",
       "      <td>NaN</td>\n",
       "    </tr>\n",
       "    <tr>\n",
       "      <th>...</th>\n",
       "      <td>...</td>\n",
       "      <td>...</td>\n",
       "      <td>...</td>\n",
       "      <td>...</td>\n",
       "      <td>...</td>\n",
       "      <td>...</td>\n",
       "    </tr>\n",
       "    <tr>\n",
       "      <th>95</th>\n",
       "      <td>96</td>\n",
       "      <td>96</td>\n",
       "      <td>images 76-100 revised</td>\n",
       "      <td>8</td>\n",
       "      <td>100</td>\n",
       "      <td>0.206</td>\n",
       "    </tr>\n",
       "    <tr>\n",
       "      <th>96</th>\n",
       "      <td>97</td>\n",
       "      <td>97</td>\n",
       "      <td>images 76-100 revised</td>\n",
       "      <td>8</td>\n",
       "      <td>30</td>\n",
       "      <td>0.437</td>\n",
       "    </tr>\n",
       "    <tr>\n",
       "      <th>97</th>\n",
       "      <td>98</td>\n",
       "      <td>98</td>\n",
       "      <td>images 76-100 revised</td>\n",
       "      <td>8</td>\n",
       "      <td>100</td>\n",
       "      <td>0.144</td>\n",
       "    </tr>\n",
       "    <tr>\n",
       "      <th>98</th>\n",
       "      <td>99</td>\n",
       "      <td>99</td>\n",
       "      <td>images 76-100 revised</td>\n",
       "      <td>8</td>\n",
       "      <td>30</td>\n",
       "      <td>0.499</td>\n",
       "    </tr>\n",
       "    <tr>\n",
       "      <th>99</th>\n",
       "      <td>100</td>\n",
       "      <td>100</td>\n",
       "      <td>images 76-100 revised</td>\n",
       "      <td>8</td>\n",
       "      <td>100</td>\n",
       "      <td>0.160</td>\n",
       "    </tr>\n",
       "  </tbody>\n",
       "</table>\n",
       "<p>100 rows × 6 columns</p>\n",
       "</div>"
      ],
      "text/plain": [
       "     No                                          Filename  \\\n",
       "0     1                       1 c0.7L d5 20x undilut OD15   \n",
       "1     2                     2 c0.7L d5 20x 100xdilut OD15   \n",
       "2     3                        3 c10L d10 20x undilut OD8   \n",
       "3     4  4 c1 from agar plate 100mL bottle d1 20x undilut   \n",
       "4     5  5 c2 from agar plate 100mL bottle d1 20x undilut   \n",
       "..  ...                                               ...   \n",
       "95   96                                                96   \n",
       "96   97                                                97   \n",
       "97   98                                                98   \n",
       "98   99                                                99   \n",
       "99  100                                               100   \n",
       "\n",
       "           Path or folder  Incubation day Dilution Factor (unit)  \\\n",
       "0      images 1-7 revised               5              undiluted   \n",
       "1      images 1-7 revised               5                    100   \n",
       "2      images 1-7 revised              10              undiluted   \n",
       "3      images 1-7 revised               1              undiluted   \n",
       "4      images 1-7 revised               1              undiluted   \n",
       "..                    ...             ...                    ...   \n",
       "95  images 76-100 revised               8                    100   \n",
       "96  images 76-100 revised               8                     30   \n",
       "97  images 76-100 revised               8                    100   \n",
       "98  images 76-100 revised               8                     30   \n",
       "99  images 76-100 revised               8                    100   \n",
       "\n",
       "    Optical Density  \n",
       "0            15.000  \n",
       "1             0.150  \n",
       "2             8.000  \n",
       "3               NaN  \n",
       "4               NaN  \n",
       "..              ...  \n",
       "95            0.206  \n",
       "96            0.437  \n",
       "97            0.144  \n",
       "98            0.499  \n",
       "99            0.160  \n",
       "\n",
       "[100 rows x 6 columns]"
      ]
     },
     "execution_count": 9,
     "metadata": {},
     "output_type": "execute_result"
    }
   ],
   "source": [
    "df_metadata = pd.read_excel('/Users/dylanpoh/Documents/AIsingapore/GitHub/data/Metadata list for AI Singapore final.xlsx', engine='openpyxl')\n",
    "df_metadata"
   ]
  },
  {
   "cell_type": "code",
   "execution_count": 10,
   "metadata": {},
   "outputs": [
    {
     "data": {
      "text/plain": [
       "'9'"
      ]
     },
     "execution_count": 10,
     "metadata": {},
     "output_type": "execute_result"
    }
   ],
   "source": [
    "df_metadata['Filename']=df_metadata['Filename'].astype(str)\n",
    "df_metadata['Filename'][8]"
   ]
  },
  {
   "cell_type": "code",
   "execution_count": 11,
   "metadata": {},
   "outputs": [
    {
     "data": {
      "text/html": [
       "<div>\n",
       "<style scoped>\n",
       "    .dataframe tbody tr th:only-of-type {\n",
       "        vertical-align: middle;\n",
       "    }\n",
       "\n",
       "    .dataframe tbody tr th {\n",
       "        vertical-align: top;\n",
       "    }\n",
       "\n",
       "    .dataframe thead th {\n",
       "        text-align: right;\n",
       "    }\n",
       "</style>\n",
       "<table border=\"1\" class=\"dataframe\">\n",
       "  <thead>\n",
       "    <tr style=\"text-align: right;\">\n",
       "      <th></th>\n",
       "      <th>No</th>\n",
       "      <th>Filename</th>\n",
       "      <th>Path or folder</th>\n",
       "      <th>Incubation day</th>\n",
       "      <th>Dilution Factor (unit)</th>\n",
       "      <th>Optical Density</th>\n",
       "    </tr>\n",
       "  </thead>\n",
       "  <tbody>\n",
       "    <tr>\n",
       "      <th>7</th>\n",
       "      <td>8</td>\n",
       "      <td>8</td>\n",
       "      <td>images 8-24 revised</td>\n",
       "      <td>1</td>\n",
       "      <td>undiluted</td>\n",
       "      <td>NaN</td>\n",
       "    </tr>\n",
       "  </tbody>\n",
       "</table>\n",
       "</div>"
      ],
      "text/plain": [
       "   No Filename       Path or folder  Incubation day Dilution Factor (unit)  \\\n",
       "7   8        8  images 8-24 revised               1              undiluted   \n",
       "\n",
       "   Optical Density  \n",
       "7              NaN  "
      ]
     },
     "execution_count": 11,
     "metadata": {},
     "output_type": "execute_result"
    }
   ],
   "source": [
    "df_metadata[df_metadata['Filename'] == '8']"
   ]
  },
  {
   "cell_type": "code",
   "execution_count": 12,
   "metadata": {},
   "outputs": [
    {
     "name": "stdout",
     "output_type": "stream",
     "text": [
      "<class 'pandas.core.frame.DataFrame'>\n",
      "RangeIndex: 100 entries, 0 to 99\n",
      "Data columns (total 6 columns):\n",
      " #   Column                  Non-Null Count  Dtype  \n",
      "---  ------                  --------------  -----  \n",
      " 0   No                      100 non-null    int64  \n",
      " 1   Filename                100 non-null    object \n",
      " 2   Path or folder          100 non-null    object \n",
      " 3   Incubation day          100 non-null    int64  \n",
      " 4   Dilution Factor (unit)  100 non-null    object \n",
      " 5   Optical Density         76 non-null     float64\n",
      "dtypes: float64(1), int64(2), object(3)\n",
      "memory usage: 4.8+ KB\n",
      "None\n"
     ]
    },
    {
     "data": {
      "text/plain": [
       "No                        100\n",
       "Filename                  100\n",
       "Path or folder              6\n",
       "Incubation day              8\n",
       "Dilution Factor (unit)      5\n",
       "Optical Density            65\n",
       "dtype: int64"
      ]
     },
     "execution_count": 12,
     "metadata": {},
     "output_type": "execute_result"
    }
   ],
   "source": [
    "print(df_metadata.info())\n",
    "df_metadata.nunique()"
   ]
  },
  {
   "cell_type": "code",
   "execution_count": 13,
   "metadata": {},
   "outputs": [
    {
     "name": "stdout",
     "output_type": "stream",
     "text": [
      "Incubation day : [ 5 10  1  2  3  4  8  7]\n",
      "Dilution Factor (unit) : ['undiluted' 100 5 10 30]\n",
      "Optical Density : [15.     0.15   8.       nan  0.66   0.132  0.655  0.46   0.131  0.092\n",
      "  1.095  1.04   0.96   0.93   0.219  0.208  0.192  0.186  0.575  0.585\n",
      "  0.49   0.78   0.525  0.47   2.155  0.498  0.431  0.25   0.215  2.925\n",
      "  0.502  0.293  0.79   0.815  0.7    1.5    0.755  0.685  0.572  0.178\n",
      "  0.532  0.699  0.237  0.242  0.688  0.707  0.26   0.944  0.367  0.297\n",
      "  0.937  0.371  0.34   0.12   3.4    0.466  0.155  0.58   0.206  0.56\n",
      "  0.18   0.631  0.437  0.144  0.499  0.16 ]\n"
     ]
    }
   ],
   "source": [
    "for name in df_metadata.columns[3:]: \n",
    "    print(f'{name} : {df_metadata[name].unique()}')"
   ]
  },
  {
   "cell_type": "code",
   "execution_count": 14,
   "metadata": {},
   "outputs": [],
   "source": [
    "df_metadata.replace({'undiluted': 0, np.nan: 0}, inplace=True)"
   ]
  },
  {
   "cell_type": "code",
   "execution_count": 15,
   "metadata": {},
   "outputs": [
    {
     "name": "stdout",
     "output_type": "stream",
     "text": [
      "<class 'pandas.core.frame.DataFrame'>\n",
      "RangeIndex: 100 entries, 0 to 99\n",
      "Data columns (total 6 columns):\n",
      " #   Column                  Non-Null Count  Dtype  \n",
      "---  ------                  --------------  -----  \n",
      " 0   No                      100 non-null    int64  \n",
      " 1   Filename                100 non-null    object \n",
      " 2   Path or folder          100 non-null    object \n",
      " 3   Incubation day          100 non-null    int64  \n",
      " 4   Dilution Factor (unit)  100 non-null    int64  \n",
      " 5   Optical Density         100 non-null    float64\n",
      "dtypes: float64(1), int64(3), object(2)\n",
      "memory usage: 4.8+ KB\n",
      "None\n",
      "No                        100\n",
      "Filename                  100\n",
      "Path or folder              6\n",
      "Incubation day              8\n",
      "Dilution Factor (unit)      5\n",
      "Optical Density            66\n",
      "dtype: int64\n",
      "Incubation day : [ 5 10  1  2  3  4  8  7]\n",
      "Dilution Factor (unit) : [  0 100   5  10  30]\n",
      "Optical Density : [15.     0.15   8.     0.     0.66   0.132  0.655  0.46   0.131  0.092\n",
      "  1.095  1.04   0.96   0.93   0.219  0.208  0.192  0.186  0.575  0.585\n",
      "  0.49   0.78   0.525  0.47   2.155  0.498  0.431  0.25   0.215  2.925\n",
      "  0.502  0.293  0.79   0.815  0.7    1.5    0.755  0.685  0.572  0.178\n",
      "  0.532  0.699  0.237  0.242  0.688  0.707  0.26   0.944  0.367  0.297\n",
      "  0.937  0.371  0.34   0.12   3.4    0.466  0.155  0.58   0.206  0.56\n",
      "  0.18   0.631  0.437  0.144  0.499  0.16 ]\n"
     ]
    }
   ],
   "source": [
    "print(df_metadata.info())\n",
    "print(df_metadata.nunique())\n",
    "for name in df_metadata.columns[3:]: \n",
    "    print(f'{name} : {df_metadata[name].unique()}')"
   ]
  },
  {
   "cell_type": "code",
   "execution_count": 16,
   "metadata": {},
   "outputs": [],
   "source": [
    "df_metadata.rename(columns={'Incubation day': 'incubation_day', 'Dilution Factor (unit)': 'dilution_factor', 'Optical Density': 'optical_density'}, inplace=True)\n",
    "selected_col=['Filename','incubation_day','dilution_factor','optical_density']"
   ]
  },
  {
   "cell_type": "markdown",
   "metadata": {},
   "source": [
    "# Merge concatenated_df and metadata information"
   ]
  },
  {
   "cell_type": "code",
   "execution_count": 17,
   "metadata": {},
   "outputs": [
    {
     "data": {
      "text/html": [
       "<div>\n",
       "<style scoped>\n",
       "    .dataframe tbody tr th:only-of-type {\n",
       "        vertical-align: middle;\n",
       "    }\n",
       "\n",
       "    .dataframe tbody tr th {\n",
       "        vertical-align: top;\n",
       "    }\n",
       "\n",
       "    .dataframe thead th {\n",
       "        text-align: right;\n",
       "    }\n",
       "</style>\n",
       "<table border=\"1\" class=\"dataframe\">\n",
       "  <thead>\n",
       "    <tr style=\"text-align: right;\">\n",
       "      <th></th>\n",
       "      <th>image_id</th>\n",
       "      <th>category_id</th>\n",
       "      <th>area</th>\n",
       "      <th>bbox</th>\n",
       "      <th>attributes</th>\n",
       "      <th>width</th>\n",
       "      <th>height</th>\n",
       "      <th>file_name</th>\n",
       "      <th>license</th>\n",
       "      <th>flickr_url</th>\n",
       "      <th>coco_url</th>\n",
       "      <th>date_captured</th>\n",
       "      <th>category_name</th>\n",
       "      <th>file_name_split</th>\n",
       "    </tr>\n",
       "  </thead>\n",
       "  <tbody>\n",
       "    <tr>\n",
       "      <th>0</th>\n",
       "      <td>1</td>\n",
       "      <td>1</td>\n",
       "      <td>96.200</td>\n",
       "      <td>[1076.49, 1072.6, 13.0, 7.4]</td>\n",
       "      <td>{'occluded': False}</td>\n",
       "      <td>1920</td>\n",
       "      <td>1080</td>\n",
       "      <td>7 c4 from agar plate 100mL bottle d1 20x undil...</td>\n",
       "      <td>0</td>\n",
       "      <td></td>\n",
       "      <td></td>\n",
       "      <td>0</td>\n",
       "      <td>Cells</td>\n",
       "      <td>7 c4 from agar plate 100mL bottle d1 20x undilut</td>\n",
       "    </tr>\n",
       "    <tr>\n",
       "      <th>1</th>\n",
       "      <td>1</td>\n",
       "      <td>1</td>\n",
       "      <td>258.225</td>\n",
       "      <td>[1149.7, 972.5, 15.65, 16.5]</td>\n",
       "      <td>{'occluded': False}</td>\n",
       "      <td>1920</td>\n",
       "      <td>1080</td>\n",
       "      <td>7 c4 from agar plate 100mL bottle d1 20x undil...</td>\n",
       "      <td>0</td>\n",
       "      <td></td>\n",
       "      <td></td>\n",
       "      <td>0</td>\n",
       "      <td>Cells</td>\n",
       "      <td>7 c4 from agar plate 100mL bottle d1 20x undilut</td>\n",
       "    </tr>\n",
       "    <tr>\n",
       "      <th>2</th>\n",
       "      <td>1</td>\n",
       "      <td>1</td>\n",
       "      <td>121.200</td>\n",
       "      <td>[1104.44, 904.66, 12.0, 10.1]</td>\n",
       "      <td>{'occluded': False}</td>\n",
       "      <td>1920</td>\n",
       "      <td>1080</td>\n",
       "      <td>7 c4 from agar plate 100mL bottle d1 20x undil...</td>\n",
       "      <td>0</td>\n",
       "      <td></td>\n",
       "      <td></td>\n",
       "      <td>0</td>\n",
       "      <td>Cells</td>\n",
       "      <td>7 c4 from agar plate 100mL bottle d1 20x undilut</td>\n",
       "    </tr>\n",
       "    <tr>\n",
       "      <th>3</th>\n",
       "      <td>1</td>\n",
       "      <td>1</td>\n",
       "      <td>210.000</td>\n",
       "      <td>[1194.39, 843.98, 15.0, 14.0]</td>\n",
       "      <td>{'occluded': False}</td>\n",
       "      <td>1920</td>\n",
       "      <td>1080</td>\n",
       "      <td>7 c4 from agar plate 100mL bottle d1 20x undil...</td>\n",
       "      <td>0</td>\n",
       "      <td></td>\n",
       "      <td></td>\n",
       "      <td>0</td>\n",
       "      <td>Cells</td>\n",
       "      <td>7 c4 from agar plate 100mL bottle d1 20x undilut</td>\n",
       "    </tr>\n",
       "    <tr>\n",
       "      <th>4</th>\n",
       "      <td>1</td>\n",
       "      <td>1</td>\n",
       "      <td>152.950</td>\n",
       "      <td>[1057.62, 681.55, 11.5, 13.3]</td>\n",
       "      <td>{'occluded': False}</td>\n",
       "      <td>1920</td>\n",
       "      <td>1080</td>\n",
       "      <td>7 c4 from agar plate 100mL bottle d1 20x undil...</td>\n",
       "      <td>0</td>\n",
       "      <td></td>\n",
       "      <td></td>\n",
       "      <td>0</td>\n",
       "      <td>Cells</td>\n",
       "      <td>7 c4 from agar plate 100mL bottle d1 20x undilut</td>\n",
       "    </tr>\n",
       "    <tr>\n",
       "      <th>...</th>\n",
       "      <td>...</td>\n",
       "      <td>...</td>\n",
       "      <td>...</td>\n",
       "      <td>...</td>\n",
       "      <td>...</td>\n",
       "      <td>...</td>\n",
       "      <td>...</td>\n",
       "      <td>...</td>\n",
       "      <td>...</td>\n",
       "      <td>...</td>\n",
       "      <td>...</td>\n",
       "      <td>...</td>\n",
       "      <td>...</td>\n",
       "      <td>...</td>\n",
       "    </tr>\n",
       "    <tr>\n",
       "      <th>17735</th>\n",
       "      <td>19</td>\n",
       "      <td>3</td>\n",
       "      <td>256.289</td>\n",
       "      <td>[1620.04, 190.3, 20.26, 12.65]</td>\n",
       "      <td>{'occluded': False}</td>\n",
       "      <td>1920</td>\n",
       "      <td>1080</td>\n",
       "      <td>81.jpg</td>\n",
       "      <td>0</td>\n",
       "      <td></td>\n",
       "      <td></td>\n",
       "      <td>0</td>\n",
       "      <td>cell accumulation (large cells)</td>\n",
       "      <td>81</td>\n",
       "    </tr>\n",
       "    <tr>\n",
       "      <th>17736</th>\n",
       "      <td>20</td>\n",
       "      <td>3</td>\n",
       "      <td>596.960</td>\n",
       "      <td>[1839.4, 708.2, 32.8, 18.2]</td>\n",
       "      <td>{'occluded': False}</td>\n",
       "      <td>1920</td>\n",
       "      <td>1080</td>\n",
       "      <td>80.jpg</td>\n",
       "      <td>0</td>\n",
       "      <td></td>\n",
       "      <td></td>\n",
       "      <td>0</td>\n",
       "      <td>cell accumulation (large cells)</td>\n",
       "      <td>80</td>\n",
       "    </tr>\n",
       "    <tr>\n",
       "      <th>17737</th>\n",
       "      <td>22</td>\n",
       "      <td>3</td>\n",
       "      <td>1518.440</td>\n",
       "      <td>[966.92, 442.68, 40.6, 37.4]</td>\n",
       "      <td>{'occluded': False}</td>\n",
       "      <td>1920</td>\n",
       "      <td>1080</td>\n",
       "      <td>78.jpg</td>\n",
       "      <td>0</td>\n",
       "      <td></td>\n",
       "      <td></td>\n",
       "      <td>0</td>\n",
       "      <td>cell accumulation (large cells)</td>\n",
       "      <td>78</td>\n",
       "    </tr>\n",
       "    <tr>\n",
       "      <th>17738</th>\n",
       "      <td>23</td>\n",
       "      <td>3</td>\n",
       "      <td>1417.400</td>\n",
       "      <td>[884.28, 446.39, 38.0, 37.3]</td>\n",
       "      <td>{'occluded': False}</td>\n",
       "      <td>1920</td>\n",
       "      <td>1080</td>\n",
       "      <td>77.jpg</td>\n",
       "      <td>0</td>\n",
       "      <td></td>\n",
       "      <td></td>\n",
       "      <td>0</td>\n",
       "      <td>cell accumulation (large cells)</td>\n",
       "      <td>77</td>\n",
       "    </tr>\n",
       "    <tr>\n",
       "      <th>17739</th>\n",
       "      <td>23</td>\n",
       "      <td>3</td>\n",
       "      <td>563.200</td>\n",
       "      <td>[992.79, 61.75, 25.6, 22.0]</td>\n",
       "      <td>{'occluded': False}</td>\n",
       "      <td>1920</td>\n",
       "      <td>1080</td>\n",
       "      <td>77.jpg</td>\n",
       "      <td>0</td>\n",
       "      <td></td>\n",
       "      <td></td>\n",
       "      <td>0</td>\n",
       "      <td>cell accumulation (large cells)</td>\n",
       "      <td>77</td>\n",
       "    </tr>\n",
       "  </tbody>\n",
       "</table>\n",
       "<p>17740 rows × 14 columns</p>\n",
       "</div>"
      ],
      "text/plain": [
       "       image_id  category_id      area                            bbox  \\\n",
       "0             1            1    96.200    [1076.49, 1072.6, 13.0, 7.4]   \n",
       "1             1            1   258.225    [1149.7, 972.5, 15.65, 16.5]   \n",
       "2             1            1   121.200   [1104.44, 904.66, 12.0, 10.1]   \n",
       "3             1            1   210.000   [1194.39, 843.98, 15.0, 14.0]   \n",
       "4             1            1   152.950   [1057.62, 681.55, 11.5, 13.3]   \n",
       "...         ...          ...       ...                             ...   \n",
       "17735        19            3   256.289  [1620.04, 190.3, 20.26, 12.65]   \n",
       "17736        20            3   596.960     [1839.4, 708.2, 32.8, 18.2]   \n",
       "17737        22            3  1518.440    [966.92, 442.68, 40.6, 37.4]   \n",
       "17738        23            3  1417.400    [884.28, 446.39, 38.0, 37.3]   \n",
       "17739        23            3   563.200     [992.79, 61.75, 25.6, 22.0]   \n",
       "\n",
       "                attributes  width  height  \\\n",
       "0      {'occluded': False}   1920    1080   \n",
       "1      {'occluded': False}   1920    1080   \n",
       "2      {'occluded': False}   1920    1080   \n",
       "3      {'occluded': False}   1920    1080   \n",
       "4      {'occluded': False}   1920    1080   \n",
       "...                    ...    ...     ...   \n",
       "17735  {'occluded': False}   1920    1080   \n",
       "17736  {'occluded': False}   1920    1080   \n",
       "17737  {'occluded': False}   1920    1080   \n",
       "17738  {'occluded': False}   1920    1080   \n",
       "17739  {'occluded': False}   1920    1080   \n",
       "\n",
       "                                               file_name  license flickr_url  \\\n",
       "0      7 c4 from agar plate 100mL bottle d1 20x undil...        0              \n",
       "1      7 c4 from agar plate 100mL bottle d1 20x undil...        0              \n",
       "2      7 c4 from agar plate 100mL bottle d1 20x undil...        0              \n",
       "3      7 c4 from agar plate 100mL bottle d1 20x undil...        0              \n",
       "4      7 c4 from agar plate 100mL bottle d1 20x undil...        0              \n",
       "...                                                  ...      ...        ...   \n",
       "17735                                             81.jpg        0              \n",
       "17736                                             80.jpg        0              \n",
       "17737                                             78.jpg        0              \n",
       "17738                                             77.jpg        0              \n",
       "17739                                             77.jpg        0              \n",
       "\n",
       "      coco_url  date_captured                    category_name  \\\n",
       "0                           0                            Cells   \n",
       "1                           0                            Cells   \n",
       "2                           0                            Cells   \n",
       "3                           0                            Cells   \n",
       "4                           0                            Cells   \n",
       "...        ...            ...                              ...   \n",
       "17735                       0  cell accumulation (large cells)   \n",
       "17736                       0  cell accumulation (large cells)   \n",
       "17737                       0  cell accumulation (large cells)   \n",
       "17738                       0  cell accumulation (large cells)   \n",
       "17739                       0  cell accumulation (large cells)   \n",
       "\n",
       "                                        file_name_split  \n",
       "0      7 c4 from agar plate 100mL bottle d1 20x undilut  \n",
       "1      7 c4 from agar plate 100mL bottle d1 20x undilut  \n",
       "2      7 c4 from agar plate 100mL bottle d1 20x undilut  \n",
       "3      7 c4 from agar plate 100mL bottle d1 20x undilut  \n",
       "4      7 c4 from agar plate 100mL bottle d1 20x undilut  \n",
       "...                                                 ...  \n",
       "17735                                                81  \n",
       "17736                                                80  \n",
       "17737                                                78  \n",
       "17738                                                77  \n",
       "17739                                                77  \n",
       "\n",
       "[17740 rows x 14 columns]"
      ]
     },
     "execution_count": 17,
     "metadata": {},
     "output_type": "execute_result"
    }
   ],
   "source": [
    "concatenated_df['file_name_split']=concatenated_df.file_name.str.rsplit('.',n=1, expand=True)[0]\n",
    "concatenated_df"
   ]
  },
  {
   "cell_type": "code",
   "execution_count": 18,
   "metadata": {},
   "outputs": [
    {
     "name": "stdout",
     "output_type": "stream",
     "text": [
      "<class 'pandas.core.frame.DataFrame'>\n",
      "RangeIndex: 17740 entries, 0 to 17739\n",
      "Data columns (total 14 columns):\n",
      " #   Column           Non-Null Count  Dtype  \n",
      "---  ------           --------------  -----  \n",
      " 0   image_id         17740 non-null  int64  \n",
      " 1   category_id      17740 non-null  int64  \n",
      " 2   area             17740 non-null  float64\n",
      " 3   bbox             17740 non-null  object \n",
      " 4   attributes       17740 non-null  object \n",
      " 5   width            17740 non-null  int64  \n",
      " 6   height           17740 non-null  int64  \n",
      " 7   file_name        17740 non-null  object \n",
      " 8   license          17740 non-null  int64  \n",
      " 9   flickr_url       17740 non-null  object \n",
      " 10  coco_url         17740 non-null  object \n",
      " 11  date_captured    17740 non-null  int64  \n",
      " 12  category_name    17740 non-null  object \n",
      " 13  file_name_split  17740 non-null  object \n",
      "dtypes: float64(1), int64(6), object(7)\n",
      "memory usage: 1.9+ MB\n"
     ]
    }
   ],
   "source": [
    "concatenated_df.info()"
   ]
  },
  {
   "cell_type": "code",
   "execution_count": 19,
   "metadata": {},
   "outputs": [
    {
     "data": {
      "text/html": [
       "<div>\n",
       "<style scoped>\n",
       "    .dataframe tbody tr th:only-of-type {\n",
       "        vertical-align: middle;\n",
       "    }\n",
       "\n",
       "    .dataframe tbody tr th {\n",
       "        vertical-align: top;\n",
       "    }\n",
       "\n",
       "    .dataframe thead th {\n",
       "        text-align: right;\n",
       "    }\n",
       "</style>\n",
       "<table border=\"1\" class=\"dataframe\">\n",
       "  <thead>\n",
       "    <tr style=\"text-align: right;\">\n",
       "      <th></th>\n",
       "      <th>image_id</th>\n",
       "      <th>category_id</th>\n",
       "      <th>area</th>\n",
       "      <th>bbox</th>\n",
       "      <th>attributes</th>\n",
       "      <th>width</th>\n",
       "      <th>height</th>\n",
       "      <th>file_name</th>\n",
       "      <th>license</th>\n",
       "      <th>flickr_url</th>\n",
       "      <th>coco_url</th>\n",
       "      <th>date_captured</th>\n",
       "      <th>category_name</th>\n",
       "      <th>file_name_split</th>\n",
       "      <th>Filename</th>\n",
       "      <th>incubation_day</th>\n",
       "      <th>dilution_factor</th>\n",
       "      <th>optical_density</th>\n",
       "    </tr>\n",
       "  </thead>\n",
       "  <tbody>\n",
       "    <tr>\n",
       "      <th>0</th>\n",
       "      <td>1</td>\n",
       "      <td>1</td>\n",
       "      <td>96.200</td>\n",
       "      <td>[1076.49, 1072.6, 13.0, 7.4]</td>\n",
       "      <td>{'occluded': False}</td>\n",
       "      <td>1920</td>\n",
       "      <td>1080</td>\n",
       "      <td>7 c4 from agar plate 100mL bottle d1 20x undil...</td>\n",
       "      <td>0</td>\n",
       "      <td></td>\n",
       "      <td></td>\n",
       "      <td>0</td>\n",
       "      <td>Cells</td>\n",
       "      <td>7 c4 from agar plate 100mL bottle d1 20x undilut</td>\n",
       "      <td>7 c4 from agar plate 100mL bottle d1 20x undilut</td>\n",
       "      <td>1</td>\n",
       "      <td>0</td>\n",
       "      <td>0.000</td>\n",
       "    </tr>\n",
       "    <tr>\n",
       "      <th>1</th>\n",
       "      <td>1</td>\n",
       "      <td>1</td>\n",
       "      <td>258.225</td>\n",
       "      <td>[1149.7, 972.5, 15.65, 16.5]</td>\n",
       "      <td>{'occluded': False}</td>\n",
       "      <td>1920</td>\n",
       "      <td>1080</td>\n",
       "      <td>7 c4 from agar plate 100mL bottle d1 20x undil...</td>\n",
       "      <td>0</td>\n",
       "      <td></td>\n",
       "      <td></td>\n",
       "      <td>0</td>\n",
       "      <td>Cells</td>\n",
       "      <td>7 c4 from agar plate 100mL bottle d1 20x undilut</td>\n",
       "      <td>7 c4 from agar plate 100mL bottle d1 20x undilut</td>\n",
       "      <td>1</td>\n",
       "      <td>0</td>\n",
       "      <td>0.000</td>\n",
       "    </tr>\n",
       "    <tr>\n",
       "      <th>2</th>\n",
       "      <td>1</td>\n",
       "      <td>1</td>\n",
       "      <td>121.200</td>\n",
       "      <td>[1104.44, 904.66, 12.0, 10.1]</td>\n",
       "      <td>{'occluded': False}</td>\n",
       "      <td>1920</td>\n",
       "      <td>1080</td>\n",
       "      <td>7 c4 from agar plate 100mL bottle d1 20x undil...</td>\n",
       "      <td>0</td>\n",
       "      <td></td>\n",
       "      <td></td>\n",
       "      <td>0</td>\n",
       "      <td>Cells</td>\n",
       "      <td>7 c4 from agar plate 100mL bottle d1 20x undilut</td>\n",
       "      <td>7 c4 from agar plate 100mL bottle d1 20x undilut</td>\n",
       "      <td>1</td>\n",
       "      <td>0</td>\n",
       "      <td>0.000</td>\n",
       "    </tr>\n",
       "    <tr>\n",
       "      <th>3</th>\n",
       "      <td>1</td>\n",
       "      <td>1</td>\n",
       "      <td>210.000</td>\n",
       "      <td>[1194.39, 843.98, 15.0, 14.0]</td>\n",
       "      <td>{'occluded': False}</td>\n",
       "      <td>1920</td>\n",
       "      <td>1080</td>\n",
       "      <td>7 c4 from agar plate 100mL bottle d1 20x undil...</td>\n",
       "      <td>0</td>\n",
       "      <td></td>\n",
       "      <td></td>\n",
       "      <td>0</td>\n",
       "      <td>Cells</td>\n",
       "      <td>7 c4 from agar plate 100mL bottle d1 20x undilut</td>\n",
       "      <td>7 c4 from agar plate 100mL bottle d1 20x undilut</td>\n",
       "      <td>1</td>\n",
       "      <td>0</td>\n",
       "      <td>0.000</td>\n",
       "    </tr>\n",
       "    <tr>\n",
       "      <th>4</th>\n",
       "      <td>1</td>\n",
       "      <td>1</td>\n",
       "      <td>152.950</td>\n",
       "      <td>[1057.62, 681.55, 11.5, 13.3]</td>\n",
       "      <td>{'occluded': False}</td>\n",
       "      <td>1920</td>\n",
       "      <td>1080</td>\n",
       "      <td>7 c4 from agar plate 100mL bottle d1 20x undil...</td>\n",
       "      <td>0</td>\n",
       "      <td></td>\n",
       "      <td></td>\n",
       "      <td>0</td>\n",
       "      <td>Cells</td>\n",
       "      <td>7 c4 from agar plate 100mL bottle d1 20x undilut</td>\n",
       "      <td>7 c4 from agar plate 100mL bottle d1 20x undilut</td>\n",
       "      <td>1</td>\n",
       "      <td>0</td>\n",
       "      <td>0.000</td>\n",
       "    </tr>\n",
       "    <tr>\n",
       "      <th>...</th>\n",
       "      <td>...</td>\n",
       "      <td>...</td>\n",
       "      <td>...</td>\n",
       "      <td>...</td>\n",
       "      <td>...</td>\n",
       "      <td>...</td>\n",
       "      <td>...</td>\n",
       "      <td>...</td>\n",
       "      <td>...</td>\n",
       "      <td>...</td>\n",
       "      <td>...</td>\n",
       "      <td>...</td>\n",
       "      <td>...</td>\n",
       "      <td>...</td>\n",
       "      <td>...</td>\n",
       "      <td>...</td>\n",
       "      <td>...</td>\n",
       "      <td>...</td>\n",
       "    </tr>\n",
       "    <tr>\n",
       "      <th>17735</th>\n",
       "      <td>19</td>\n",
       "      <td>3</td>\n",
       "      <td>256.289</td>\n",
       "      <td>[1620.04, 190.3, 20.26, 12.65]</td>\n",
       "      <td>{'occluded': False}</td>\n",
       "      <td>1920</td>\n",
       "      <td>1080</td>\n",
       "      <td>81.jpg</td>\n",
       "      <td>0</td>\n",
       "      <td></td>\n",
       "      <td></td>\n",
       "      <td>0</td>\n",
       "      <td>cell accumulation (large cells)</td>\n",
       "      <td>81</td>\n",
       "      <td>81</td>\n",
       "      <td>7</td>\n",
       "      <td>30</td>\n",
       "      <td>0.367</td>\n",
       "    </tr>\n",
       "    <tr>\n",
       "      <th>17736</th>\n",
       "      <td>20</td>\n",
       "      <td>3</td>\n",
       "      <td>596.960</td>\n",
       "      <td>[1839.4, 708.2, 32.8, 18.2]</td>\n",
       "      <td>{'occluded': False}</td>\n",
       "      <td>1920</td>\n",
       "      <td>1080</td>\n",
       "      <td>80.jpg</td>\n",
       "      <td>0</td>\n",
       "      <td></td>\n",
       "      <td></td>\n",
       "      <td>0</td>\n",
       "      <td>cell accumulation (large cells)</td>\n",
       "      <td>80</td>\n",
       "      <td>80</td>\n",
       "      <td>7</td>\n",
       "      <td>10</td>\n",
       "      <td>0.944</td>\n",
       "    </tr>\n",
       "    <tr>\n",
       "      <th>17737</th>\n",
       "      <td>22</td>\n",
       "      <td>3</td>\n",
       "      <td>1518.440</td>\n",
       "      <td>[966.92, 442.68, 40.6, 37.4]</td>\n",
       "      <td>{'occluded': False}</td>\n",
       "      <td>1920</td>\n",
       "      <td>1080</td>\n",
       "      <td>78.jpg</td>\n",
       "      <td>0</td>\n",
       "      <td></td>\n",
       "      <td></td>\n",
       "      <td>0</td>\n",
       "      <td>cell accumulation (large cells)</td>\n",
       "      <td>78</td>\n",
       "      <td>78</td>\n",
       "      <td>7</td>\n",
       "      <td>10</td>\n",
       "      <td>0.707</td>\n",
       "    </tr>\n",
       "    <tr>\n",
       "      <th>17738</th>\n",
       "      <td>23</td>\n",
       "      <td>3</td>\n",
       "      <td>1417.400</td>\n",
       "      <td>[884.28, 446.39, 38.0, 37.3]</td>\n",
       "      <td>{'occluded': False}</td>\n",
       "      <td>1920</td>\n",
       "      <td>1080</td>\n",
       "      <td>77.jpg</td>\n",
       "      <td>0</td>\n",
       "      <td></td>\n",
       "      <td></td>\n",
       "      <td>0</td>\n",
       "      <td>cell accumulation (large cells)</td>\n",
       "      <td>77</td>\n",
       "      <td>77</td>\n",
       "      <td>8</td>\n",
       "      <td>100</td>\n",
       "      <td>0.688</td>\n",
       "    </tr>\n",
       "    <tr>\n",
       "      <th>17739</th>\n",
       "      <td>23</td>\n",
       "      <td>3</td>\n",
       "      <td>563.200</td>\n",
       "      <td>[992.79, 61.75, 25.6, 22.0]</td>\n",
       "      <td>{'occluded': False}</td>\n",
       "      <td>1920</td>\n",
       "      <td>1080</td>\n",
       "      <td>77.jpg</td>\n",
       "      <td>0</td>\n",
       "      <td></td>\n",
       "      <td></td>\n",
       "      <td>0</td>\n",
       "      <td>cell accumulation (large cells)</td>\n",
       "      <td>77</td>\n",
       "      <td>77</td>\n",
       "      <td>8</td>\n",
       "      <td>100</td>\n",
       "      <td>0.688</td>\n",
       "    </tr>\n",
       "  </tbody>\n",
       "</table>\n",
       "<p>17740 rows × 18 columns</p>\n",
       "</div>"
      ],
      "text/plain": [
       "       image_id  category_id      area                            bbox  \\\n",
       "0             1            1    96.200    [1076.49, 1072.6, 13.0, 7.4]   \n",
       "1             1            1   258.225    [1149.7, 972.5, 15.65, 16.5]   \n",
       "2             1            1   121.200   [1104.44, 904.66, 12.0, 10.1]   \n",
       "3             1            1   210.000   [1194.39, 843.98, 15.0, 14.0]   \n",
       "4             1            1   152.950   [1057.62, 681.55, 11.5, 13.3]   \n",
       "...         ...          ...       ...                             ...   \n",
       "17735        19            3   256.289  [1620.04, 190.3, 20.26, 12.65]   \n",
       "17736        20            3   596.960     [1839.4, 708.2, 32.8, 18.2]   \n",
       "17737        22            3  1518.440    [966.92, 442.68, 40.6, 37.4]   \n",
       "17738        23            3  1417.400    [884.28, 446.39, 38.0, 37.3]   \n",
       "17739        23            3   563.200     [992.79, 61.75, 25.6, 22.0]   \n",
       "\n",
       "                attributes  width  height  \\\n",
       "0      {'occluded': False}   1920    1080   \n",
       "1      {'occluded': False}   1920    1080   \n",
       "2      {'occluded': False}   1920    1080   \n",
       "3      {'occluded': False}   1920    1080   \n",
       "4      {'occluded': False}   1920    1080   \n",
       "...                    ...    ...     ...   \n",
       "17735  {'occluded': False}   1920    1080   \n",
       "17736  {'occluded': False}   1920    1080   \n",
       "17737  {'occluded': False}   1920    1080   \n",
       "17738  {'occluded': False}   1920    1080   \n",
       "17739  {'occluded': False}   1920    1080   \n",
       "\n",
       "                                               file_name  license flickr_url  \\\n",
       "0      7 c4 from agar plate 100mL bottle d1 20x undil...        0              \n",
       "1      7 c4 from agar plate 100mL bottle d1 20x undil...        0              \n",
       "2      7 c4 from agar plate 100mL bottle d1 20x undil...        0              \n",
       "3      7 c4 from agar plate 100mL bottle d1 20x undil...        0              \n",
       "4      7 c4 from agar plate 100mL bottle d1 20x undil...        0              \n",
       "...                                                  ...      ...        ...   \n",
       "17735                                             81.jpg        0              \n",
       "17736                                             80.jpg        0              \n",
       "17737                                             78.jpg        0              \n",
       "17738                                             77.jpg        0              \n",
       "17739                                             77.jpg        0              \n",
       "\n",
       "      coco_url  date_captured                    category_name  \\\n",
       "0                           0                            Cells   \n",
       "1                           0                            Cells   \n",
       "2                           0                            Cells   \n",
       "3                           0                            Cells   \n",
       "4                           0                            Cells   \n",
       "...        ...            ...                              ...   \n",
       "17735                       0  cell accumulation (large cells)   \n",
       "17736                       0  cell accumulation (large cells)   \n",
       "17737                       0  cell accumulation (large cells)   \n",
       "17738                       0  cell accumulation (large cells)   \n",
       "17739                       0  cell accumulation (large cells)   \n",
       "\n",
       "                                        file_name_split  \\\n",
       "0      7 c4 from agar plate 100mL bottle d1 20x undilut   \n",
       "1      7 c4 from agar plate 100mL bottle d1 20x undilut   \n",
       "2      7 c4 from agar plate 100mL bottle d1 20x undilut   \n",
       "3      7 c4 from agar plate 100mL bottle d1 20x undilut   \n",
       "4      7 c4 from agar plate 100mL bottle d1 20x undilut   \n",
       "...                                                 ...   \n",
       "17735                                                81   \n",
       "17736                                                80   \n",
       "17737                                                78   \n",
       "17738                                                77   \n",
       "17739                                                77   \n",
       "\n",
       "                                               Filename  incubation_day  \\\n",
       "0      7 c4 from agar plate 100mL bottle d1 20x undilut               1   \n",
       "1      7 c4 from agar plate 100mL bottle d1 20x undilut               1   \n",
       "2      7 c4 from agar plate 100mL bottle d1 20x undilut               1   \n",
       "3      7 c4 from agar plate 100mL bottle d1 20x undilut               1   \n",
       "4      7 c4 from agar plate 100mL bottle d1 20x undilut               1   \n",
       "...                                                 ...             ...   \n",
       "17735                                                81               7   \n",
       "17736                                                80               7   \n",
       "17737                                                78               7   \n",
       "17738                                                77               8   \n",
       "17739                                                77               8   \n",
       "\n",
       "       dilution_factor  optical_density  \n",
       "0                    0            0.000  \n",
       "1                    0            0.000  \n",
       "2                    0            0.000  \n",
       "3                    0            0.000  \n",
       "4                    0            0.000  \n",
       "...                ...              ...  \n",
       "17735               30            0.367  \n",
       "17736               10            0.944  \n",
       "17737               10            0.707  \n",
       "17738              100            0.688  \n",
       "17739              100            0.688  \n",
       "\n",
       "[17740 rows x 18 columns]"
      ]
     },
     "execution_count": 19,
     "metadata": {},
     "output_type": "execute_result"
    }
   ],
   "source": [
    "merged_left = pd.merge(left=concatenated_df, right=df_metadata[selected_col], how='left', left_on='file_name_split', right_on='Filename')\n",
    "# merged_left.drop(['file_name_split','Filename'],axis=1,inplace=True)\n",
    "merged_left"
   ]
  },
  {
   "cell_type": "code",
   "execution_count": 180,
   "metadata": {},
   "outputs": [
    {
     "data": {
      "text/plain": [
       "0"
      ]
     },
     "execution_count": 180,
     "metadata": {},
     "output_type": "execute_result"
    }
   ],
   "source": [
    "merged_left.isnull().sum().sum()"
   ]
  },
  {
   "cell_type": "code",
   "execution_count": 21,
   "metadata": {},
   "outputs": [
    {
     "name": "stdout",
     "output_type": "stream",
     "text": [
      "incubation_day      7\n",
      "dilution_factor     5\n",
      "optical_density    65\n",
      "dtype: int64\n",
      "incubation_day : [1 5 3 2 4 8 7]\n",
      "dilution_factor : [  0 100   5  10  30]\n",
      "optical_density : [ 0.     0.15  15.     0.655  0.132  0.66   0.092  0.131  0.46   0.25\n",
      "  0.431  0.498  2.155  0.47   0.525  0.575  0.78   0.49   0.585  0.186\n",
      "  0.192  0.208  0.219  0.93   0.96   1.04   1.095  0.237  0.699  2.925\n",
      "  0.532  0.178  0.572  0.685  0.755  1.5    0.7    0.815  0.79   0.293\n",
      "  0.502  0.215  0.499  0.144  0.437  0.206  0.631  0.18   0.56   0.58\n",
      "  0.155  0.466  3.4    0.12   0.34   0.371  0.937  0.297  0.367  0.944\n",
      "  0.26   0.707  0.688  0.242  0.16 ]\n"
     ]
    }
   ],
   "source": [
    "# print(merged_left.info())\n",
    "print(merged_left[merged_left.columns[15:18]].nunique())\n",
    "for name in merged_left.columns[15:18]: \n",
    "    print(f'{name} : {merged_left[name].unique()}')"
   ]
  },
  {
   "cell_type": "code",
   "execution_count": 38,
   "metadata": {},
   "outputs": [
    {
     "data": {
      "text/plain": [
       "<AxesSubplot:ylabel='Frequency'>"
      ]
     },
     "execution_count": 38,
     "metadata": {},
     "output_type": "execute_result"
    },
    {
     "data": {
      "image/png": "[encoded data removed]",
      "text/plain": [
       "<Figure size 432x288 with 1 Axes>"
      ]
     },
     "metadata": {
      "needs_background": "light"
     },
     "output_type": "display_data"
    }
   ],
   "source": [
    "merged_left['incubation_day'].plot.hist()"
   ]
  },
  {
   "cell_type": "code",
   "execution_count": 39,
   "metadata": {},
   "outputs": [
    {
     "data": {
      "text/plain": [
       "<AxesSubplot:ylabel='Frequency'>"
      ]
     },
     "execution_count": 39,
     "metadata": {},
     "output_type": "execute_result"
    },
    {
     "data": {
      "image/png": "[encoded data removed]",
      "text/plain": [
       "<Figure size 432x288 with 1 Axes>"
      ]
     },
     "metadata": {
      "needs_background": "light"
     },
     "output_type": "display_data"
    }
   ],
   "source": [
    "merged_left['dilution_factor'].plot.hist()"
   ]
  },
  {
   "cell_type": "code",
   "execution_count": 22,
   "metadata": {},
   "outputs": [
    {
     "data": {
      "text/plain": [
       "count    17740.000000\n",
       "mean         3.749223\n",
       "std          5.798444\n",
       "min          0.000000\n",
       "25%          0.215000\n",
       "50%          0.699000\n",
       "75%          3.400000\n",
       "max         15.000000\n",
       "Name: optical_density, dtype: float64"
      ]
     },
     "execution_count": 22,
     "metadata": {},
     "output_type": "execute_result"
    }
   ],
   "source": [
    "merged_left['optical_density'].describe()"
   ]
  },
  {
   "cell_type": "code",
   "execution_count": 26,
   "metadata": {},
   "outputs": [
    {
     "data": {
      "text/plain": [
       "<AxesSubplot:ylabel='Density'>"
      ]
     },
     "execution_count": 26,
     "metadata": {},
     "output_type": "execute_result"
    },
    {
     "data": {
      "image/png": "[encoded data removed]",
      "text/plain": [
       "<Figure size 432x288 with 1 Axes>"
      ]
     },
     "metadata": {
      "needs_background": "light"
     },
     "output_type": "display_data"
    }
   ],
   "source": [
    "merged_left['optical_density'].plot.kde()"
   ]
  },
  {
   "cell_type": "code",
   "execution_count": 35,
   "metadata": {},
   "outputs": [],
   "source": [
    "q1, q2, q3, q4 = merged_left['optical_density'].quantile(0), merged_left['optical_density'].quantile(.25), merged_left['optical_density'].quantile(.5), merged_left['optical_density'].quantile(.75)"
   ]
  },
  {
   "cell_type": "code",
   "execution_count": 36,
   "metadata": {},
   "outputs": [
    {
     "name": "stdout",
     "output_type": "stream",
     "text": [
      "0.0, 0.215, 0.699, 3.4 \n"
     ]
    }
   ],
   "source": [
    "print(f\"{q1}, {q2}, {q3}, {q4} \")"
   ]
  },
  {
   "cell_type": "code",
   "execution_count": 37,
   "metadata": {},
   "outputs": [
    {
     "data": {
      "text/plain": [
       "4"
      ]
     },
     "execution_count": 37,
     "metadata": {},
     "output_type": "execute_result"
    }
   ],
   "source": [
    "merged_left['optical_density_bin'] = pd.cut(merged_left.optical_density, bins=[q1, q2, q3, q4, np.inf], labels=False, right=False) + 1\n",
    "merged_left['optical_density_bin'].nunique()"
   ]
  },
  {
   "cell_type": "code",
   "execution_count": 25,
   "metadata": {},
   "outputs": [
    {
     "data": {
      "text/plain": [
       "<AxesSubplot:ylabel='Frequency'>"
      ]
     },
     "execution_count": 25,
     "metadata": {},
     "output_type": "execute_result"
    },
    {
     "data": {
      "image/png": "[encoded data removed]",
      "text/plain": [
       "<Figure size 432x288 with 1 Axes>"
      ]
     },
     "metadata": {
      "needs_background": "light"
     },
     "output_type": "display_data"
    }
   ],
   "source": [
    "merged_left['optical_density_bin'].plot.hist()"
   ]
  },
  {
   "cell_type": "code",
   "execution_count": 41,
   "metadata": {},
   "outputs": [
    {
     "data": {
      "text/plain": [
       "16"
      ]
     },
     "execution_count": 41,
     "metadata": {},
     "output_type": "execute_result"
    }
   ],
   "source": [
    "merged_left['incub_day_dilu_fact'] = merged_left['incubation_day'].astype(str) + \"_\" + merged_left['dilution_factor'].astype(str)\n",
    "merged_left['incub_day_dilu_fact'].nunique()"
   ]
  },
  {
   "cell_type": "code",
   "execution_count": 42,
   "metadata": {},
   "outputs": [
    {
     "data": {
      "text/plain": [
       "23"
      ]
     },
     "execution_count": 42,
     "metadata": {},
     "output_type": "execute_result"
    }
   ],
   "source": [
    "merged_left['incub_day_dilu_fact_optical_bin'] = merged_left['incubation_day'].astype(str) + \"_\" + merged_left['dilution_factor'].astype(str) + \"_\" + merged_left['optical_density_bin'].astype(str)\n",
    "merged_left['incub_day_dilu_fact_optical_bin'].nunique() "
   ]
  },
  {
   "cell_type": "markdown",
   "metadata": {},
   "source": [
    "# Train test split with stratify"
   ]
  },
  {
   "cell_type": "code",
   "execution_count": 120,
   "metadata": {},
   "outputs": [],
   "source": [
    "stratify_col=\"dilution_factor\""
   ]
  },
  {
   "cell_type": "code",
   "execution_count": 121,
   "metadata": {},
   "outputs": [],
   "source": [
    "from sklearn.model_selection import train_test_split\n",
    "split_array=merged_left[[\"file_name\",stratify_col]]"
   ]
  },
  {
   "cell_type": "code",
   "execution_count": 122,
   "metadata": {},
   "outputs": [
    {
     "data": {
      "text/html": [
       "<div>\n",
       "<style scoped>\n",
       "    .dataframe tbody tr th:only-of-type {\n",
       "        vertical-align: middle;\n",
       "    }\n",
       "\n",
       "    .dataframe tbody tr th {\n",
       "        vertical-align: top;\n",
       "    }\n",
       "\n",
       "    .dataframe thead th {\n",
       "        text-align: right;\n",
       "    }\n",
       "</style>\n",
       "<table border=\"1\" class=\"dataframe\">\n",
       "  <thead>\n",
       "    <tr style=\"text-align: right;\">\n",
       "      <th></th>\n",
       "      <th>file_name</th>\n",
       "      <th>dilution_factor</th>\n",
       "    </tr>\n",
       "  </thead>\n",
       "  <tbody>\n",
       "    <tr>\n",
       "      <th>0</th>\n",
       "      <td>7 c4 from agar plate 100mL bottle d1 20x undil...</td>\n",
       "      <td>0</td>\n",
       "    </tr>\n",
       "    <tr>\n",
       "      <th>88</th>\n",
       "      <td>6 c3 from agar plate 100mL bottle d1 20x undil...</td>\n",
       "      <td>0</td>\n",
       "    </tr>\n",
       "    <tr>\n",
       "      <th>205</th>\n",
       "      <td>5 c2 from agar plate 100mL bottle d1 20x undil...</td>\n",
       "      <td>0</td>\n",
       "    </tr>\n",
       "    <tr>\n",
       "      <th>404</th>\n",
       "      <td>4 c1 from agar plate 100mL bottle d1 20x undil...</td>\n",
       "      <td>0</td>\n",
       "    </tr>\n",
       "    <tr>\n",
       "      <th>575</th>\n",
       "      <td>2 c0.7L d5 20x 100xdilut OD15.jpg</td>\n",
       "      <td>100</td>\n",
       "    </tr>\n",
       "    <tr>\n",
       "      <th>...</th>\n",
       "      <td>...</td>\n",
       "      <td>...</td>\n",
       "    </tr>\n",
       "    <tr>\n",
       "      <th>17197</th>\n",
       "      <td>79.jpg</td>\n",
       "      <td>30</td>\n",
       "    </tr>\n",
       "    <tr>\n",
       "      <th>17250</th>\n",
       "      <td>78.jpg</td>\n",
       "      <td>10</td>\n",
       "    </tr>\n",
       "    <tr>\n",
       "      <th>17363</th>\n",
       "      <td>77.jpg</td>\n",
       "      <td>100</td>\n",
       "    </tr>\n",
       "    <tr>\n",
       "      <th>17414</th>\n",
       "      <td>76.jpg</td>\n",
       "      <td>30</td>\n",
       "    </tr>\n",
       "    <tr>\n",
       "      <th>17611</th>\n",
       "      <td>100.jpg</td>\n",
       "      <td>100</td>\n",
       "    </tr>\n",
       "  </tbody>\n",
       "</table>\n",
       "<p>99 rows × 2 columns</p>\n",
       "</div>"
      ],
      "text/plain": [
       "                                               file_name  dilution_factor\n",
       "0      7 c4 from agar plate 100mL bottle d1 20x undil...                0\n",
       "88     6 c3 from agar plate 100mL bottle d1 20x undil...                0\n",
       "205    5 c2 from agar plate 100mL bottle d1 20x undil...                0\n",
       "404    4 c1 from agar plate 100mL bottle d1 20x undil...                0\n",
       "575                    2 c0.7L d5 20x 100xdilut OD15.jpg              100\n",
       "...                                                  ...              ...\n",
       "17197                                             79.jpg               30\n",
       "17250                                             78.jpg               10\n",
       "17363                                             77.jpg              100\n",
       "17414                                             76.jpg               30\n",
       "17611                                            100.jpg              100\n",
       "\n",
       "[99 rows x 2 columns]"
      ]
     },
     "execution_count": 122,
     "metadata": {},
     "output_type": "execute_result"
    }
   ],
   "source": [
    "split_array=split_array.drop_duplicates()\n",
    "split_array"
   ]
  },
  {
   "cell_type": "code",
   "execution_count": 123,
   "metadata": {},
   "outputs": [],
   "source": [
    "# Split images into train & test sets\n",
    "train, test = train_test_split(\n",
    "    split_array, test_size=0.2, random_state=42, stratify=split_array[stratify_col]\n",
    ")   "
   ]
  },
  {
   "cell_type": "code",
   "execution_count": 124,
   "metadata": {},
   "outputs": [
    {
     "data": {
      "text/plain": [
       "0      41\n",
       "30     12\n",
       "5      10\n",
       "100     9\n",
       "10      7\n",
       "Name: dilution_factor, dtype: int64"
      ]
     },
     "execution_count": 124,
     "metadata": {},
     "output_type": "execute_result"
    }
   ],
   "source": [
    "train[stratify_col].value_counts()"
   ]
  },
  {
   "cell_type": "code",
   "execution_count": 125,
   "metadata": {},
   "outputs": [
    {
     "data": {
      "text/html": [
       "<div>\n",
       "<style scoped>\n",
       "    .dataframe tbody tr th:only-of-type {\n",
       "        vertical-align: middle;\n",
       "    }\n",
       "\n",
       "    .dataframe tbody tr th {\n",
       "        vertical-align: top;\n",
       "    }\n",
       "\n",
       "    .dataframe thead th {\n",
       "        text-align: right;\n",
       "    }\n",
       "</style>\n",
       "<table border=\"1\" class=\"dataframe\">\n",
       "  <thead>\n",
       "    <tr style=\"text-align: right;\">\n",
       "      <th></th>\n",
       "      <th>file_name</th>\n",
       "      <th>dilution_factor</th>\n",
       "    </tr>\n",
       "  </thead>\n",
       "  <tbody>\n",
       "    <tr>\n",
       "      <th>7490</th>\n",
       "      <td>31.jpg</td>\n",
       "      <td>0</td>\n",
       "    </tr>\n",
       "    <tr>\n",
       "      <th>16964</th>\n",
       "      <td>80.jpg</td>\n",
       "      <td>10</td>\n",
       "    </tr>\n",
       "    <tr>\n",
       "      <th>16765</th>\n",
       "      <td>82.jpg</td>\n",
       "      <td>10</td>\n",
       "    </tr>\n",
       "    <tr>\n",
       "      <th>15128</th>\n",
       "      <td>91.jpg</td>\n",
       "      <td>30</td>\n",
       "    </tr>\n",
       "    <tr>\n",
       "      <th>205</th>\n",
       "      <td>5 c2 from agar plate 100mL bottle d1 20x undil...</td>\n",
       "      <td>0</td>\n",
       "    </tr>\n",
       "    <tr>\n",
       "      <th>...</th>\n",
       "      <td>...</td>\n",
       "      <td>...</td>\n",
       "    </tr>\n",
       "    <tr>\n",
       "      <th>14937</th>\n",
       "      <td>94.jpg</td>\n",
       "      <td>100</td>\n",
       "    </tr>\n",
       "    <tr>\n",
       "      <th>14971</th>\n",
       "      <td>93.jpg</td>\n",
       "      <td>30</td>\n",
       "    </tr>\n",
       "    <tr>\n",
       "      <th>10191</th>\n",
       "      <td>42.jpg</td>\n",
       "      <td>5</td>\n",
       "    </tr>\n",
       "    <tr>\n",
       "      <th>9640</th>\n",
       "      <td>47.jpg</td>\n",
       "      <td>0</td>\n",
       "    </tr>\n",
       "    <tr>\n",
       "      <th>0</th>\n",
       "      <td>7 c4 from agar plate 100mL bottle d1 20x undil...</td>\n",
       "      <td>0</td>\n",
       "    </tr>\n",
       "  </tbody>\n",
       "</table>\n",
       "<p>79 rows × 2 columns</p>\n",
       "</div>"
      ],
      "text/plain": [
       "                                               file_name  dilution_factor\n",
       "7490                                              31.jpg                0\n",
       "16964                                             80.jpg               10\n",
       "16765                                             82.jpg               10\n",
       "15128                                             91.jpg               30\n",
       "205    5 c2 from agar plate 100mL bottle d1 20x undil...                0\n",
       "...                                                  ...              ...\n",
       "14937                                             94.jpg              100\n",
       "14971                                             93.jpg               30\n",
       "10191                                             42.jpg                5\n",
       "9640                                              47.jpg                0\n",
       "0      7 c4 from agar plate 100mL bottle d1 20x undil...                0\n",
       "\n",
       "[79 rows x 2 columns]"
      ]
     },
     "execution_count": 125,
     "metadata": {},
     "output_type": "execute_result"
    }
   ],
   "source": [
    "train"
   ]
  },
  {
   "cell_type": "code",
   "execution_count": 126,
   "metadata": {},
   "outputs": [
    {
     "data": {
      "text/plain": [
       "<AxesSubplot:ylabel='Frequency'>"
      ]
     },
     "execution_count": 126,
     "metadata": {},
     "output_type": "execute_result"
    },
    {
     "data": {
      "image/png": "[encoded data removed]",
      "text/plain": [
       "<Figure size 432x288 with 1 Axes>"
      ]
     },
     "metadata": {
      "needs_background": "light"
     },
     "output_type": "display_data"
    }
   ],
   "source": [
    "train[stratify_col].plot.hist()"
   ]
  },
  {
   "cell_type": "code",
   "execution_count": 127,
   "metadata": {},
   "outputs": [
    {
     "data": {
      "text/plain": [
       "<AxesSubplot:ylabel='Frequency'>"
      ]
     },
     "execution_count": 127,
     "metadata": {},
     "output_type": "execute_result"
    },
    {
     "data": {
      "image/png": "[encoded data removed]",
      "text/plain": [
       "<Figure size 432x288 with 1 Axes>"
      ]
     },
     "metadata": {
      "needs_background": "light"
     },
     "output_type": "display_data"
    }
   ],
   "source": [
    "test[stratify_col].plot.hist()"
   ]
  },
  {
   "cell_type": "code",
   "execution_count": 128,
   "metadata": {},
   "outputs": [
    {
     "data": {
      "text/plain": [
       "0      51.898734\n",
       "30     15.189873\n",
       "5      12.658228\n",
       "100    11.392405\n",
       "10      8.860759\n",
       "Name: dilution_factor, dtype: float64"
      ]
     },
     "execution_count": 128,
     "metadata": {},
     "output_type": "execute_result"
    }
   ],
   "source": [
    "train[stratify_col].value_counts(normalize=True) * 100"
   ]
  },
  {
   "cell_type": "code",
   "execution_count": 129,
   "metadata": {},
   "outputs": [
    {
     "data": {
      "text/plain": [
       "0      55.0\n",
       "30     15.0\n",
       "10     10.0\n",
       "5      10.0\n",
       "100    10.0\n",
       "Name: dilution_factor, dtype: float64"
      ]
     },
     "execution_count": 129,
     "metadata": {},
     "output_type": "execute_result"
    }
   ],
   "source": [
    "test[stratify_col].value_counts(normalize=True) * 100"
   ]
  },
  {
   "cell_type": "markdown",
   "metadata": {},
   "source": [
    "# Train test split without stratify"
   ]
  },
  {
   "cell_type": "code",
   "execution_count": 130,
   "metadata": {},
   "outputs": [],
   "source": [
    "# Split images into train & test sets\n",
    "train, test = train_test_split(\n",
    "    split_array, test_size=0.2, random_state=42\n",
    ")   "
   ]
  },
  {
   "cell_type": "code",
   "execution_count": 131,
   "metadata": {},
   "outputs": [
    {
     "data": {
      "text/html": [
       "<div>\n",
       "<style scoped>\n",
       "    .dataframe tbody tr th:only-of-type {\n",
       "        vertical-align: middle;\n",
       "    }\n",
       "\n",
       "    .dataframe tbody tr th {\n",
       "        vertical-align: top;\n",
       "    }\n",
       "\n",
       "    .dataframe thead th {\n",
       "        text-align: right;\n",
       "    }\n",
       "</style>\n",
       "<table border=\"1\" class=\"dataframe\">\n",
       "  <thead>\n",
       "    <tr style=\"text-align: right;\">\n",
       "      <th></th>\n",
       "      <th>file_name</th>\n",
       "      <th>dilution_factor</th>\n",
       "    </tr>\n",
       "  </thead>\n",
       "  <tbody>\n",
       "    <tr>\n",
       "      <th>10256</th>\n",
       "      <td>40.jpg</td>\n",
       "      <td>5</td>\n",
       "    </tr>\n",
       "    <tr>\n",
       "      <th>13206</th>\n",
       "      <td>60.jpg</td>\n",
       "      <td>10</td>\n",
       "    </tr>\n",
       "    <tr>\n",
       "      <th>12987</th>\n",
       "      <td>62.jpg</td>\n",
       "      <td>0</td>\n",
       "    </tr>\n",
       "    <tr>\n",
       "      <th>5601</th>\n",
       "      <td>17.jpg</td>\n",
       "      <td>0</td>\n",
       "    </tr>\n",
       "    <tr>\n",
       "      <th>9257</th>\n",
       "      <td>50.jpg</td>\n",
       "      <td>0</td>\n",
       "    </tr>\n",
       "    <tr>\n",
       "      <th>...</th>\n",
       "      <td>...</td>\n",
       "      <td>...</td>\n",
       "    </tr>\n",
       "    <tr>\n",
       "      <th>11722</th>\n",
       "      <td>70.jpg</td>\n",
       "      <td>30</td>\n",
       "    </tr>\n",
       "    <tr>\n",
       "      <th>13302</th>\n",
       "      <td>59.jpg</td>\n",
       "      <td>5</td>\n",
       "    </tr>\n",
       "    <tr>\n",
       "      <th>5465</th>\n",
       "      <td>18.jpg</td>\n",
       "      <td>0</td>\n",
       "    </tr>\n",
       "    <tr>\n",
       "      <th>16894</th>\n",
       "      <td>81.jpg</td>\n",
       "      <td>30</td>\n",
       "    </tr>\n",
       "    <tr>\n",
       "      <th>10529</th>\n",
       "      <td>38.jpg</td>\n",
       "      <td>0</td>\n",
       "    </tr>\n",
       "  </tbody>\n",
       "</table>\n",
       "<p>79 rows × 2 columns</p>\n",
       "</div>"
      ],
      "text/plain": [
       "      file_name  dilution_factor\n",
       "10256    40.jpg                5\n",
       "13206    60.jpg               10\n",
       "12987    62.jpg                0\n",
       "5601     17.jpg                0\n",
       "9257     50.jpg                0\n",
       "...         ...              ...\n",
       "11722    70.jpg               30\n",
       "13302    59.jpg                5\n",
       "5465     18.jpg                0\n",
       "16894    81.jpg               30\n",
       "10529    38.jpg                0\n",
       "\n",
       "[79 rows x 2 columns]"
      ]
     },
     "execution_count": 131,
     "metadata": {},
     "output_type": "execute_result"
    }
   ],
   "source": [
    "train"
   ]
  },
  {
   "cell_type": "code",
   "execution_count": 132,
   "metadata": {},
   "outputs": [
    {
     "data": {
      "text/plain": [
       "<AxesSubplot:ylabel='Frequency'>"
      ]
     },
     "execution_count": 132,
     "metadata": {},
     "output_type": "execute_result"
    },
    {
     "data": {
      "image/png": "[encoded data removed]",
      "text/plain": [
       "<Figure size 432x288 with 1 Axes>"
      ]
     },
     "metadata": {
      "needs_background": "light"
     },
     "output_type": "display_data"
    }
   ],
   "source": [
    "train[stratify_col].plot.hist()"
   ]
  },
  {
   "cell_type": "code",
   "execution_count": 133,
   "metadata": {},
   "outputs": [
    {
     "data": {
      "text/plain": [
       "<AxesSubplot:ylabel='Frequency'>"
      ]
     },
     "execution_count": 133,
     "metadata": {},
     "output_type": "execute_result"
    },
    {
     "data": {
      "image/png": "[encoded data removed]",
      "text/plain": [
       "<Figure size 432x288 with 1 Axes>"
      ]
     },
     "metadata": {
      "needs_background": "light"
     },
     "output_type": "display_data"
    }
   ],
   "source": [
    "test[stratify_col].plot.hist()"
   ]
  },
  {
   "cell_type": "code",
   "execution_count": 134,
   "metadata": {},
   "outputs": [
    {
     "data": {
      "text/plain": [
       "0      53.164557\n",
       "30     13.924051\n",
       "100    12.658228\n",
       "5      11.392405\n",
       "10      8.860759\n",
       "Name: dilution_factor, dtype: float64"
      ]
     },
     "execution_count": 134,
     "metadata": {},
     "output_type": "execute_result"
    }
   ],
   "source": [
    "train[stratify_col].value_counts(normalize=True) * 100"
   ]
  },
  {
   "cell_type": "code",
   "execution_count": 135,
   "metadata": {},
   "outputs": [
    {
     "data": {
      "text/plain": [
       "0      50.0\n",
       "30     20.0\n",
       "5      15.0\n",
       "10     10.0\n",
       "100     5.0\n",
       "Name: dilution_factor, dtype: float64"
      ]
     },
     "execution_count": 135,
     "metadata": {},
     "output_type": "execute_result"
    }
   ],
   "source": [
    "test[stratify_col].value_counts(normalize=True) * 100"
   ]
  },
  {
   "cell_type": "code",
   "execution_count": 140,
   "metadata": {},
   "outputs": [
    {
     "data": {
      "text/plain": [
       "0      42\n",
       "30     11\n",
       "100    10\n",
       "5       9\n",
       "10      7\n",
       "Name: dilution_factor, dtype: int64"
      ]
     },
     "execution_count": 140,
     "metadata": {},
     "output_type": "execute_result"
    }
   ],
   "source": [
    "train[stratify_col].value_counts()"
   ]
  },
  {
   "cell_type": "code",
   "execution_count": 144,
   "metadata": {},
   "outputs": [
    {
     "data": {
      "text/html": [
       "<div>\n",
       "<style scoped>\n",
       "    .dataframe tbody tr th:only-of-type {\n",
       "        vertical-align: middle;\n",
       "    }\n",
       "\n",
       "    .dataframe tbody tr th {\n",
       "        vertical-align: top;\n",
       "    }\n",
       "\n",
       "    .dataframe thead th {\n",
       "        text-align: right;\n",
       "    }\n",
       "</style>\n",
       "<table border=\"1\" class=\"dataframe\">\n",
       "  <thead>\n",
       "    <tr style=\"text-align: right;\">\n",
       "      <th></th>\n",
       "      <th>file_name</th>\n",
       "      <th>dilution_factor</th>\n",
       "    </tr>\n",
       "  </thead>\n",
       "  <tbody>\n",
       "    <tr>\n",
       "      <th>13206</th>\n",
       "      <td>60.jpg</td>\n",
       "      <td>10</td>\n",
       "    </tr>\n",
       "    <tr>\n",
       "      <th>16507</th>\n",
       "      <td>84.jpg</td>\n",
       "      <td>10</td>\n",
       "    </tr>\n",
       "    <tr>\n",
       "      <th>13155</th>\n",
       "      <td>61.jpg</td>\n",
       "      <td>10</td>\n",
       "    </tr>\n",
       "    <tr>\n",
       "      <th>8149</th>\n",
       "      <td>55.jpg</td>\n",
       "      <td>10</td>\n",
       "    </tr>\n",
       "    <tr>\n",
       "      <th>16765</th>\n",
       "      <td>82.jpg</td>\n",
       "      <td>10</td>\n",
       "    </tr>\n",
       "    <tr>\n",
       "      <th>16964</th>\n",
       "      <td>80.jpg</td>\n",
       "      <td>10</td>\n",
       "    </tr>\n",
       "    <tr>\n",
       "      <th>16307</th>\n",
       "      <td>86.jpg</td>\n",
       "      <td>10</td>\n",
       "    </tr>\n",
       "  </tbody>\n",
       "</table>\n",
       "</div>"
      ],
      "text/plain": [
       "      file_name  dilution_factor\n",
       "13206    60.jpg               10\n",
       "16507    84.jpg               10\n",
       "13155    61.jpg               10\n",
       "8149     55.jpg               10\n",
       "16765    82.jpg               10\n",
       "16964    80.jpg               10\n",
       "16307    86.jpg               10"
      ]
     },
     "execution_count": 144,
     "metadata": {},
     "output_type": "execute_result"
    }
   ],
   "source": [
    "train[train[stratify_col]==10]"
   ]
  },
  {
   "cell_type": "code",
   "execution_count": 146,
   "metadata": {},
   "outputs": [
    {
     "data": {
      "text/plain": [
       "Index(['file_name', 'dilution_factor'], dtype='object')"
      ]
     },
     "execution_count": 146,
     "metadata": {},
     "output_type": "execute_result"
    }
   ],
   "source": [
    "train.columns"
   ]
  },
  {
   "cell_type": "markdown",
   "metadata": {},
   "source": [
    "# 2. Preprocess for Tile image"
   ]
  },
  {
   "cell_type": "code",
   "execution_count": null,
   "metadata": {},
   "outputs": [],
   "source": [
    "# Note: can be used in def generate_image_tiles(self) -> None: function if orig_allimagename is required.\n",
    "# Create orig_allimagename.csv containing all original image filename with annotation and save to const.TILE_DATA_DIR_PATHS path.\n",
    "\n",
    "\n",
    "# # Extract all valid original image filename with annotations for metadata logging purpose.\n",
    "# df_concat_list = self._convert_raw_annotations(False)\n",
    "# concatenated_df = pd.concat(df_concat_list, ignore_index=True)\n",
    "# self._make_dir(const.TILE_DATA_DIR_PATHS)\n",
    "# orig_allimagename_csv = Path(\n",
    "#     const.TILE_DATA_DIR_PATHS, \"orig_allimagename.csv\",\n",
    "# )\n",
    "# pd.DataFrame(concatenated_df.file_name.unique()).to_csv(\n",
    "#     orig_allimagename_csv, header=None, index=None\n",
    "# )"
   ]
  },
  {
   "cell_type": "code",
   "execution_count": 148,
   "metadata": {},
   "outputs": [
    {
     "data": {
      "text/html": [
       "<div>\n",
       "<style scoped>\n",
       "    .dataframe tbody tr th:only-of-type {\n",
       "        vertical-align: middle;\n",
       "    }\n",
       "\n",
       "    .dataframe tbody tr th {\n",
       "        vertical-align: top;\n",
       "    }\n",
       "\n",
       "    .dataframe thead th {\n",
       "        text-align: right;\n",
       "    }\n",
       "</style>\n",
       "<table border=\"1\" class=\"dataframe\">\n",
       "  <thead>\n",
       "    <tr style=\"text-align: right;\">\n",
       "      <th></th>\n",
       "      <th>7 c4 from agar plate 100mL bottle d1 20x undilut.jpg</th>\n",
       "    </tr>\n",
       "  </thead>\n",
       "  <tbody>\n",
       "    <tr>\n",
       "      <th>0</th>\n",
       "      <td>6 c3 from agar plate 100mL bottle d1 20x undil...</td>\n",
       "    </tr>\n",
       "    <tr>\n",
       "      <th>1</th>\n",
       "      <td>5 c2 from agar plate 100mL bottle d1 20x undil...</td>\n",
       "    </tr>\n",
       "    <tr>\n",
       "      <th>2</th>\n",
       "      <td>4 c1 from agar plate 100mL bottle d1 20x undil...</td>\n",
       "    </tr>\n",
       "    <tr>\n",
       "      <th>3</th>\n",
       "      <td>2 c0.7L d5 20x 100xdilut OD15.jpg</td>\n",
       "    </tr>\n",
       "    <tr>\n",
       "      <th>4</th>\n",
       "      <td>1 c0.7L d5 20x undilut OD15.jpg</td>\n",
       "    </tr>\n",
       "    <tr>\n",
       "      <th>...</th>\n",
       "      <td>...</td>\n",
       "    </tr>\n",
       "    <tr>\n",
       "      <th>93</th>\n",
       "      <td>79.jpg</td>\n",
       "    </tr>\n",
       "    <tr>\n",
       "      <th>94</th>\n",
       "      <td>78.jpg</td>\n",
       "    </tr>\n",
       "    <tr>\n",
       "      <th>95</th>\n",
       "      <td>77.jpg</td>\n",
       "    </tr>\n",
       "    <tr>\n",
       "      <th>96</th>\n",
       "      <td>76.jpg</td>\n",
       "    </tr>\n",
       "    <tr>\n",
       "      <th>97</th>\n",
       "      <td>100.jpg</td>\n",
       "    </tr>\n",
       "  </tbody>\n",
       "</table>\n",
       "<p>98 rows × 1 columns</p>\n",
       "</div>"
      ],
      "text/plain": [
       "   7 c4 from agar plate 100mL bottle d1 20x undilut.jpg\n",
       "0   6 c3 from agar plate 100mL bottle d1 20x undil...  \n",
       "1   5 c2 from agar plate 100mL bottle d1 20x undil...  \n",
       "2   4 c1 from agar plate 100mL bottle d1 20x undil...  \n",
       "3                   2 c0.7L d5 20x 100xdilut OD15.jpg  \n",
       "4                     1 c0.7L d5 20x undilut OD15.jpg  \n",
       "..                                                ...  \n",
       "93                                             79.jpg  \n",
       "94                                             78.jpg  \n",
       "95                                             77.jpg  \n",
       "96                                             76.jpg  \n",
       "97                                            100.jpg  \n",
       "\n",
       "[98 rows x 1 columns]"
      ]
     },
     "execution_count": 148,
     "metadata": {},
     "output_type": "execute_result"
    }
   ],
   "source": [
    "# orig_allimagename_csv = Path(\n",
    "#     const.TILE_DATA_DIR_PATHS, \"orig_allimagename.csv\",\n",
    "# )\n",
    "orig_allimagename_csv='/Users/dylanpoh/Documents/AIsingapore/GitHub/data/tile_processed/orig_allimagename.csv'\n",
    "orig_allimagename=pd.read_csv(orig_allimagename_csv)\n",
    "orig_allimagename"
   ]
  },
  {
   "cell_type": "code",
   "execution_count": null,
   "metadata": {},
   "outputs": [],
   "source": []
  },
  {
   "cell_type": "markdown",
   "metadata": {},
   "source": [
    "# Combine all images and create a dataframe"
   ]
  },
  {
   "cell_type": "code",
   "execution_count": 156,
   "metadata": {},
   "outputs": [],
   "source": [
    "tile_file_path_list=[\"/Users/dylanpoh/Documents/AIsingapore/GitHub/data/tile_processed/images 1-7 revised/annotations/instances_default.json\"\n",
    " ,\"/Users/dylanpoh/Documents/AIsingapore/GitHub/data/tile_processed/images 8-24 revised/annotations/instances_default.json\"\n",
    " ,\"/Users/dylanpoh/Documents/AIsingapore/GitHub/data/tile_processed/images 25-35 revised/annotations/instances_default.json\"\n",
    " ,\"/Users/dylanpoh/Documents/AIsingapore/GitHub/data/tile_processed/images 36-55 revised/annotations/instances_default.json\"\n",
    " ,\"/Users/dylanpoh/Documents/AIsingapore/GitHub/data/tile_processed/images 56-75 revised/annotations/instances_default.json\"\n",
    " ,\"/Users/dylanpoh/Documents/AIsingapore/GitHub/data/tile_processed/images 76-100 revised/annotations/instances_default.json\"]"
   ]
  },
  {
   "cell_type": "code",
   "execution_count": 157,
   "metadata": {},
   "outputs": [
    {
     "name": "stdout",
     "output_type": "stream",
     "text": [
      "Number of annotations: 1010\n",
      "Number of annotations: 4374\n",
      "Number of annotations: 1981\n",
      "Number of annotations: 4889\n",
      "Number of annotations: 5335\n",
      "Number of annotations: 5261\n"
     ]
    }
   ],
   "source": [
    "tile_df_concat_list = []\n",
    "\n",
    "#_convert_raw_annotations\n",
    "for annot_file_path in tile_file_path_list:\n",
    "    coco_annotations = _load_coco_annotations(annot_file_path)\n",
    "\n",
    "    image_info = coco_annotations[\"images\"]\n",
    "    df_images = pd.DataFrame(image_info)\n",
    "    df_images.set_index(\"id\", inplace=True)\n",
    "    # df_images.drop(\n",
    "    #     labels=[\"license\", \"flickr_url\", \"coco_url\", \"date_captured\"],\n",
    "    #     axis=1,\n",
    "    #     inplace=True,\n",
    "    # )\n",
    "\n",
    "    categories_mapping = coco_annotations[\"categories\"]\n",
    "    df_cat = pd.DataFrame(categories_mapping)\n",
    "    df_cat.rename(mapper={\"name\": \"category_name\"}, axis=1, inplace=True)\n",
    "    df_cat.drop(labels=[\"supercategory\"], axis=1, inplace=True)\n",
    "\n",
    "    annotations = coco_annotations[\"annotations\"]\n",
    "    print(f\"Number of annotations: {len(annotations)}\")\n",
    "    df_annot = pd.DataFrame(annotations)\n",
    "    df_annot.set_index(\"id\", inplace=True)\n",
    "    df_annot.drop(\n",
    "        # labels=[\"segmentation\", \"iscrowd\", \"attributes\"], axis=1, inplace=True\n",
    "        labels=[\"segmentation\", \"iscrowd\"],\n",
    "        axis=1,\n",
    "        inplace=True,\n",
    "    )\n",
    "\n",
    "    final_df = df_annot.merge(df_images, left_on=\"image_id\", right_on=\"id\")\n",
    "    final_df = final_df.merge(df_cat, left_on=\"category_id\", right_on=\"id\")\n",
    "    final_df.drop(labels=[\"id\"], axis=1, inplace=True)\n",
    "    tile_df_concat_list.append(final_df)"
   ]
  },
  {
   "cell_type": "code",
   "execution_count": 158,
   "metadata": {},
   "outputs": [
    {
     "data": {
      "text/plain": [
       "['/Users/dylanpoh/Documents/AIsingapore/GitHub/data/tile_processed/images 1-7 revised/annotations/instances_default.json',\n",
       " '/Users/dylanpoh/Documents/AIsingapore/GitHub/data/tile_processed/images 8-24 revised/annotations/instances_default.json',\n",
       " '/Users/dylanpoh/Documents/AIsingapore/GitHub/data/tile_processed/images 25-35 revised/annotations/instances_default.json',\n",
       " '/Users/dylanpoh/Documents/AIsingapore/GitHub/data/tile_processed/images 36-55 revised/annotations/instances_default.json',\n",
       " '/Users/dylanpoh/Documents/AIsingapore/GitHub/data/tile_processed/images 56-75 revised/annotations/instances_default.json',\n",
       " '/Users/dylanpoh/Documents/AIsingapore/GitHub/data/tile_processed/images 76-100 revised/annotations/instances_default.json']"
      ]
     },
     "metadata": {},
     "output_type": "display_data"
    }
   ],
   "source": [
    "display(tile_file_path_list)"
   ]
  },
  {
   "cell_type": "code",
   "execution_count": 165,
   "metadata": {},
   "outputs": [
    {
     "data": {
      "text/html": [
       "<div>\n",
       "<style scoped>\n",
       "    .dataframe tbody tr th:only-of-type {\n",
       "        vertical-align: middle;\n",
       "    }\n",
       "\n",
       "    .dataframe tbody tr th {\n",
       "        vertical-align: top;\n",
       "    }\n",
       "\n",
       "    .dataframe thead th {\n",
       "        text-align: right;\n",
       "    }\n",
       "</style>\n",
       "<table border=\"1\" class=\"dataframe\">\n",
       "  <thead>\n",
       "    <tr style=\"text-align: right;\">\n",
       "      <th></th>\n",
       "      <th>image_id</th>\n",
       "      <th>bbox</th>\n",
       "      <th>category_id</th>\n",
       "      <th>area</th>\n",
       "      <th>height</th>\n",
       "      <th>width</th>\n",
       "      <th>file_name</th>\n",
       "      <th>category_name</th>\n",
       "    </tr>\n",
       "  </thead>\n",
       "  <tbody>\n",
       "    <tr>\n",
       "      <th>0</th>\n",
       "      <td>1</td>\n",
       "      <td>[598, 595, 13, 11]</td>\n",
       "      <td>1</td>\n",
       "      <td>143</td>\n",
       "      <td>640</td>\n",
       "      <td>640</td>\n",
       "      <td>7 c4 from agar plate 100mL bottle d1 20x undil...</td>\n",
       "      <td>Cells</td>\n",
       "    </tr>\n",
       "    <tr>\n",
       "      <th>1</th>\n",
       "      <td>1</td>\n",
       "      <td>[172, 524, 10, 10]</td>\n",
       "      <td>1</td>\n",
       "      <td>100</td>\n",
       "      <td>640</td>\n",
       "      <td>640</td>\n",
       "      <td>7 c4 from agar plate 100mL bottle d1 20x undil...</td>\n",
       "      <td>Cells</td>\n",
       "    </tr>\n",
       "    <tr>\n",
       "      <th>2</th>\n",
       "      <td>1</td>\n",
       "      <td>[294, 493, 17, 16]</td>\n",
       "      <td>1</td>\n",
       "      <td>272</td>\n",
       "      <td>640</td>\n",
       "      <td>640</td>\n",
       "      <td>7 c4 from agar plate 100mL bottle d1 20x undil...</td>\n",
       "      <td>Cells</td>\n",
       "    </tr>\n",
       "    <tr>\n",
       "      <th>3</th>\n",
       "      <td>1</td>\n",
       "      <td>[344, 382, 13, 14]</td>\n",
       "      <td>1</td>\n",
       "      <td>182</td>\n",
       "      <td>640</td>\n",
       "      <td>640</td>\n",
       "      <td>7 c4 from agar plate 100mL bottle d1 20x undil...</td>\n",
       "      <td>Cells</td>\n",
       "    </tr>\n",
       "    <tr>\n",
       "      <th>4</th>\n",
       "      <td>1</td>\n",
       "      <td>[220, 344, 9, 10]</td>\n",
       "      <td>1</td>\n",
       "      <td>90</td>\n",
       "      <td>640</td>\n",
       "      <td>640</td>\n",
       "      <td>7 c4 from agar plate 100mL bottle d1 20x undil...</td>\n",
       "      <td>Cells</td>\n",
       "    </tr>\n",
       "    <tr>\n",
       "      <th>...</th>\n",
       "      <td>...</td>\n",
       "      <td>...</td>\n",
       "      <td>...</td>\n",
       "      <td>...</td>\n",
       "      <td>...</td>\n",
       "      <td>...</td>\n",
       "      <td>...</td>\n",
       "      <td>...</td>\n",
       "    </tr>\n",
       "    <tr>\n",
       "      <th>22845</th>\n",
       "      <td>170</td>\n",
       "      <td>[455, 443, 41, 37]</td>\n",
       "      <td>3</td>\n",
       "      <td>1517</td>\n",
       "      <td>640</td>\n",
       "      <td>640</td>\n",
       "      <td>78_512_0_1152_640.jpg</td>\n",
       "      <td>cell accumulation (large cells)</td>\n",
       "    </tr>\n",
       "    <tr>\n",
       "      <th>22846</th>\n",
       "      <td>174</td>\n",
       "      <td>[455, 3, 41, 37]</td>\n",
       "      <td>3</td>\n",
       "      <td>1517</td>\n",
       "      <td>640</td>\n",
       "      <td>640</td>\n",
       "      <td>78_512_440_1152_1080.jpg</td>\n",
       "      <td>cell accumulation (large cells)</td>\n",
       "    </tr>\n",
       "    <tr>\n",
       "      <th>22847</th>\n",
       "      <td>178</td>\n",
       "      <td>[372, 446, 38, 37]</td>\n",
       "      <td>3</td>\n",
       "      <td>1406</td>\n",
       "      <td>640</td>\n",
       "      <td>640</td>\n",
       "      <td>77_512_0_1152_640.jpg</td>\n",
       "      <td>cell accumulation (large cells)</td>\n",
       "    </tr>\n",
       "    <tr>\n",
       "      <th>22848</th>\n",
       "      <td>178</td>\n",
       "      <td>[481, 62, 26, 22]</td>\n",
       "      <td>3</td>\n",
       "      <td>572</td>\n",
       "      <td>640</td>\n",
       "      <td>640</td>\n",
       "      <td>77_512_0_1152_640.jpg</td>\n",
       "      <td>cell accumulation (large cells)</td>\n",
       "    </tr>\n",
       "    <tr>\n",
       "      <th>22849</th>\n",
       "      <td>182</td>\n",
       "      <td>[372, 6, 38, 37]</td>\n",
       "      <td>3</td>\n",
       "      <td>1406</td>\n",
       "      <td>640</td>\n",
       "      <td>640</td>\n",
       "      <td>77_512_440_1152_1080.jpg</td>\n",
       "      <td>cell accumulation (large cells)</td>\n",
       "    </tr>\n",
       "  </tbody>\n",
       "</table>\n",
       "<p>22850 rows × 8 columns</p>\n",
       "</div>"
      ],
      "text/plain": [
       "       image_id                bbox  category_id  area  height  width  \\\n",
       "0             1  [598, 595, 13, 11]            1   143     640    640   \n",
       "1             1  [172, 524, 10, 10]            1   100     640    640   \n",
       "2             1  [294, 493, 17, 16]            1   272     640    640   \n",
       "3             1  [344, 382, 13, 14]            1   182     640    640   \n",
       "4             1   [220, 344, 9, 10]            1    90     640    640   \n",
       "...         ...                 ...          ...   ...     ...    ...   \n",
       "22845       170  [455, 443, 41, 37]            3  1517     640    640   \n",
       "22846       174    [455, 3, 41, 37]            3  1517     640    640   \n",
       "22847       178  [372, 446, 38, 37]            3  1406     640    640   \n",
       "22848       178   [481, 62, 26, 22]            3   572     640    640   \n",
       "22849       182    [372, 6, 38, 37]            3  1406     640    640   \n",
       "\n",
       "                                               file_name  \\\n",
       "0      7 c4 from agar plate 100mL bottle d1 20x undil...   \n",
       "1      7 c4 from agar plate 100mL bottle d1 20x undil...   \n",
       "2      7 c4 from agar plate 100mL bottle d1 20x undil...   \n",
       "3      7 c4 from agar plate 100mL bottle d1 20x undil...   \n",
       "4      7 c4 from agar plate 100mL bottle d1 20x undil...   \n",
       "...                                                  ...   \n",
       "22845                              78_512_0_1152_640.jpg   \n",
       "22846                           78_512_440_1152_1080.jpg   \n",
       "22847                              77_512_0_1152_640.jpg   \n",
       "22848                              77_512_0_1152_640.jpg   \n",
       "22849                           77_512_440_1152_1080.jpg   \n",
       "\n",
       "                         category_name  \n",
       "0                                Cells  \n",
       "1                                Cells  \n",
       "2                                Cells  \n",
       "3                                Cells  \n",
       "4                                Cells  \n",
       "...                                ...  \n",
       "22845  cell accumulation (large cells)  \n",
       "22846  cell accumulation (large cells)  \n",
       "22847  cell accumulation (large cells)  \n",
       "22848  cell accumulation (large cells)  \n",
       "22849  cell accumulation (large cells)  \n",
       "\n",
       "[22850 rows x 8 columns]"
      ]
     },
     "execution_count": 165,
     "metadata": {},
     "output_type": "execute_result"
    }
   ],
   "source": [
    "concatenated_df = pd.concat(tile_df_concat_list, ignore_index=True)\n",
    "concatenated_df\n"
   ]
  },
  {
   "cell_type": "code",
   "execution_count": 166,
   "metadata": {},
   "outputs": [
    {
     "data": {
      "text/plain": [
       "(22850, 8)"
      ]
     },
     "execution_count": 166,
     "metadata": {},
     "output_type": "execute_result"
    }
   ],
   "source": [
    "concatenated_df.shape"
   ]
  },
  {
   "cell_type": "code",
   "execution_count": 167,
   "metadata": {},
   "outputs": [
    {
     "data": {
      "text/plain": [
       "783"
      ]
     },
     "execution_count": 167,
     "metadata": {},
     "output_type": "execute_result"
    }
   ],
   "source": [
    "len(concatenated_df.file_name.unique())"
   ]
  },
  {
   "cell_type": "markdown",
   "metadata": {},
   "source": [
    "# split the filname to match the original filename."
   ]
  },
  {
   "cell_type": "code",
   "execution_count": 177,
   "metadata": {},
   "outputs": [
    {
     "data": {
      "text/html": [
       "<div>\n",
       "<style scoped>\n",
       "    .dataframe tbody tr th:only-of-type {\n",
       "        vertical-align: middle;\n",
       "    }\n",
       "\n",
       "    .dataframe tbody tr th {\n",
       "        vertical-align: top;\n",
       "    }\n",
       "\n",
       "    .dataframe thead th {\n",
       "        text-align: right;\n",
       "    }\n",
       "</style>\n",
       "<table border=\"1\" class=\"dataframe\">\n",
       "  <thead>\n",
       "    <tr style=\"text-align: right;\">\n",
       "      <th></th>\n",
       "      <th>image_id</th>\n",
       "      <th>bbox</th>\n",
       "      <th>category_id</th>\n",
       "      <th>area</th>\n",
       "      <th>height</th>\n",
       "      <th>width</th>\n",
       "      <th>file_name</th>\n",
       "      <th>category_name</th>\n",
       "      <th>file_name_split</th>\n",
       "    </tr>\n",
       "  </thead>\n",
       "  <tbody>\n",
       "    <tr>\n",
       "      <th>0</th>\n",
       "      <td>1</td>\n",
       "      <td>[598, 595, 13, 11]</td>\n",
       "      <td>1</td>\n",
       "      <td>143</td>\n",
       "      <td>640</td>\n",
       "      <td>640</td>\n",
       "      <td>7 c4 from agar plate 100mL bottle d1 20x undil...</td>\n",
       "      <td>Cells</td>\n",
       "      <td>7 c4 from agar plate 100mL bottle d1 20x undilut</td>\n",
       "    </tr>\n",
       "    <tr>\n",
       "      <th>1</th>\n",
       "      <td>1</td>\n",
       "      <td>[172, 524, 10, 10]</td>\n",
       "      <td>1</td>\n",
       "      <td>100</td>\n",
       "      <td>640</td>\n",
       "      <td>640</td>\n",
       "      <td>7 c4 from agar plate 100mL bottle d1 20x undil...</td>\n",
       "      <td>Cells</td>\n",
       "      <td>7 c4 from agar plate 100mL bottle d1 20x undilut</td>\n",
       "    </tr>\n",
       "    <tr>\n",
       "      <th>2</th>\n",
       "      <td>1</td>\n",
       "      <td>[294, 493, 17, 16]</td>\n",
       "      <td>1</td>\n",
       "      <td>272</td>\n",
       "      <td>640</td>\n",
       "      <td>640</td>\n",
       "      <td>7 c4 from agar plate 100mL bottle d1 20x undil...</td>\n",
       "      <td>Cells</td>\n",
       "      <td>7 c4 from agar plate 100mL bottle d1 20x undilut</td>\n",
       "    </tr>\n",
       "    <tr>\n",
       "      <th>3</th>\n",
       "      <td>1</td>\n",
       "      <td>[344, 382, 13, 14]</td>\n",
       "      <td>1</td>\n",
       "      <td>182</td>\n",
       "      <td>640</td>\n",
       "      <td>640</td>\n",
       "      <td>7 c4 from agar plate 100mL bottle d1 20x undil...</td>\n",
       "      <td>Cells</td>\n",
       "      <td>7 c4 from agar plate 100mL bottle d1 20x undilut</td>\n",
       "    </tr>\n",
       "    <tr>\n",
       "      <th>4</th>\n",
       "      <td>1</td>\n",
       "      <td>[220, 344, 9, 10]</td>\n",
       "      <td>1</td>\n",
       "      <td>90</td>\n",
       "      <td>640</td>\n",
       "      <td>640</td>\n",
       "      <td>7 c4 from agar plate 100mL bottle d1 20x undil...</td>\n",
       "      <td>Cells</td>\n",
       "      <td>7 c4 from agar plate 100mL bottle d1 20x undilut</td>\n",
       "    </tr>\n",
       "    <tr>\n",
       "      <th>...</th>\n",
       "      <td>...</td>\n",
       "      <td>...</td>\n",
       "      <td>...</td>\n",
       "      <td>...</td>\n",
       "      <td>...</td>\n",
       "      <td>...</td>\n",
       "      <td>...</td>\n",
       "      <td>...</td>\n",
       "      <td>...</td>\n",
       "    </tr>\n",
       "    <tr>\n",
       "      <th>22845</th>\n",
       "      <td>170</td>\n",
       "      <td>[455, 443, 41, 37]</td>\n",
       "      <td>3</td>\n",
       "      <td>1517</td>\n",
       "      <td>640</td>\n",
       "      <td>640</td>\n",
       "      <td>78_512_0_1152_640.jpg</td>\n",
       "      <td>cell accumulation (large cells)</td>\n",
       "      <td>78</td>\n",
       "    </tr>\n",
       "    <tr>\n",
       "      <th>22846</th>\n",
       "      <td>174</td>\n",
       "      <td>[455, 3, 41, 37]</td>\n",
       "      <td>3</td>\n",
       "      <td>1517</td>\n",
       "      <td>640</td>\n",
       "      <td>640</td>\n",
       "      <td>78_512_440_1152_1080.jpg</td>\n",
       "      <td>cell accumulation (large cells)</td>\n",
       "      <td>78</td>\n",
       "    </tr>\n",
       "    <tr>\n",
       "      <th>22847</th>\n",
       "      <td>178</td>\n",
       "      <td>[372, 446, 38, 37]</td>\n",
       "      <td>3</td>\n",
       "      <td>1406</td>\n",
       "      <td>640</td>\n",
       "      <td>640</td>\n",
       "      <td>77_512_0_1152_640.jpg</td>\n",
       "      <td>cell accumulation (large cells)</td>\n",
       "      <td>77</td>\n",
       "    </tr>\n",
       "    <tr>\n",
       "      <th>22848</th>\n",
       "      <td>178</td>\n",
       "      <td>[481, 62, 26, 22]</td>\n",
       "      <td>3</td>\n",
       "      <td>572</td>\n",
       "      <td>640</td>\n",
       "      <td>640</td>\n",
       "      <td>77_512_0_1152_640.jpg</td>\n",
       "      <td>cell accumulation (large cells)</td>\n",
       "      <td>77</td>\n",
       "    </tr>\n",
       "    <tr>\n",
       "      <th>22849</th>\n",
       "      <td>182</td>\n",
       "      <td>[372, 6, 38, 37]</td>\n",
       "      <td>3</td>\n",
       "      <td>1406</td>\n",
       "      <td>640</td>\n",
       "      <td>640</td>\n",
       "      <td>77_512_440_1152_1080.jpg</td>\n",
       "      <td>cell accumulation (large cells)</td>\n",
       "      <td>77</td>\n",
       "    </tr>\n",
       "  </tbody>\n",
       "</table>\n",
       "<p>22850 rows × 9 columns</p>\n",
       "</div>"
      ],
      "text/plain": [
       "       image_id                bbox  category_id  area  height  width  \\\n",
       "0             1  [598, 595, 13, 11]            1   143     640    640   \n",
       "1             1  [172, 524, 10, 10]            1   100     640    640   \n",
       "2             1  [294, 493, 17, 16]            1   272     640    640   \n",
       "3             1  [344, 382, 13, 14]            1   182     640    640   \n",
       "4             1   [220, 344, 9, 10]            1    90     640    640   \n",
       "...         ...                 ...          ...   ...     ...    ...   \n",
       "22845       170  [455, 443, 41, 37]            3  1517     640    640   \n",
       "22846       174    [455, 3, 41, 37]            3  1517     640    640   \n",
       "22847       178  [372, 446, 38, 37]            3  1406     640    640   \n",
       "22848       178   [481, 62, 26, 22]            3   572     640    640   \n",
       "22849       182    [372, 6, 38, 37]            3  1406     640    640   \n",
       "\n",
       "                                               file_name  \\\n",
       "0      7 c4 from agar plate 100mL bottle d1 20x undil...   \n",
       "1      7 c4 from agar plate 100mL bottle d1 20x undil...   \n",
       "2      7 c4 from agar plate 100mL bottle d1 20x undil...   \n",
       "3      7 c4 from agar plate 100mL bottle d1 20x undil...   \n",
       "4      7 c4 from agar plate 100mL bottle d1 20x undil...   \n",
       "...                                                  ...   \n",
       "22845                              78_512_0_1152_640.jpg   \n",
       "22846                           78_512_440_1152_1080.jpg   \n",
       "22847                              77_512_0_1152_640.jpg   \n",
       "22848                              77_512_0_1152_640.jpg   \n",
       "22849                           77_512_440_1152_1080.jpg   \n",
       "\n",
       "                         category_name  \\\n",
       "0                                Cells   \n",
       "1                                Cells   \n",
       "2                                Cells   \n",
       "3                                Cells   \n",
       "4                                Cells   \n",
       "...                                ...   \n",
       "22845  cell accumulation (large cells)   \n",
       "22846  cell accumulation (large cells)   \n",
       "22847  cell accumulation (large cells)   \n",
       "22848  cell accumulation (large cells)   \n",
       "22849  cell accumulation (large cells)   \n",
       "\n",
       "                                        file_name_split  \n",
       "0      7 c4 from agar plate 100mL bottle d1 20x undilut  \n",
       "1      7 c4 from agar plate 100mL bottle d1 20x undilut  \n",
       "2      7 c4 from agar plate 100mL bottle d1 20x undilut  \n",
       "3      7 c4 from agar plate 100mL bottle d1 20x undilut  \n",
       "4      7 c4 from agar plate 100mL bottle d1 20x undilut  \n",
       "...                                                 ...  \n",
       "22845                                                78  \n",
       "22846                                                78  \n",
       "22847                                                77  \n",
       "22848                                                77  \n",
       "22849                                                77  \n",
       "\n",
       "[22850 rows x 9 columns]"
      ]
     },
     "execution_count": 177,
     "metadata": {},
     "output_type": "execute_result"
    }
   ],
   "source": [
    "concatenated_df[\"file_name_split\"] = concatenated_df.file_name.str.rsplit(\"_\", n=4, expand=True)[0]\n",
    "concatenated_df\n"
   ]
  },
  {
   "cell_type": "code",
   "execution_count": 178,
   "metadata": {},
   "outputs": [],
   "source": [
    "merged_df = pd.merge(\n",
    "    left=concatenated_df,\n",
    "    right=df_metadata[selected_col],\n",
    "    how=\"left\",\n",
    "    left_on=\"file_name_split\",\n",
    "    right_on=\"Filename\",\n",
    ")"
   ]
  },
  {
   "cell_type": "code",
   "execution_count": 183,
   "metadata": {},
   "outputs": [
    {
     "data": {
      "text/html": [
       "<div>\n",
       "<style scoped>\n",
       "    .dataframe tbody tr th:only-of-type {\n",
       "        vertical-align: middle;\n",
       "    }\n",
       "\n",
       "    .dataframe tbody tr th {\n",
       "        vertical-align: top;\n",
       "    }\n",
       "\n",
       "    .dataframe thead th {\n",
       "        text-align: right;\n",
       "    }\n",
       "</style>\n",
       "<table border=\"1\" class=\"dataframe\">\n",
       "  <thead>\n",
       "    <tr style=\"text-align: right;\">\n",
       "      <th></th>\n",
       "      <th>image_id</th>\n",
       "      <th>bbox</th>\n",
       "      <th>category_id</th>\n",
       "      <th>area</th>\n",
       "      <th>height</th>\n",
       "      <th>width</th>\n",
       "      <th>file_name</th>\n",
       "      <th>category_name</th>\n",
       "      <th>file_name_split</th>\n",
       "      <th>Filename</th>\n",
       "      <th>incubation_day</th>\n",
       "      <th>dilution_factor</th>\n",
       "      <th>optical_density</th>\n",
       "    </tr>\n",
       "  </thead>\n",
       "  <tbody>\n",
       "    <tr>\n",
       "      <th>0</th>\n",
       "      <td>1</td>\n",
       "      <td>[598, 595, 13, 11]</td>\n",
       "      <td>1</td>\n",
       "      <td>143</td>\n",
       "      <td>640</td>\n",
       "      <td>640</td>\n",
       "      <td>7 c4 from agar plate 100mL bottle d1 20x undil...</td>\n",
       "      <td>Cells</td>\n",
       "      <td>7 c4 from agar plate 100mL bottle d1 20x undilut</td>\n",
       "      <td>7 c4 from agar plate 100mL bottle d1 20x undilut</td>\n",
       "      <td>1</td>\n",
       "      <td>0</td>\n",
       "      <td>0.000</td>\n",
       "    </tr>\n",
       "    <tr>\n",
       "      <th>1</th>\n",
       "      <td>1</td>\n",
       "      <td>[172, 524, 10, 10]</td>\n",
       "      <td>1</td>\n",
       "      <td>100</td>\n",
       "      <td>640</td>\n",
       "      <td>640</td>\n",
       "      <td>7 c4 from agar plate 100mL bottle d1 20x undil...</td>\n",
       "      <td>Cells</td>\n",
       "      <td>7 c4 from agar plate 100mL bottle d1 20x undilut</td>\n",
       "      <td>7 c4 from agar plate 100mL bottle d1 20x undilut</td>\n",
       "      <td>1</td>\n",
       "      <td>0</td>\n",
       "      <td>0.000</td>\n",
       "    </tr>\n",
       "    <tr>\n",
       "      <th>2</th>\n",
       "      <td>1</td>\n",
       "      <td>[294, 493, 17, 16]</td>\n",
       "      <td>1</td>\n",
       "      <td>272</td>\n",
       "      <td>640</td>\n",
       "      <td>640</td>\n",
       "      <td>7 c4 from agar plate 100mL bottle d1 20x undil...</td>\n",
       "      <td>Cells</td>\n",
       "      <td>7 c4 from agar plate 100mL bottle d1 20x undilut</td>\n",
       "      <td>7 c4 from agar plate 100mL bottle d1 20x undilut</td>\n",
       "      <td>1</td>\n",
       "      <td>0</td>\n",
       "      <td>0.000</td>\n",
       "    </tr>\n",
       "    <tr>\n",
       "      <th>3</th>\n",
       "      <td>1</td>\n",
       "      <td>[344, 382, 13, 14]</td>\n",
       "      <td>1</td>\n",
       "      <td>182</td>\n",
       "      <td>640</td>\n",
       "      <td>640</td>\n",
       "      <td>7 c4 from agar plate 100mL bottle d1 20x undil...</td>\n",
       "      <td>Cells</td>\n",
       "      <td>7 c4 from agar plate 100mL bottle d1 20x undilut</td>\n",
       "      <td>7 c4 from agar plate 100mL bottle d1 20x undilut</td>\n",
       "      <td>1</td>\n",
       "      <td>0</td>\n",
       "      <td>0.000</td>\n",
       "    </tr>\n",
       "    <tr>\n",
       "      <th>4</th>\n",
       "      <td>1</td>\n",
       "      <td>[220, 344, 9, 10]</td>\n",
       "      <td>1</td>\n",
       "      <td>90</td>\n",
       "      <td>640</td>\n",
       "      <td>640</td>\n",
       "      <td>7 c4 from agar plate 100mL bottle d1 20x undil...</td>\n",
       "      <td>Cells</td>\n",
       "      <td>7 c4 from agar plate 100mL bottle d1 20x undilut</td>\n",
       "      <td>7 c4 from agar plate 100mL bottle d1 20x undilut</td>\n",
       "      <td>1</td>\n",
       "      <td>0</td>\n",
       "      <td>0.000</td>\n",
       "    </tr>\n",
       "    <tr>\n",
       "      <th>...</th>\n",
       "      <td>...</td>\n",
       "      <td>...</td>\n",
       "      <td>...</td>\n",
       "      <td>...</td>\n",
       "      <td>...</td>\n",
       "      <td>...</td>\n",
       "      <td>...</td>\n",
       "      <td>...</td>\n",
       "      <td>...</td>\n",
       "      <td>...</td>\n",
       "      <td>...</td>\n",
       "      <td>...</td>\n",
       "      <td>...</td>\n",
       "    </tr>\n",
       "    <tr>\n",
       "      <th>22845</th>\n",
       "      <td>170</td>\n",
       "      <td>[455, 443, 41, 37]</td>\n",
       "      <td>3</td>\n",
       "      <td>1517</td>\n",
       "      <td>640</td>\n",
       "      <td>640</td>\n",
       "      <td>78_512_0_1152_640.jpg</td>\n",
       "      <td>cell accumulation (large cells)</td>\n",
       "      <td>78</td>\n",
       "      <td>78</td>\n",
       "      <td>7</td>\n",
       "      <td>10</td>\n",
       "      <td>0.707</td>\n",
       "    </tr>\n",
       "    <tr>\n",
       "      <th>22846</th>\n",
       "      <td>174</td>\n",
       "      <td>[455, 3, 41, 37]</td>\n",
       "      <td>3</td>\n",
       "      <td>1517</td>\n",
       "      <td>640</td>\n",
       "      <td>640</td>\n",
       "      <td>78_512_440_1152_1080.jpg</td>\n",
       "      <td>cell accumulation (large cells)</td>\n",
       "      <td>78</td>\n",
       "      <td>78</td>\n",
       "      <td>7</td>\n",
       "      <td>10</td>\n",
       "      <td>0.707</td>\n",
       "    </tr>\n",
       "    <tr>\n",
       "      <th>22847</th>\n",
       "      <td>178</td>\n",
       "      <td>[372, 446, 38, 37]</td>\n",
       "      <td>3</td>\n",
       "      <td>1406</td>\n",
       "      <td>640</td>\n",
       "      <td>640</td>\n",
       "      <td>77_512_0_1152_640.jpg</td>\n",
       "      <td>cell accumulation (large cells)</td>\n",
       "      <td>77</td>\n",
       "      <td>77</td>\n",
       "      <td>8</td>\n",
       "      <td>100</td>\n",
       "      <td>0.688</td>\n",
       "    </tr>\n",
       "    <tr>\n",
       "      <th>22848</th>\n",
       "      <td>178</td>\n",
       "      <td>[481, 62, 26, 22]</td>\n",
       "      <td>3</td>\n",
       "      <td>572</td>\n",
       "      <td>640</td>\n",
       "      <td>640</td>\n",
       "      <td>77_512_0_1152_640.jpg</td>\n",
       "      <td>cell accumulation (large cells)</td>\n",
       "      <td>77</td>\n",
       "      <td>77</td>\n",
       "      <td>8</td>\n",
       "      <td>100</td>\n",
       "      <td>0.688</td>\n",
       "    </tr>\n",
       "    <tr>\n",
       "      <th>22849</th>\n",
       "      <td>182</td>\n",
       "      <td>[372, 6, 38, 37]</td>\n",
       "      <td>3</td>\n",
       "      <td>1406</td>\n",
       "      <td>640</td>\n",
       "      <td>640</td>\n",
       "      <td>77_512_440_1152_1080.jpg</td>\n",
       "      <td>cell accumulation (large cells)</td>\n",
       "      <td>77</td>\n",
       "      <td>77</td>\n",
       "      <td>8</td>\n",
       "      <td>100</td>\n",
       "      <td>0.688</td>\n",
       "    </tr>\n",
       "  </tbody>\n",
       "</table>\n",
       "<p>22850 rows × 13 columns</p>\n",
       "</div>"
      ],
      "text/plain": [
       "       image_id                bbox  category_id  area  height  width  \\\n",
       "0             1  [598, 595, 13, 11]            1   143     640    640   \n",
       "1             1  [172, 524, 10, 10]            1   100     640    640   \n",
       "2             1  [294, 493, 17, 16]            1   272     640    640   \n",
       "3             1  [344, 382, 13, 14]            1   182     640    640   \n",
       "4             1   [220, 344, 9, 10]            1    90     640    640   \n",
       "...         ...                 ...          ...   ...     ...    ...   \n",
       "22845       170  [455, 443, 41, 37]            3  1517     640    640   \n",
       "22846       174    [455, 3, 41, 37]            3  1517     640    640   \n",
       "22847       178  [372, 446, 38, 37]            3  1406     640    640   \n",
       "22848       178   [481, 62, 26, 22]            3   572     640    640   \n",
       "22849       182    [372, 6, 38, 37]            3  1406     640    640   \n",
       "\n",
       "                                               file_name  \\\n",
       "0      7 c4 from agar plate 100mL bottle d1 20x undil...   \n",
       "1      7 c4 from agar plate 100mL bottle d1 20x undil...   \n",
       "2      7 c4 from agar plate 100mL bottle d1 20x undil...   \n",
       "3      7 c4 from agar plate 100mL bottle d1 20x undil...   \n",
       "4      7 c4 from agar plate 100mL bottle d1 20x undil...   \n",
       "...                                                  ...   \n",
       "22845                              78_512_0_1152_640.jpg   \n",
       "22846                           78_512_440_1152_1080.jpg   \n",
       "22847                              77_512_0_1152_640.jpg   \n",
       "22848                              77_512_0_1152_640.jpg   \n",
       "22849                           77_512_440_1152_1080.jpg   \n",
       "\n",
       "                         category_name  \\\n",
       "0                                Cells   \n",
       "1                                Cells   \n",
       "2                                Cells   \n",
       "3                                Cells   \n",
       "4                                Cells   \n",
       "...                                ...   \n",
       "22845  cell accumulation (large cells)   \n",
       "22846  cell accumulation (large cells)   \n",
       "22847  cell accumulation (large cells)   \n",
       "22848  cell accumulation (large cells)   \n",
       "22849  cell accumulation (large cells)   \n",
       "\n",
       "                                        file_name_split  \\\n",
       "0      7 c4 from agar plate 100mL bottle d1 20x undilut   \n",
       "1      7 c4 from agar plate 100mL bottle d1 20x undilut   \n",
       "2      7 c4 from agar plate 100mL bottle d1 20x undilut   \n",
       "3      7 c4 from agar plate 100mL bottle d1 20x undilut   \n",
       "4      7 c4 from agar plate 100mL bottle d1 20x undilut   \n",
       "...                                                 ...   \n",
       "22845                                                78   \n",
       "22846                                                78   \n",
       "22847                                                77   \n",
       "22848                                                77   \n",
       "22849                                                77   \n",
       "\n",
       "                                               Filename  incubation_day  \\\n",
       "0      7 c4 from agar plate 100mL bottle d1 20x undilut               1   \n",
       "1      7 c4 from agar plate 100mL bottle d1 20x undilut               1   \n",
       "2      7 c4 from agar plate 100mL bottle d1 20x undilut               1   \n",
       "3      7 c4 from agar plate 100mL bottle d1 20x undilut               1   \n",
       "4      7 c4 from agar plate 100mL bottle d1 20x undilut               1   \n",
       "...                                                 ...             ...   \n",
       "22845                                                78               7   \n",
       "22846                                                78               7   \n",
       "22847                                                77               8   \n",
       "22848                                                77               8   \n",
       "22849                                                77               8   \n",
       "\n",
       "       dilution_factor  optical_density  \n",
       "0                    0            0.000  \n",
       "1                    0            0.000  \n",
       "2                    0            0.000  \n",
       "3                    0            0.000  \n",
       "4                    0            0.000  \n",
       "...                ...              ...  \n",
       "22845               10            0.707  \n",
       "22846               10            0.707  \n",
       "22847              100            0.688  \n",
       "22848              100            0.688  \n",
       "22849              100            0.688  \n",
       "\n",
       "[22850 rows x 13 columns]"
      ]
     },
     "execution_count": 183,
     "metadata": {},
     "output_type": "execute_result"
    }
   ],
   "source": [
    "merged_df"
   ]
  },
  {
   "cell_type": "code",
   "execution_count": null,
   "metadata": {},
   "outputs": [],
   "source": []
  },
  {
   "cell_type": "code",
   "execution_count": 181,
   "metadata": {},
   "outputs": [
    {
     "data": {
      "text/plain": [
       "0"
      ]
     },
     "execution_count": 181,
     "metadata": {},
     "output_type": "execute_result"
    }
   ],
   "source": [
    "merged_df.isnull().sum().sum()"
   ]
  },
  {
   "cell_type": "code",
   "execution_count": 190,
   "metadata": {},
   "outputs": [
    {
     "data": {
      "text/plain": [
       "13"
      ]
     },
     "execution_count": 190,
     "metadata": {},
     "output_type": "execute_result"
    }
   ],
   "source": [
    "len(merged_df.columns)"
   ]
  },
  {
   "cell_type": "code",
   "execution_count": 193,
   "metadata": {},
   "outputs": [
    {
     "name": "stdout",
     "output_type": "stream",
     "text": [
      "incubation_day      7\n",
      "dilution_factor     5\n",
      "optical_density    64\n",
      "dtype: int64\n",
      "incubation_day : [1 5 3 2 4 8 7]\n",
      "dilution_factor : [  0 100   5  10  30]\n",
      "optical_density : [0.    0.15  0.655 0.66  0.132 0.092 0.131 0.46  0.25  0.431 0.498 2.155\n",
      " 0.47  0.525 0.575 0.78  0.49  0.585 0.186 0.192 0.208 0.219 0.93  0.96\n",
      " 1.04  1.095 0.237 0.699 2.925 0.532 0.178 0.572 0.685 0.755 1.5   0.7\n",
      " 0.815 0.79  0.293 0.502 0.215 0.499 0.144 0.437 0.206 0.631 0.18  0.56\n",
      " 0.58  0.155 0.466 3.4   0.12  0.34  0.371 0.937 0.297 0.367 0.944 0.26\n",
      " 0.707 0.688 0.242 0.16 ]\n"
     ]
    }
   ],
   "source": [
    "print(merged_df[merged_df.columns[10:13]].nunique())\n",
    "for name in merged_df.columns[10:13]: \n",
    "    print(f'{name} : {merged_df[name].unique()}')"
   ]
  },
  {
   "cell_type": "code",
   "execution_count": 194,
   "metadata": {},
   "outputs": [
    {
     "data": {
      "text/plain": [
       "<AxesSubplot:ylabel='Frequency'>"
      ]
     },
     "execution_count": 194,
     "metadata": {},
     "output_type": "execute_result"
    },
    {
     "data": {
      "image/png": "[encoded data removed]",
      "text/plain": [
       "<Figure size 432x288 with 1 Axes>"
      ]
     },
     "metadata": {
      "needs_background": "light"
     },
     "output_type": "display_data"
    }
   ],
   "source": [
    "merged_df['incubation_day'].plot.hist()"
   ]
  },
  {
   "cell_type": "code",
   "execution_count": 195,
   "metadata": {},
   "outputs": [
    {
     "data": {
      "text/plain": [
       "<AxesSubplot:ylabel='Frequency'>"
      ]
     },
     "execution_count": 195,
     "metadata": {},
     "output_type": "execute_result"
    },
    {
     "data": {
      "image/png": "[encoded data removed]",
      "text/plain": [
       "<Figure size 432x288 with 1 Axes>"
      ]
     },
     "metadata": {
      "needs_background": "light"
     },
     "output_type": "display_data"
    }
   ],
   "source": [
    "merged_df['dilution_factor'].plot.hist()"
   ]
  },
  {
   "cell_type": "code",
   "execution_count": 196,
   "metadata": {},
   "outputs": [
    {
     "data": {
      "text/plain": [
       "count    22850.000000\n",
       "mean         0.825472\n",
       "std          0.989734\n",
       "min          0.000000\n",
       "25%          0.000000\n",
       "50%          0.575000\n",
       "75%          0.937000\n",
       "max          3.400000\n",
       "Name: optical_density, dtype: float64"
      ]
     },
     "execution_count": 196,
     "metadata": {},
     "output_type": "execute_result"
    }
   ],
   "source": [
    "merged_df['optical_density'].describe()"
   ]
  },
  {
   "cell_type": "code",
   "execution_count": null,
   "metadata": {},
   "outputs": [
    {
     "data": {
      "text/plain": [
       "<AxesSubplot:ylabel='Density'>"
      ]
     },
     "metadata": {},
     "output_type": "display_data"
    },
    {
     "data": {
      "image/png": "[encoded data removed]",
      "text/plain": [
       "<Figure size 432x288 with 1 Axes>"
      ]
     },
     "metadata": {},
     "output_type": "display_data"
    }
   ],
   "source": [
    "merged_left['optical_density'].plot.kde()"
   ]
  },
  {
   "cell_type": "code",
   "execution_count": 197,
   "metadata": {},
   "outputs": [],
   "source": [
    "q1, q2, q3, q4 = merged_df['optical_density'].quantile(0), merged_df['optical_density'].quantile(.25), merged_df['optical_density'].quantile(.5), merged_df['optical_density'].quantile(.75)"
   ]
  },
  {
   "cell_type": "code",
   "execution_count": 198,
   "metadata": {},
   "outputs": [
    {
     "name": "stdout",
     "output_type": "stream",
     "text": [
      "0.0, 0.0, 0.575, 0.937 \n"
     ]
    }
   ],
   "source": [
    "print(f\"{q1}, {q2}, {q3}, {q4} \")"
   ]
  },
  {
   "cell_type": "code",
   "execution_count": 199,
   "metadata": {},
   "outputs": [
    {
     "ename": "ValueError",
     "evalue": "Bin edges must be unique: array([0.   , 0.   , 0.575, 0.937,   inf]).\nYou can drop duplicate edges by setting the 'duplicates' kwarg",
     "output_type": "error",
     "traceback": [
      "\u001b[0;31m---------------------------------------------------------------------------\u001b[0m",
      "\u001b[0;31mValueError\u001b[0m                                Traceback (most recent call last)",
      "\u001b[0;32m<ipython-input-199-6c60c03992fe>\u001b[0m in \u001b[0;36m<module>\u001b[0;34m()\u001b[0m\n\u001b[0;32m----> 1\u001b[0;31m \u001b[0mmerged_df\u001b[0m\u001b[0;34m[\u001b[0m\u001b[0;34m'optical_density_bin'\u001b[0m\u001b[0;34m]\u001b[0m \u001b[0;34m=\u001b[0m \u001b[0mpd\u001b[0m\u001b[0;34m.\u001b[0m\u001b[0mcut\u001b[0m\u001b[0;34m(\u001b[0m\u001b[0mmerged_df\u001b[0m\u001b[0;34m.\u001b[0m\u001b[0moptical_density\u001b[0m\u001b[0;34m,\u001b[0m \u001b[0mbins\u001b[0m\u001b[0;34m=\u001b[0m\u001b[0;34m[\u001b[0m\u001b[0mq1\u001b[0m\u001b[0;34m,\u001b[0m \u001b[0mq2\u001b[0m\u001b[0;34m,\u001b[0m \u001b[0mq3\u001b[0m\u001b[0;34m,\u001b[0m \u001b[0mq4\u001b[0m\u001b[0;34m,\u001b[0m \u001b[0mnp\u001b[0m\u001b[0;34m.\u001b[0m\u001b[0minf\u001b[0m\u001b[0;34m]\u001b[0m\u001b[0;34m,\u001b[0m \u001b[0mlabels\u001b[0m\u001b[0;34m=\u001b[0m\u001b[0;32mFalse\u001b[0m\u001b[0;34m,\u001b[0m \u001b[0mright\u001b[0m\u001b[0;34m=\u001b[0m\u001b[0;32mFalse\u001b[0m\u001b[0;34m)\u001b[0m \u001b[0;34m+\u001b[0m \u001b[0;36m1\u001b[0m\u001b[0;34m\u001b[0m\u001b[0;34m\u001b[0m\u001b[0m\n\u001b[0m\u001b[1;32m      2\u001b[0m \u001b[0mmerged_df\u001b[0m\u001b[0;34m[\u001b[0m\u001b[0;34m'optical_density_bin'\u001b[0m\u001b[0;34m]\u001b[0m\u001b[0;34m.\u001b[0m\u001b[0mnunique\u001b[0m\u001b[0;34m(\u001b[0m\u001b[0;34m)\u001b[0m\u001b[0;34m\u001b[0m\u001b[0;34m\u001b[0m\u001b[0m\n",
      "\u001b[0;32m/Users/dylanpoh/opt/anaconda3/envs/life3-biotech-2/lib/python3.6/site-packages/pandas/core/reshape/tile.py\u001b[0m in \u001b[0;36mcut\u001b[0;34m(x, bins, right, labels, retbins, precision, include_lowest, duplicates, ordered)\u001b[0m\n\u001b[1;32m    282\u001b[0m         \u001b[0mdtype\u001b[0m\u001b[0;34m=\u001b[0m\u001b[0mdtype\u001b[0m\u001b[0;34m,\u001b[0m\u001b[0;34m\u001b[0m\u001b[0;34m\u001b[0m\u001b[0m\n\u001b[1;32m    283\u001b[0m         \u001b[0mduplicates\u001b[0m\u001b[0;34m=\u001b[0m\u001b[0mduplicates\u001b[0m\u001b[0;34m,\u001b[0m\u001b[0;34m\u001b[0m\u001b[0;34m\u001b[0m\u001b[0m\n\u001b[0;32m--> 284\u001b[0;31m         \u001b[0mordered\u001b[0m\u001b[0;34m=\u001b[0m\u001b[0mordered\u001b[0m\u001b[0;34m,\u001b[0m\u001b[0;34m\u001b[0m\u001b[0;34m\u001b[0m\u001b[0m\n\u001b[0m\u001b[1;32m    285\u001b[0m     )\n\u001b[1;32m    286\u001b[0m \u001b[0;34m\u001b[0m\u001b[0m\n",
      "\u001b[0;32m/Users/dylanpoh/opt/anaconda3/envs/life3-biotech-2/lib/python3.6/site-packages/pandas/core/reshape/tile.py\u001b[0m in \u001b[0;36m_bins_to_cuts\u001b[0;34m(x, bins, right, labels, precision, include_lowest, dtype, duplicates, ordered)\u001b[0m\n\u001b[1;32m    400\u001b[0m         \u001b[0;32mif\u001b[0m \u001b[0mduplicates\u001b[0m \u001b[0;34m==\u001b[0m \u001b[0;34m\"raise\"\u001b[0m\u001b[0;34m:\u001b[0m\u001b[0;34m\u001b[0m\u001b[0;34m\u001b[0m\u001b[0m\n\u001b[1;32m    401\u001b[0m             raise ValueError(\n\u001b[0;32m--> 402\u001b[0;31m                 \u001b[0;34mf\"Bin edges must be unique: {repr(bins)}.\\n\"\u001b[0m\u001b[0;34m\u001b[0m\u001b[0;34m\u001b[0m\u001b[0m\n\u001b[0m\u001b[1;32m    403\u001b[0m                 \u001b[0;34mf\"You can drop duplicate edges by setting the 'duplicates' kwarg\"\u001b[0m\u001b[0;34m\u001b[0m\u001b[0;34m\u001b[0m\u001b[0m\n\u001b[1;32m    404\u001b[0m             )\n",
      "\u001b[0;31mValueError\u001b[0m: Bin edges must be unique: array([0.   , 0.   , 0.575, 0.937,   inf]).\nYou can drop duplicate edges by setting the 'duplicates' kwarg"
     ]
    }
   ],
   "source": [
    "merged_df['optical_density_bin'] = pd.cut(merged_df.optical_density, bins=[q1, q2, q3, q4, np.inf], labels=False, right=False) + 1\n",
    "merged_df['optical_density_bin'].nunique()"
   ]
  },
  {
   "cell_type": "code",
   "execution_count": 200,
   "metadata": {},
   "outputs": [
    {
     "ename": "KeyError",
     "evalue": "'optical_density_bin'",
     "output_type": "error",
     "traceback": [
      "\u001b[0;31m---------------------------------------------------------------------------\u001b[0m",
      "\u001b[0;31mKeyError\u001b[0m                                  Traceback (most recent call last)",
      "\u001b[0;32m/Users/dylanpoh/opt/anaconda3/envs/life3-biotech-2/lib/python3.6/site-packages/pandas/core/indexes/base.py\u001b[0m in \u001b[0;36mget_loc\u001b[0;34m(self, key, method, tolerance)\u001b[0m\n\u001b[1;32m   2897\u001b[0m             \u001b[0;32mtry\u001b[0m\u001b[0;34m:\u001b[0m\u001b[0;34m\u001b[0m\u001b[0;34m\u001b[0m\u001b[0m\n\u001b[0;32m-> 2898\u001b[0;31m                 \u001b[0;32mreturn\u001b[0m \u001b[0mself\u001b[0m\u001b[0;34m.\u001b[0m\u001b[0m_engine\u001b[0m\u001b[0;34m.\u001b[0m\u001b[0mget_loc\u001b[0m\u001b[0;34m(\u001b[0m\u001b[0mcasted_key\u001b[0m\u001b[0;34m)\u001b[0m\u001b[0;34m\u001b[0m\u001b[0;34m\u001b[0m\u001b[0m\n\u001b[0m\u001b[1;32m   2899\u001b[0m             \u001b[0;32mexcept\u001b[0m \u001b[0mKeyError\u001b[0m \u001b[0;32mas\u001b[0m \u001b[0merr\u001b[0m\u001b[0;34m:\u001b[0m\u001b[0;34m\u001b[0m\u001b[0;34m\u001b[0m\u001b[0m\n",
      "\u001b[0;32mpandas/_libs/index.pyx\u001b[0m in \u001b[0;36mpandas._libs.index.IndexEngine.get_loc\u001b[0;34m()\u001b[0m\n",
      "\u001b[0;32mpandas/_libs/index.pyx\u001b[0m in \u001b[0;36mpandas._libs.index.IndexEngine.get_loc\u001b[0;34m()\u001b[0m\n",
      "\u001b[0;32mpandas/_libs/hashtable_class_helper.pxi\u001b[0m in \u001b[0;36mpandas._libs.hashtable.PyObjectHashTable.get_item\u001b[0;34m()\u001b[0m\n",
      "\u001b[0;32mpandas/_libs/hashtable_class_helper.pxi\u001b[0m in \u001b[0;36mpandas._libs.hashtable.PyObjectHashTable.get_item\u001b[0;34m()\u001b[0m\n",
      "\u001b[0;31mKeyError\u001b[0m: 'optical_density_bin'",
      "\nThe above exception was the direct cause of the following exception:\n",
      "\u001b[0;31mKeyError\u001b[0m                                  Traceback (most recent call last)",
      "\u001b[0;32m<ipython-input-200-e9fa21e99f84>\u001b[0m in \u001b[0;36m<module>\u001b[0;34m()\u001b[0m\n\u001b[0;32m----> 1\u001b[0;31m \u001b[0mmerged_df\u001b[0m\u001b[0;34m[\u001b[0m\u001b[0;34m'optical_density_bin'\u001b[0m\u001b[0;34m]\u001b[0m\u001b[0;34m.\u001b[0m\u001b[0mplot\u001b[0m\u001b[0;34m.\u001b[0m\u001b[0mhist\u001b[0m\u001b[0;34m(\u001b[0m\u001b[0;34m)\u001b[0m\u001b[0;34m\u001b[0m\u001b[0;34m\u001b[0m\u001b[0m\n\u001b[0m",
      "\u001b[0;32m/Users/dylanpoh/opt/anaconda3/envs/life3-biotech-2/lib/python3.6/site-packages/pandas/core/frame.py\u001b[0m in \u001b[0;36m__getitem__\u001b[0;34m(self, key)\u001b[0m\n\u001b[1;32m   2904\u001b[0m             \u001b[0;32mif\u001b[0m \u001b[0mself\u001b[0m\u001b[0;34m.\u001b[0m\u001b[0mcolumns\u001b[0m\u001b[0;34m.\u001b[0m\u001b[0mnlevels\u001b[0m \u001b[0;34m>\u001b[0m \u001b[0;36m1\u001b[0m\u001b[0;34m:\u001b[0m\u001b[0;34m\u001b[0m\u001b[0;34m\u001b[0m\u001b[0m\n\u001b[1;32m   2905\u001b[0m                 \u001b[0;32mreturn\u001b[0m \u001b[0mself\u001b[0m\u001b[0;34m.\u001b[0m\u001b[0m_getitem_multilevel\u001b[0m\u001b[0;34m(\u001b[0m\u001b[0mkey\u001b[0m\u001b[0;34m)\u001b[0m\u001b[0;34m\u001b[0m\u001b[0;34m\u001b[0m\u001b[0m\n\u001b[0;32m-> 2906\u001b[0;31m             \u001b[0mindexer\u001b[0m \u001b[0;34m=\u001b[0m \u001b[0mself\u001b[0m\u001b[0;34m.\u001b[0m\u001b[0mcolumns\u001b[0m\u001b[0;34m.\u001b[0m\u001b[0mget_loc\u001b[0m\u001b[0;34m(\u001b[0m\u001b[0mkey\u001b[0m\u001b[0;34m)\u001b[0m\u001b[0;34m\u001b[0m\u001b[0;34m\u001b[0m\u001b[0m\n\u001b[0m\u001b[1;32m   2907\u001b[0m             \u001b[0;32mif\u001b[0m \u001b[0mis_integer\u001b[0m\u001b[0;34m(\u001b[0m\u001b[0mindexer\u001b[0m\u001b[0;34m)\u001b[0m\u001b[0;34m:\u001b[0m\u001b[0;34m\u001b[0m\u001b[0;34m\u001b[0m\u001b[0m\n\u001b[1;32m   2908\u001b[0m                 \u001b[0mindexer\u001b[0m \u001b[0;34m=\u001b[0m \u001b[0;34m[\u001b[0m\u001b[0mindexer\u001b[0m\u001b[0;34m]\u001b[0m\u001b[0;34m\u001b[0m\u001b[0;34m\u001b[0m\u001b[0m\n",
      "\u001b[0;32m/Users/dylanpoh/opt/anaconda3/envs/life3-biotech-2/lib/python3.6/site-packages/pandas/core/indexes/base.py\u001b[0m in \u001b[0;36mget_loc\u001b[0;34m(self, key, method, tolerance)\u001b[0m\n\u001b[1;32m   2898\u001b[0m                 \u001b[0;32mreturn\u001b[0m \u001b[0mself\u001b[0m\u001b[0;34m.\u001b[0m\u001b[0m_engine\u001b[0m\u001b[0;34m.\u001b[0m\u001b[0mget_loc\u001b[0m\u001b[0;34m(\u001b[0m\u001b[0mcasted_key\u001b[0m\u001b[0;34m)\u001b[0m\u001b[0;34m\u001b[0m\u001b[0;34m\u001b[0m\u001b[0m\n\u001b[1;32m   2899\u001b[0m             \u001b[0;32mexcept\u001b[0m \u001b[0mKeyError\u001b[0m \u001b[0;32mas\u001b[0m \u001b[0merr\u001b[0m\u001b[0;34m:\u001b[0m\u001b[0;34m\u001b[0m\u001b[0;34m\u001b[0m\u001b[0m\n\u001b[0;32m-> 2900\u001b[0;31m                 \u001b[0;32mraise\u001b[0m \u001b[0mKeyError\u001b[0m\u001b[0;34m(\u001b[0m\u001b[0mkey\u001b[0m\u001b[0;34m)\u001b[0m \u001b[0;32mfrom\u001b[0m \u001b[0merr\u001b[0m\u001b[0;34m\u001b[0m\u001b[0;34m\u001b[0m\u001b[0m\n\u001b[0m\u001b[1;32m   2901\u001b[0m \u001b[0;34m\u001b[0m\u001b[0m\n\u001b[1;32m   2902\u001b[0m         \u001b[0;32mif\u001b[0m \u001b[0mtolerance\u001b[0m \u001b[0;32mis\u001b[0m \u001b[0;32mnot\u001b[0m \u001b[0;32mNone\u001b[0m\u001b[0;34m:\u001b[0m\u001b[0;34m\u001b[0m\u001b[0;34m\u001b[0m\u001b[0m\n",
      "\u001b[0;31mKeyError\u001b[0m: 'optical_density_bin'"
     ]
    }
   ],
   "source": [
    "merged_df['optical_density_bin'].plot.hist()"
   ]
  },
  {
   "cell_type": "code",
   "execution_count": 201,
   "metadata": {},
   "outputs": [
    {
     "data": {
      "text/plain": [
       "16"
      ]
     },
     "execution_count": 201,
     "metadata": {},
     "output_type": "execute_result"
    }
   ],
   "source": [
    "merged_df['incub_day_dilu_fact'] = merged_df['incubation_day'].astype(str) + \"_\" + merged_df['dilution_factor'].astype(str)\n",
    "merged_df['incub_day_dilu_fact'].nunique()"
   ]
  },
  {
   "cell_type": "code",
   "execution_count": 202,
   "metadata": {},
   "outputs": [
    {
     "ename": "KeyError",
     "evalue": "'optical_density_bin'",
     "output_type": "error",
     "traceback": [
      "\u001b[0;31m---------------------------------------------------------------------------\u001b[0m",
      "\u001b[0;31mKeyError\u001b[0m                                  Traceback (most recent call last)",
      "\u001b[0;32m/Users/dylanpoh/opt/anaconda3/envs/life3-biotech-2/lib/python3.6/site-packages/pandas/core/indexes/base.py\u001b[0m in \u001b[0;36mget_loc\u001b[0;34m(self, key, method, tolerance)\u001b[0m\n\u001b[1;32m   2897\u001b[0m             \u001b[0;32mtry\u001b[0m\u001b[0;34m:\u001b[0m\u001b[0;34m\u001b[0m\u001b[0;34m\u001b[0m\u001b[0m\n\u001b[0;32m-> 2898\u001b[0;31m                 \u001b[0;32mreturn\u001b[0m \u001b[0mself\u001b[0m\u001b[0;34m.\u001b[0m\u001b[0m_engine\u001b[0m\u001b[0;34m.\u001b[0m\u001b[0mget_loc\u001b[0m\u001b[0;34m(\u001b[0m\u001b[0mcasted_key\u001b[0m\u001b[0;34m)\u001b[0m\u001b[0;34m\u001b[0m\u001b[0;34m\u001b[0m\u001b[0m\n\u001b[0m\u001b[1;32m   2899\u001b[0m             \u001b[0;32mexcept\u001b[0m \u001b[0mKeyError\u001b[0m \u001b[0;32mas\u001b[0m \u001b[0merr\u001b[0m\u001b[0;34m:\u001b[0m\u001b[0;34m\u001b[0m\u001b[0;34m\u001b[0m\u001b[0m\n",
      "\u001b[0;32mpandas/_libs/index.pyx\u001b[0m in \u001b[0;36mpandas._libs.index.IndexEngine.get_loc\u001b[0;34m()\u001b[0m\n",
      "\u001b[0;32mpandas/_libs/index.pyx\u001b[0m in \u001b[0;36mpandas._libs.index.IndexEngine.get_loc\u001b[0;34m()\u001b[0m\n",
      "\u001b[0;32mpandas/_libs/hashtable_class_helper.pxi\u001b[0m in \u001b[0;36mpandas._libs.hashtable.PyObjectHashTable.get_item\u001b[0;34m()\u001b[0m\n",
      "\u001b[0;32mpandas/_libs/hashtable_class_helper.pxi\u001b[0m in \u001b[0;36mpandas._libs.hashtable.PyObjectHashTable.get_item\u001b[0;34m()\u001b[0m\n",
      "\u001b[0;31mKeyError\u001b[0m: 'optical_density_bin'",
      "\nThe above exception was the direct cause of the following exception:\n",
      "\u001b[0;31mKeyError\u001b[0m                                  Traceback (most recent call last)",
      "\u001b[0;32m<ipython-input-202-afa0ad2097d0>\u001b[0m in \u001b[0;36m<module>\u001b[0;34m()\u001b[0m\n\u001b[0;32m----> 1\u001b[0;31m \u001b[0mmerged_df\u001b[0m\u001b[0;34m[\u001b[0m\u001b[0;34m'incub_day_dilu_fact_optical_bin'\u001b[0m\u001b[0;34m]\u001b[0m \u001b[0;34m=\u001b[0m \u001b[0mmerged_df\u001b[0m\u001b[0;34m[\u001b[0m\u001b[0;34m'incubation_day'\u001b[0m\u001b[0;34m]\u001b[0m\u001b[0;34m.\u001b[0m\u001b[0mastype\u001b[0m\u001b[0;34m(\u001b[0m\u001b[0mstr\u001b[0m\u001b[0;34m)\u001b[0m \u001b[0;34m+\u001b[0m \u001b[0;34m\"_\"\u001b[0m \u001b[0;34m+\u001b[0m \u001b[0mmerged_df\u001b[0m\u001b[0;34m[\u001b[0m\u001b[0;34m'dilution_factor'\u001b[0m\u001b[0;34m]\u001b[0m\u001b[0;34m.\u001b[0m\u001b[0mastype\u001b[0m\u001b[0;34m(\u001b[0m\u001b[0mstr\u001b[0m\u001b[0;34m)\u001b[0m \u001b[0;34m+\u001b[0m \u001b[0;34m\"_\"\u001b[0m \u001b[0;34m+\u001b[0m \u001b[0mmerged_df\u001b[0m\u001b[0;34m[\u001b[0m\u001b[0;34m'optical_density_bin'\u001b[0m\u001b[0;34m]\u001b[0m\u001b[0;34m.\u001b[0m\u001b[0mastype\u001b[0m\u001b[0;34m(\u001b[0m\u001b[0mstr\u001b[0m\u001b[0;34m)\u001b[0m\u001b[0;34m\u001b[0m\u001b[0;34m\u001b[0m\u001b[0m\n\u001b[0m\u001b[1;32m      2\u001b[0m \u001b[0mmerged_df\u001b[0m\u001b[0;34m[\u001b[0m\u001b[0;34m'incub_day_dilu_fact_optical_bin'\u001b[0m\u001b[0;34m]\u001b[0m\u001b[0;34m.\u001b[0m\u001b[0mnunique\u001b[0m\u001b[0;34m(\u001b[0m\u001b[0;34m)\u001b[0m\u001b[0;34m\u001b[0m\u001b[0;34m\u001b[0m\u001b[0m\n",
      "\u001b[0;32m/Users/dylanpoh/opt/anaconda3/envs/life3-biotech-2/lib/python3.6/site-packages/pandas/core/frame.py\u001b[0m in \u001b[0;36m__getitem__\u001b[0;34m(self, key)\u001b[0m\n\u001b[1;32m   2904\u001b[0m             \u001b[0;32mif\u001b[0m \u001b[0mself\u001b[0m\u001b[0;34m.\u001b[0m\u001b[0mcolumns\u001b[0m\u001b[0;34m.\u001b[0m\u001b[0mnlevels\u001b[0m \u001b[0;34m>\u001b[0m \u001b[0;36m1\u001b[0m\u001b[0;34m:\u001b[0m\u001b[0;34m\u001b[0m\u001b[0;34m\u001b[0m\u001b[0m\n\u001b[1;32m   2905\u001b[0m                 \u001b[0;32mreturn\u001b[0m \u001b[0mself\u001b[0m\u001b[0;34m.\u001b[0m\u001b[0m_getitem_multilevel\u001b[0m\u001b[0;34m(\u001b[0m\u001b[0mkey\u001b[0m\u001b[0;34m)\u001b[0m\u001b[0;34m\u001b[0m\u001b[0;34m\u001b[0m\u001b[0m\n\u001b[0;32m-> 2906\u001b[0;31m             \u001b[0mindexer\u001b[0m \u001b[0;34m=\u001b[0m \u001b[0mself\u001b[0m\u001b[0;34m.\u001b[0m\u001b[0mcolumns\u001b[0m\u001b[0;34m.\u001b[0m\u001b[0mget_loc\u001b[0m\u001b[0;34m(\u001b[0m\u001b[0mkey\u001b[0m\u001b[0;34m)\u001b[0m\u001b[0;34m\u001b[0m\u001b[0;34m\u001b[0m\u001b[0m\n\u001b[0m\u001b[1;32m   2907\u001b[0m             \u001b[0;32mif\u001b[0m \u001b[0mis_integer\u001b[0m\u001b[0;34m(\u001b[0m\u001b[0mindexer\u001b[0m\u001b[0;34m)\u001b[0m\u001b[0;34m:\u001b[0m\u001b[0;34m\u001b[0m\u001b[0;34m\u001b[0m\u001b[0m\n\u001b[1;32m   2908\u001b[0m                 \u001b[0mindexer\u001b[0m \u001b[0;34m=\u001b[0m \u001b[0;34m[\u001b[0m\u001b[0mindexer\u001b[0m\u001b[0;34m]\u001b[0m\u001b[0;34m\u001b[0m\u001b[0;34m\u001b[0m\u001b[0m\n",
      "\u001b[0;32m/Users/dylanpoh/opt/anaconda3/envs/life3-biotech-2/lib/python3.6/site-packages/pandas/core/indexes/base.py\u001b[0m in \u001b[0;36mget_loc\u001b[0;34m(self, key, method, tolerance)\u001b[0m\n\u001b[1;32m   2898\u001b[0m                 \u001b[0;32mreturn\u001b[0m \u001b[0mself\u001b[0m\u001b[0;34m.\u001b[0m\u001b[0m_engine\u001b[0m\u001b[0;34m.\u001b[0m\u001b[0mget_loc\u001b[0m\u001b[0;34m(\u001b[0m\u001b[0mcasted_key\u001b[0m\u001b[0;34m)\u001b[0m\u001b[0;34m\u001b[0m\u001b[0;34m\u001b[0m\u001b[0m\n\u001b[1;32m   2899\u001b[0m             \u001b[0;32mexcept\u001b[0m \u001b[0mKeyError\u001b[0m \u001b[0;32mas\u001b[0m \u001b[0merr\u001b[0m\u001b[0;34m:\u001b[0m\u001b[0;34m\u001b[0m\u001b[0;34m\u001b[0m\u001b[0m\n\u001b[0;32m-> 2900\u001b[0;31m                 \u001b[0;32mraise\u001b[0m \u001b[0mKeyError\u001b[0m\u001b[0;34m(\u001b[0m\u001b[0mkey\u001b[0m\u001b[0;34m)\u001b[0m \u001b[0;32mfrom\u001b[0m \u001b[0merr\u001b[0m\u001b[0;34m\u001b[0m\u001b[0;34m\u001b[0m\u001b[0m\n\u001b[0m\u001b[1;32m   2901\u001b[0m \u001b[0;34m\u001b[0m\u001b[0m\n\u001b[1;32m   2902\u001b[0m         \u001b[0;32mif\u001b[0m \u001b[0mtolerance\u001b[0m \u001b[0;32mis\u001b[0m \u001b[0;32mnot\u001b[0m \u001b[0;32mNone\u001b[0m\u001b[0;34m:\u001b[0m\u001b[0;34m\u001b[0m\u001b[0;34m\u001b[0m\u001b[0m\n",
      "\u001b[0;31mKeyError\u001b[0m: 'optical_density_bin'"
     ]
    }
   ],
   "source": [
    "merged_df['incub_day_dilu_fact_optical_bin'] = merged_df['incubation_day'].astype(str) + \"_\" + merged_df['dilution_factor'].astype(str) + \"_\" + merged_df['optical_density_bin'].astype(str)\n",
    "merged_df['incub_day_dilu_fact_optical_bin'].nunique() "
   ]
  },
  {
   "cell_type": "markdown",
   "metadata": {},
   "source": [
    "# Train test split with stratify"
   ]
  },
  {
   "cell_type": "code",
   "execution_count": 203,
   "metadata": {},
   "outputs": [],
   "source": [
    "stratify_col=\"dilution_factor\""
   ]
  },
  {
   "cell_type": "code",
   "execution_count": 204,
   "metadata": {},
   "outputs": [],
   "source": [
    "from sklearn.model_selection import train_test_split\n",
    "split_array=merged_df[[\"file_name\",stratify_col]]"
   ]
  },
  {
   "cell_type": "code",
   "execution_count": 205,
   "metadata": {},
   "outputs": [
    {
     "data": {
      "text/html": [
       "<div>\n",
       "<style scoped>\n",
       "    .dataframe tbody tr th:only-of-type {\n",
       "        vertical-align: middle;\n",
       "    }\n",
       "\n",
       "    .dataframe tbody tr th {\n",
       "        vertical-align: top;\n",
       "    }\n",
       "\n",
       "    .dataframe thead th {\n",
       "        text-align: right;\n",
       "    }\n",
       "</style>\n",
       "<table border=\"1\" class=\"dataframe\">\n",
       "  <thead>\n",
       "    <tr style=\"text-align: right;\">\n",
       "      <th></th>\n",
       "      <th>file_name</th>\n",
       "      <th>dilution_factor</th>\n",
       "    </tr>\n",
       "  </thead>\n",
       "  <tbody>\n",
       "    <tr>\n",
       "      <th>0</th>\n",
       "      <td>7 c4 from agar plate 100mL bottle d1 20x undil...</td>\n",
       "      <td>0</td>\n",
       "    </tr>\n",
       "    <tr>\n",
       "      <th>16</th>\n",
       "      <td>7 c4 from agar plate 100mL bottle d1 20x undil...</td>\n",
       "      <td>0</td>\n",
       "    </tr>\n",
       "    <tr>\n",
       "      <th>38</th>\n",
       "      <td>7 c4 from agar plate 100mL bottle d1 20x undil...</td>\n",
       "      <td>0</td>\n",
       "    </tr>\n",
       "    <tr>\n",
       "      <th>53</th>\n",
       "      <td>7 c4 from agar plate 100mL bottle d1 20x undil...</td>\n",
       "      <td>0</td>\n",
       "    </tr>\n",
       "    <tr>\n",
       "      <th>68</th>\n",
       "      <td>7 c4 from agar plate 100mL bottle d1 20x undil...</td>\n",
       "      <td>0</td>\n",
       "    </tr>\n",
       "    <tr>\n",
       "      <th>...</th>\n",
       "      <td>...</td>\n",
       "      <td>...</td>\n",
       "    </tr>\n",
       "    <tr>\n",
       "      <th>22672</th>\n",
       "      <td>100_1280_0_1920_640.jpg</td>\n",
       "      <td>100</td>\n",
       "    </tr>\n",
       "    <tr>\n",
       "      <th>22677</th>\n",
       "      <td>100_0_440_640_1080.jpg</td>\n",
       "      <td>100</td>\n",
       "    </tr>\n",
       "    <tr>\n",
       "      <th>22686</th>\n",
       "      <td>100_512_440_1152_1080.jpg</td>\n",
       "      <td>100</td>\n",
       "    </tr>\n",
       "    <tr>\n",
       "      <th>22695</th>\n",
       "      <td>100_1024_440_1664_1080.jpg</td>\n",
       "      <td>100</td>\n",
       "    </tr>\n",
       "    <tr>\n",
       "      <th>22704</th>\n",
       "      <td>100_1280_440_1920_1080.jpg</td>\n",
       "      <td>100</td>\n",
       "    </tr>\n",
       "  </tbody>\n",
       "</table>\n",
       "<p>783 rows × 2 columns</p>\n",
       "</div>"
      ],
      "text/plain": [
       "                                               file_name  dilution_factor\n",
       "0      7 c4 from agar plate 100mL bottle d1 20x undil...                0\n",
       "16     7 c4 from agar plate 100mL bottle d1 20x undil...                0\n",
       "38     7 c4 from agar plate 100mL bottle d1 20x undil...                0\n",
       "53     7 c4 from agar plate 100mL bottle d1 20x undil...                0\n",
       "68     7 c4 from agar plate 100mL bottle d1 20x undil...                0\n",
       "...                                                  ...              ...\n",
       "22672                            100_1280_0_1920_640.jpg              100\n",
       "22677                             100_0_440_640_1080.jpg              100\n",
       "22686                          100_512_440_1152_1080.jpg              100\n",
       "22695                         100_1024_440_1664_1080.jpg              100\n",
       "22704                         100_1280_440_1920_1080.jpg              100\n",
       "\n",
       "[783 rows x 2 columns]"
      ]
     },
     "execution_count": 205,
     "metadata": {},
     "output_type": "execute_result"
    }
   ],
   "source": [
    "split_array=split_array.drop_duplicates()\n",
    "split_array"
   ]
  },
  {
   "cell_type": "code",
   "execution_count": 206,
   "metadata": {},
   "outputs": [],
   "source": [
    "# Split images into train & test sets\n",
    "train, test = train_test_split(\n",
    "    split_array, test_size=0.2, random_state=42, stratify=split_array[stratify_col]\n",
    ")   "
   ]
  },
  {
   "cell_type": "code",
   "execution_count": 207,
   "metadata": {},
   "outputs": [
    {
     "data": {
      "text/plain": [
       "0      326\n",
       "30      96\n",
       "5       76\n",
       "100     70\n",
       "10      58\n",
       "Name: dilution_factor, dtype: int64"
      ]
     },
     "execution_count": 207,
     "metadata": {},
     "output_type": "execute_result"
    }
   ],
   "source": [
    "train[stratify_col].value_counts()"
   ]
  },
  {
   "cell_type": "code",
   "execution_count": 208,
   "metadata": {},
   "outputs": [
    {
     "data": {
      "text/html": [
       "<div>\n",
       "<style scoped>\n",
       "    .dataframe tbody tr th:only-of-type {\n",
       "        vertical-align: middle;\n",
       "    }\n",
       "\n",
       "    .dataframe tbody tr th {\n",
       "        vertical-align: top;\n",
       "    }\n",
       "\n",
       "    .dataframe thead th {\n",
       "        text-align: right;\n",
       "    }\n",
       "</style>\n",
       "<table border=\"1\" class=\"dataframe\">\n",
       "  <thead>\n",
       "    <tr style=\"text-align: right;\">\n",
       "      <th></th>\n",
       "      <th>file_name</th>\n",
       "      <th>dilution_factor</th>\n",
       "    </tr>\n",
       "  </thead>\n",
       "  <tbody>\n",
       "    <tr>\n",
       "      <th>15531</th>\n",
       "      <td>61_1280_440_1920_1080.jpg</td>\n",
       "      <td>10</td>\n",
       "    </tr>\n",
       "    <tr>\n",
       "      <th>17789</th>\n",
       "      <td>98_1280_0_1920_640.jpg</td>\n",
       "      <td>100</td>\n",
       "    </tr>\n",
       "    <tr>\n",
       "      <th>1049</th>\n",
       "      <td>16_1280_440_1920_1080.jpg</td>\n",
       "      <td>0</td>\n",
       "    </tr>\n",
       "    <tr>\n",
       "      <th>6767</th>\n",
       "      <td>29_1024_0_1664_640.jpg</td>\n",
       "      <td>0</td>\n",
       "    </tr>\n",
       "    <tr>\n",
       "      <th>11830</th>\n",
       "      <td>36_512_0_1152_640.jpg</td>\n",
       "      <td>0</td>\n",
       "    </tr>\n",
       "    <tr>\n",
       "      <th>...</th>\n",
       "      <td>...</td>\n",
       "      <td>...</td>\n",
       "    </tr>\n",
       "    <tr>\n",
       "      <th>15558</th>\n",
       "      <td>60_512_0_1152_640.jpg</td>\n",
       "      <td>10</td>\n",
       "    </tr>\n",
       "    <tr>\n",
       "      <th>15540</th>\n",
       "      <td>60_0_0_640_640.jpg</td>\n",
       "      <td>10</td>\n",
       "    </tr>\n",
       "    <tr>\n",
       "      <th>7124</th>\n",
       "      <td>26_512_0_1152_640.jpg</td>\n",
       "      <td>5</td>\n",
       "    </tr>\n",
       "    <tr>\n",
       "      <th>6188</th>\n",
       "      <td>32_512_440_1152_1080.jpg</td>\n",
       "      <td>0</td>\n",
       "    </tr>\n",
       "    <tr>\n",
       "      <th>9630</th>\n",
       "      <td>48_0_440_640_1080.jpg</td>\n",
       "      <td>0</td>\n",
       "    </tr>\n",
       "  </tbody>\n",
       "</table>\n",
       "<p>626 rows × 2 columns</p>\n",
       "</div>"
      ],
      "text/plain": [
       "                       file_name  dilution_factor\n",
       "15531  61_1280_440_1920_1080.jpg               10\n",
       "17789     98_1280_0_1920_640.jpg              100\n",
       "1049   16_1280_440_1920_1080.jpg                0\n",
       "6767      29_1024_0_1664_640.jpg                0\n",
       "11830      36_512_0_1152_640.jpg                0\n",
       "...                          ...              ...\n",
       "15558      60_512_0_1152_640.jpg               10\n",
       "15540         60_0_0_640_640.jpg               10\n",
       "7124       26_512_0_1152_640.jpg                5\n",
       "6188    32_512_440_1152_1080.jpg                0\n",
       "9630       48_0_440_640_1080.jpg                0\n",
       "\n",
       "[626 rows x 2 columns]"
      ]
     },
     "execution_count": 208,
     "metadata": {},
     "output_type": "execute_result"
    }
   ],
   "source": [
    "train"
   ]
  },
  {
   "cell_type": "code",
   "execution_count": 209,
   "metadata": {},
   "outputs": [
    {
     "data": {
      "text/plain": [
       "<AxesSubplot:ylabel='Frequency'>"
      ]
     },
     "execution_count": 209,
     "metadata": {},
     "output_type": "execute_result"
    },
    {
     "data": {
      "image/png": "[encoded data removed]",
      "text/plain": [
       "<Figure size 432x288 with 1 Axes>"
      ]
     },
     "metadata": {
      "needs_background": "light"
     },
     "output_type": "display_data"
    }
   ],
   "source": [
    "train[stratify_col].plot.hist()"
   ]
  },
  {
   "cell_type": "code",
   "execution_count": 210,
   "metadata": {},
   "outputs": [
    {
     "data": {
      "text/plain": [
       "<AxesSubplot:ylabel='Frequency'>"
      ]
     },
     "execution_count": 210,
     "metadata": {},
     "output_type": "execute_result"
    },
    {
     "data": {
      "image/png": "[encoded data removed]",
      "text/plain": [
       "<Figure size 432x288 with 1 Axes>"
      ]
     },
     "metadata": {
      "needs_background": "light"
     },
     "output_type": "display_data"
    }
   ],
   "source": [
    "test[stratify_col].plot.hist()"
   ]
  },
  {
   "cell_type": "code",
   "execution_count": 211,
   "metadata": {},
   "outputs": [
    {
     "data": {
      "text/plain": [
       "0      52.076677\n",
       "30     15.335463\n",
       "5      12.140575\n",
       "100    11.182109\n",
       "10      9.265176\n",
       "Name: dilution_factor, dtype: float64"
      ]
     },
     "execution_count": 211,
     "metadata": {},
     "output_type": "execute_result"
    }
   ],
   "source": [
    "train[stratify_col].value_counts(normalize=True) * 100"
   ]
  },
  {
   "cell_type": "code",
   "execution_count": 212,
   "metadata": {},
   "outputs": [
    {
     "data": {
      "text/plain": [
       "0      52.229299\n",
       "30     15.286624\n",
       "5      12.101911\n",
       "100    11.464968\n",
       "10      8.917197\n",
       "Name: dilution_factor, dtype: float64"
      ]
     },
     "execution_count": 212,
     "metadata": {},
     "output_type": "execute_result"
    }
   ],
   "source": [
    "test[stratify_col].value_counts(normalize=True) * 100"
   ]
  },
  {
   "cell_type": "markdown",
   "metadata": {},
   "source": [
    "# Train test split without stratify"
   ]
  },
  {
   "cell_type": "code",
   "execution_count": 213,
   "metadata": {},
   "outputs": [],
   "source": [
    "# Split images into train & test sets\n",
    "train, test = train_test_split(\n",
    "    split_array, test_size=0.2, random_state=42\n",
    ")   "
   ]
  },
  {
   "cell_type": "code",
   "execution_count": 214,
   "metadata": {},
   "outputs": [
    {
     "data": {
      "text/html": [
       "<div>\n",
       "<style scoped>\n",
       "    .dataframe tbody tr th:only-of-type {\n",
       "        vertical-align: middle;\n",
       "    }\n",
       "\n",
       "    .dataframe tbody tr th {\n",
       "        vertical-align: top;\n",
       "    }\n",
       "\n",
       "    .dataframe thead th {\n",
       "        text-align: right;\n",
       "    }\n",
       "</style>\n",
       "<table border=\"1\" class=\"dataframe\">\n",
       "  <thead>\n",
       "    <tr style=\"text-align: right;\">\n",
       "      <th></th>\n",
       "      <th>file_name</th>\n",
       "      <th>dilution_factor</th>\n",
       "    </tr>\n",
       "  </thead>\n",
       "  <tbody>\n",
       "    <tr>\n",
       "      <th>19394</th>\n",
       "      <td>88_1024_0_1664_640.jpg</td>\n",
       "      <td>0</td>\n",
       "    </tr>\n",
       "    <tr>\n",
       "      <th>2903</th>\n",
       "      <td>19_1024_0_1664_640.jpg</td>\n",
       "      <td>0</td>\n",
       "    </tr>\n",
       "    <tr>\n",
       "      <th>7070</th>\n",
       "      <td>28_1280_440_1920_1080.jpg</td>\n",
       "      <td>0</td>\n",
       "    </tr>\n",
       "    <tr>\n",
       "      <th>1026</th>\n",
       "      <td>18_512_0_1152_640.jpg</td>\n",
       "      <td>0</td>\n",
       "    </tr>\n",
       "    <tr>\n",
       "      <th>22643</th>\n",
       "      <td>100_0_0_640_640.jpg</td>\n",
       "      <td>100</td>\n",
       "    </tr>\n",
       "    <tr>\n",
       "      <th>...</th>\n",
       "      <td>...</td>\n",
       "      <td>...</td>\n",
       "    </tr>\n",
       "    <tr>\n",
       "      <th>1052</th>\n",
       "      <td>15_512_0_1152_640.jpg</td>\n",
       "      <td>0</td>\n",
       "    </tr>\n",
       "    <tr>\n",
       "      <th>1954</th>\n",
       "      <td>23_1024_0_1664_640.jpg</td>\n",
       "      <td>5</td>\n",
       "    </tr>\n",
       "    <tr>\n",
       "      <th>7491</th>\n",
       "      <td>55_1280_440_1920_1080.jpg</td>\n",
       "      <td>10</td>\n",
       "    </tr>\n",
       "    <tr>\n",
       "      <th>12271</th>\n",
       "      <td>57_1280_0_1920_640.jpg</td>\n",
       "      <td>0</td>\n",
       "    </tr>\n",
       "    <tr>\n",
       "      <th>1870</th>\n",
       "      <td>24_1024_440_1664_1080.jpg</td>\n",
       "      <td>0</td>\n",
       "    </tr>\n",
       "  </tbody>\n",
       "</table>\n",
       "<p>626 rows × 2 columns</p>\n",
       "</div>"
      ],
      "text/plain": [
       "                       file_name  dilution_factor\n",
       "19394     88_1024_0_1664_640.jpg                0\n",
       "2903      19_1024_0_1664_640.jpg                0\n",
       "7070   28_1280_440_1920_1080.jpg                0\n",
       "1026       18_512_0_1152_640.jpg                0\n",
       "22643        100_0_0_640_640.jpg              100\n",
       "...                          ...              ...\n",
       "1052       15_512_0_1152_640.jpg                0\n",
       "1954      23_1024_0_1664_640.jpg                5\n",
       "7491   55_1280_440_1920_1080.jpg               10\n",
       "12271     57_1280_0_1920_640.jpg                0\n",
       "1870   24_1024_440_1664_1080.jpg                0\n",
       "\n",
       "[626 rows x 2 columns]"
      ]
     },
     "execution_count": 214,
     "metadata": {},
     "output_type": "execute_result"
    }
   ],
   "source": [
    "train"
   ]
  },
  {
   "cell_type": "code",
   "execution_count": 215,
   "metadata": {},
   "outputs": [
    {
     "data": {
      "text/plain": [
       "<AxesSubplot:ylabel='Frequency'>"
      ]
     },
     "execution_count": 215,
     "metadata": {},
     "output_type": "execute_result"
    },
    {
     "data": {
      "image/png": "[encoded data removed]",
      "text/plain": [
       "<Figure size 432x288 with 1 Axes>"
      ]
     },
     "metadata": {
      "needs_background": "light"
     },
     "output_type": "display_data"
    }
   ],
   "source": [
    "train[stratify_col].plot.hist()"
   ]
  },
  {
   "cell_type": "code",
   "execution_count": 216,
   "metadata": {},
   "outputs": [
    {
     "data": {
      "text/plain": [
       "<AxesSubplot:ylabel='Frequency'>"
      ]
     },
     "execution_count": 216,
     "metadata": {},
     "output_type": "execute_result"
    },
    {
     "data": {
      "image/png": "[encoded data removed]",
      "text/plain": [
       "<Figure size 432x288 with 1 Axes>"
      ]
     },
     "metadata": {
      "needs_background": "light"
     },
     "output_type": "display_data"
    }
   ],
   "source": [
    "test[stratify_col].plot.hist()"
   ]
  },
  {
   "cell_type": "code",
   "execution_count": 217,
   "metadata": {},
   "outputs": [
    {
     "data": {
      "text/plain": [
       "0      51.118211\n",
       "30     15.974441\n",
       "5      12.779553\n",
       "100    10.702875\n",
       "10      9.424920\n",
       "Name: dilution_factor, dtype: float64"
      ]
     },
     "execution_count": 217,
     "metadata": {},
     "output_type": "execute_result"
    }
   ],
   "source": [
    "train[stratify_col].value_counts(normalize=True) * 100"
   ]
  },
  {
   "cell_type": "code",
   "execution_count": 218,
   "metadata": {},
   "outputs": [
    {
     "data": {
      "text/plain": [
       "0      56.050955\n",
       "100    13.375796\n",
       "30     12.738854\n",
       "5       9.554140\n",
       "10      8.280255\n",
       "Name: dilution_factor, dtype: float64"
      ]
     },
     "execution_count": 218,
     "metadata": {},
     "output_type": "execute_result"
    }
   ],
   "source": [
    "test[stratify_col].value_counts(normalize=True) * 100"
   ]
  },
  {
   "cell_type": "code",
   "execution_count": 219,
   "metadata": {},
   "outputs": [
    {
     "data": {
      "text/plain": [
       "0      320\n",
       "30     100\n",
       "5       80\n",
       "100     67\n",
       "10      59\n",
       "Name: dilution_factor, dtype: int64"
      ]
     },
     "execution_count": 219,
     "metadata": {},
     "output_type": "execute_result"
    }
   ],
   "source": [
    "train[stratify_col].value_counts()"
   ]
  },
  {
   "cell_type": "code",
   "execution_count": 220,
   "metadata": {},
   "outputs": [
    {
     "data": {
      "text/html": [
       "<div>\n",
       "<style scoped>\n",
       "    .dataframe tbody tr th:only-of-type {\n",
       "        vertical-align: middle;\n",
       "    }\n",
       "\n",
       "    .dataframe tbody tr th {\n",
       "        vertical-align: top;\n",
       "    }\n",
       "\n",
       "    .dataframe thead th {\n",
       "        text-align: right;\n",
       "    }\n",
       "</style>\n",
       "<table border=\"1\" class=\"dataframe\">\n",
       "  <thead>\n",
       "    <tr style=\"text-align: right;\">\n",
       "      <th></th>\n",
       "      <th>file_name</th>\n",
       "      <th>dilution_factor</th>\n",
       "    </tr>\n",
       "  </thead>\n",
       "  <tbody>\n",
       "    <tr>\n",
       "      <th>15531</th>\n",
       "      <td>61_1280_440_1920_1080.jpg</td>\n",
       "      <td>10</td>\n",
       "    </tr>\n",
       "    <tr>\n",
       "      <th>7387</th>\n",
       "      <td>55_512_0_1152_640.jpg</td>\n",
       "      <td>10</td>\n",
       "    </tr>\n",
       "    <tr>\n",
       "      <th>21721</th>\n",
       "      <td>80_1280_0_1920_640.jpg</td>\n",
       "      <td>10</td>\n",
       "    </tr>\n",
       "    <tr>\n",
       "      <th>15469</th>\n",
       "      <td>61_512_0_1152_640.jpg</td>\n",
       "      <td>10</td>\n",
       "    </tr>\n",
       "    <tr>\n",
       "      <th>21010</th>\n",
       "      <td>84_0_440_640_1080.jpg</td>\n",
       "      <td>10</td>\n",
       "    </tr>\n",
       "    <tr>\n",
       "      <th>17481</th>\n",
       "      <td>56_1280_440_1920_1080.jpg</td>\n",
       "      <td>10</td>\n",
       "    </tr>\n",
       "    <tr>\n",
       "      <th>15482</th>\n",
       "      <td>61_1024_0_1664_640.jpg</td>\n",
       "      <td>10</td>\n",
       "    </tr>\n",
       "    <tr>\n",
       "      <th>15598</th>\n",
       "      <td>60_1280_0_1920_640.jpg</td>\n",
       "      <td>10</td>\n",
       "    </tr>\n",
       "    <tr>\n",
       "      <th>20567</th>\n",
       "      <td>86_512_0_1152_640.jpg</td>\n",
       "      <td>10</td>\n",
       "    </tr>\n",
       "    <tr>\n",
       "      <th>15508</th>\n",
       "      <td>61_512_440_1152_1080.jpg</td>\n",
       "      <td>10</td>\n",
       "    </tr>\n",
       "    <tr>\n",
       "      <th>15617</th>\n",
       "      <td>60_0_440_640_1080.jpg</td>\n",
       "      <td>10</td>\n",
       "    </tr>\n",
       "    <tr>\n",
       "      <th>21922</th>\n",
       "      <td>80_1280_440_1920_1080.jpg</td>\n",
       "      <td>10</td>\n",
       "    </tr>\n",
       "    <tr>\n",
       "      <th>21311</th>\n",
       "      <td>82_1024_0_1664_640.jpg</td>\n",
       "      <td>10</td>\n",
       "    </tr>\n",
       "    <tr>\n",
       "      <th>20537</th>\n",
       "      <td>86_0_0_640_640.jpg</td>\n",
       "      <td>10</td>\n",
       "    </tr>\n",
       "    <tr>\n",
       "      <th>21414</th>\n",
       "      <td>82_1024_440_1664_1080.jpg</td>\n",
       "      <td>10</td>\n",
       "    </tr>\n",
       "    <tr>\n",
       "      <th>20656</th>\n",
       "      <td>86_512_440_1152_1080.jpg</td>\n",
       "      <td>10</td>\n",
       "    </tr>\n",
       "    <tr>\n",
       "      <th>15522</th>\n",
       "      <td>61_1024_440_1664_1080.jpg</td>\n",
       "      <td>10</td>\n",
       "    </tr>\n",
       "    <tr>\n",
       "      <th>21152</th>\n",
       "      <td>84_1280_440_1920_1080.jpg</td>\n",
       "      <td>10</td>\n",
       "    </tr>\n",
       "    <tr>\n",
       "      <th>7464</th>\n",
       "      <td>55_512_440_1152_1080.jpg</td>\n",
       "      <td>10</td>\n",
       "    </tr>\n",
       "    <tr>\n",
       "      <th>21056</th>\n",
       "      <td>84_512_440_1152_1080.jpg</td>\n",
       "      <td>10</td>\n",
       "    </tr>\n",
       "    <tr>\n",
       "      <th>22119</th>\n",
       "      <td>78_1280_0_1920_640.jpg</td>\n",
       "      <td>10</td>\n",
       "    </tr>\n",
       "    <tr>\n",
       "      <th>21365</th>\n",
       "      <td>82_0_440_640_1080.jpg</td>\n",
       "      <td>10</td>\n",
       "    </tr>\n",
       "    <tr>\n",
       "      <th>15456</th>\n",
       "      <td>61_0_0_640_640.jpg</td>\n",
       "      <td>10</td>\n",
       "    </tr>\n",
       "    <tr>\n",
       "      <th>15498</th>\n",
       "      <td>61_0_440_640_1080.jpg</td>\n",
       "      <td>10</td>\n",
       "    </tr>\n",
       "    <tr>\n",
       "      <th>22062</th>\n",
       "      <td>78_512_0_1152_640.jpg</td>\n",
       "      <td>10</td>\n",
       "    </tr>\n",
       "    <tr>\n",
       "      <th>20687</th>\n",
       "      <td>86_1280_440_1920_1080.jpg</td>\n",
       "      <td>10</td>\n",
       "    </tr>\n",
       "    <tr>\n",
       "      <th>17429</th>\n",
       "      <td>56_0_440_640_1080.jpg</td>\n",
       "      <td>10</td>\n",
       "    </tr>\n",
       "    <tr>\n",
       "      <th>15581</th>\n",
       "      <td>60_1024_0_1664_640.jpg</td>\n",
       "      <td>10</td>\n",
       "    </tr>\n",
       "    <tr>\n",
       "      <th>20672</th>\n",
       "      <td>86_1024_440_1664_1080.jpg</td>\n",
       "      <td>10</td>\n",
       "    </tr>\n",
       "    <tr>\n",
       "      <th>21109</th>\n",
       "      <td>84_1024_440_1664_1080.jpg</td>\n",
       "      <td>10</td>\n",
       "    </tr>\n",
       "    <tr>\n",
       "      <th>22196</th>\n",
       "      <td>78_1280_440_1920_1080.jpg</td>\n",
       "      <td>10</td>\n",
       "    </tr>\n",
       "    <tr>\n",
       "      <th>21816</th>\n",
       "      <td>80_512_440_1152_1080.jpg</td>\n",
       "      <td>10</td>\n",
       "    </tr>\n",
       "    <tr>\n",
       "      <th>15655</th>\n",
       "      <td>60_1024_440_1664_1080.jpg</td>\n",
       "      <td>10</td>\n",
       "    </tr>\n",
       "    <tr>\n",
       "      <th>21338</th>\n",
       "      <td>82_1280_0_1920_640.jpg</td>\n",
       "      <td>10</td>\n",
       "    </tr>\n",
       "    <tr>\n",
       "      <th>7365</th>\n",
       "      <td>55_0_0_640_640.jpg</td>\n",
       "      <td>10</td>\n",
       "    </tr>\n",
       "    <tr>\n",
       "      <th>22100</th>\n",
       "      <td>78_1024_0_1664_640.jpg</td>\n",
       "      <td>10</td>\n",
       "    </tr>\n",
       "    <tr>\n",
       "      <th>22138</th>\n",
       "      <td>78_0_440_640_1080.jpg</td>\n",
       "      <td>10</td>\n",
       "    </tr>\n",
       "    <tr>\n",
       "      <th>17465</th>\n",
       "      <td>56_1024_440_1664_1080.jpg</td>\n",
       "      <td>10</td>\n",
       "    </tr>\n",
       "    <tr>\n",
       "      <th>22177</th>\n",
       "      <td>78_1024_440_1664_1080.jpg</td>\n",
       "      <td>10</td>\n",
       "    </tr>\n",
       "    <tr>\n",
       "      <th>22157</th>\n",
       "      <td>78_512_440_1152_1080.jpg</td>\n",
       "      <td>10</td>\n",
       "    </tr>\n",
       "    <tr>\n",
       "      <th>21871</th>\n",
       "      <td>80_1024_440_1664_1080.jpg</td>\n",
       "      <td>10</td>\n",
       "    </tr>\n",
       "    <tr>\n",
       "      <th>15675</th>\n",
       "      <td>60_1280_440_1920_1080.jpg</td>\n",
       "      <td>10</td>\n",
       "    </tr>\n",
       "    <tr>\n",
       "      <th>21669</th>\n",
       "      <td>80_1024_0_1664_640.jpg</td>\n",
       "      <td>10</td>\n",
       "    </tr>\n",
       "    <tr>\n",
       "      <th>17393</th>\n",
       "      <td>56_512_0_1152_640.jpg</td>\n",
       "      <td>10</td>\n",
       "    </tr>\n",
       "    <tr>\n",
       "      <th>15638</th>\n",
       "      <td>60_512_440_1152_1080.jpg</td>\n",
       "      <td>10</td>\n",
       "    </tr>\n",
       "    <tr>\n",
       "      <th>21437</th>\n",
       "      <td>82_1280_440_1920_1080.jpg</td>\n",
       "      <td>10</td>\n",
       "    </tr>\n",
       "    <tr>\n",
       "      <th>22044</th>\n",
       "      <td>78_0_0_640_640.jpg</td>\n",
       "      <td>10</td>\n",
       "    </tr>\n",
       "    <tr>\n",
       "      <th>7442</th>\n",
       "      <td>55_0_440_640_1080.jpg</td>\n",
       "      <td>10</td>\n",
       "    </tr>\n",
       "    <tr>\n",
       "      <th>21578</th>\n",
       "      <td>80_0_0_640_640.jpg</td>\n",
       "      <td>10</td>\n",
       "    </tr>\n",
       "    <tr>\n",
       "      <th>21389</th>\n",
       "      <td>82_512_440_1152_1080.jpg</td>\n",
       "      <td>10</td>\n",
       "    </tr>\n",
       "    <tr>\n",
       "      <th>20972</th>\n",
       "      <td>84_1280_0_1920_640.jpg</td>\n",
       "      <td>10</td>\n",
       "    </tr>\n",
       "    <tr>\n",
       "      <th>17404</th>\n",
       "      <td>56_1024_0_1664_640.jpg</td>\n",
       "      <td>10</td>\n",
       "    </tr>\n",
       "    <tr>\n",
       "      <th>15489</th>\n",
       "      <td>61_1280_0_1920_640.jpg</td>\n",
       "      <td>10</td>\n",
       "    </tr>\n",
       "    <tr>\n",
       "      <th>21625</th>\n",
       "      <td>80_512_0_1152_640.jpg</td>\n",
       "      <td>10</td>\n",
       "    </tr>\n",
       "    <tr>\n",
       "      <th>20597</th>\n",
       "      <td>86_1024_0_1664_640.jpg</td>\n",
       "      <td>10</td>\n",
       "    </tr>\n",
       "    <tr>\n",
       "      <th>15558</th>\n",
       "      <td>60_512_0_1152_640.jpg</td>\n",
       "      <td>10</td>\n",
       "    </tr>\n",
       "    <tr>\n",
       "      <th>20627</th>\n",
       "      <td>86_0_440_640_1080.jpg</td>\n",
       "      <td>10</td>\n",
       "    </tr>\n",
       "    <tr>\n",
       "      <th>7476</th>\n",
       "      <td>55_1024_440_1664_1080.jpg</td>\n",
       "      <td>10</td>\n",
       "    </tr>\n",
       "    <tr>\n",
       "      <th>7491</th>\n",
       "      <td>55_1280_440_1920_1080.jpg</td>\n",
       "      <td>10</td>\n",
       "    </tr>\n",
       "  </tbody>\n",
       "</table>\n",
       "</div>"
      ],
      "text/plain": [
       "                       file_name  dilution_factor\n",
       "15531  61_1280_440_1920_1080.jpg               10\n",
       "7387       55_512_0_1152_640.jpg               10\n",
       "21721     80_1280_0_1920_640.jpg               10\n",
       "15469      61_512_0_1152_640.jpg               10\n",
       "21010      84_0_440_640_1080.jpg               10\n",
       "17481  56_1280_440_1920_1080.jpg               10\n",
       "15482     61_1024_0_1664_640.jpg               10\n",
       "15598     60_1280_0_1920_640.jpg               10\n",
       "20567      86_512_0_1152_640.jpg               10\n",
       "15508   61_512_440_1152_1080.jpg               10\n",
       "15617      60_0_440_640_1080.jpg               10\n",
       "21922  80_1280_440_1920_1080.jpg               10\n",
       "21311     82_1024_0_1664_640.jpg               10\n",
       "20537         86_0_0_640_640.jpg               10\n",
       "21414  82_1024_440_1664_1080.jpg               10\n",
       "20656   86_512_440_1152_1080.jpg               10\n",
       "15522  61_1024_440_1664_1080.jpg               10\n",
       "21152  84_1280_440_1920_1080.jpg               10\n",
       "7464    55_512_440_1152_1080.jpg               10\n",
       "21056   84_512_440_1152_1080.jpg               10\n",
       "22119     78_1280_0_1920_640.jpg               10\n",
       "21365      82_0_440_640_1080.jpg               10\n",
       "15456         61_0_0_640_640.jpg               10\n",
       "15498      61_0_440_640_1080.jpg               10\n",
       "22062      78_512_0_1152_640.jpg               10\n",
       "20687  86_1280_440_1920_1080.jpg               10\n",
       "17429      56_0_440_640_1080.jpg               10\n",
       "15581     60_1024_0_1664_640.jpg               10\n",
       "20672  86_1024_440_1664_1080.jpg               10\n",
       "21109  84_1024_440_1664_1080.jpg               10\n",
       "22196  78_1280_440_1920_1080.jpg               10\n",
       "21816   80_512_440_1152_1080.jpg               10\n",
       "15655  60_1024_440_1664_1080.jpg               10\n",
       "21338     82_1280_0_1920_640.jpg               10\n",
       "7365          55_0_0_640_640.jpg               10\n",
       "22100     78_1024_0_1664_640.jpg               10\n",
       "22138      78_0_440_640_1080.jpg               10\n",
       "17465  56_1024_440_1664_1080.jpg               10\n",
       "22177  78_1024_440_1664_1080.jpg               10\n",
       "22157   78_512_440_1152_1080.jpg               10\n",
       "21871  80_1024_440_1664_1080.jpg               10\n",
       "15675  60_1280_440_1920_1080.jpg               10\n",
       "21669     80_1024_0_1664_640.jpg               10\n",
       "17393      56_512_0_1152_640.jpg               10\n",
       "15638   60_512_440_1152_1080.jpg               10\n",
       "21437  82_1280_440_1920_1080.jpg               10\n",
       "22044         78_0_0_640_640.jpg               10\n",
       "7442       55_0_440_640_1080.jpg               10\n",
       "21578         80_0_0_640_640.jpg               10\n",
       "21389   82_512_440_1152_1080.jpg               10\n",
       "20972     84_1280_0_1920_640.jpg               10\n",
       "17404     56_1024_0_1664_640.jpg               10\n",
       "15489     61_1280_0_1920_640.jpg               10\n",
       "21625      80_512_0_1152_640.jpg               10\n",
       "20597     86_1024_0_1664_640.jpg               10\n",
       "15558      60_512_0_1152_640.jpg               10\n",
       "20627      86_0_440_640_1080.jpg               10\n",
       "7476   55_1024_440_1664_1080.jpg               10\n",
       "7491   55_1280_440_1920_1080.jpg               10"
      ]
     },
     "execution_count": 220,
     "metadata": {},
     "output_type": "execute_result"
    }
   ],
   "source": [
    "train[train[stratify_col]==10]"
   ]
  },
  {
   "cell_type": "code",
   "execution_count": 221,
   "metadata": {},
   "outputs": [
    {
     "data": {
      "text/plain": [
       "Index(['file_name', 'dilution_factor'], dtype='object')"
      ]
     },
     "execution_count": 221,
     "metadata": {},
     "output_type": "execute_result"
    }
   ],
   "source": [
    "train.columns"
   ]
  },
  {
   "cell_type": "code",
   "execution_count": null,
   "metadata": {},
   "outputs": [],
   "source": []
  }
 ],
 "metadata": {
  "interpreter": {
   "hash": "9553393886d6552c400899bcf78cc75d9b3675c34f5060fe0dfd707398d7c3b3"
  },
  "kernelspec": {
   "display_name": "Python 3",
   "language": "python",
   "name": "python3"
  },
  "language_info": {
   "codemirror_mode": {
    "name": "ipython",
    "version": 3
   },
   "file_extension": ".py",
   "mimetype": "text/x-python",
   "name": "python",
   "nbconvert_exporter": "python",
   "pygments_lexer": "ipython3",
   "version": "3.6.13"
  }
 },
 "nbformat": 4,
 "nbformat_minor": 4
}
